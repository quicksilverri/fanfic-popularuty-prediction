{
  "nbformat": 4,
  "nbformat_minor": 0,
  "metadata": {
    "colab": {
      "name": "fanfic_popularity_predictor.ipynb",
      "provenance": [],
      "authorship_tag": "ABX9TyMcEY8/bZ9O2dK6dUWKqwkB",
      "include_colab_link": true
    },
    "kernelspec": {
      "name": "python3",
      "display_name": "Python 3"
    },
    "language_info": {
      "name": "python"
    }
  },
  "cells": [
    {
      "cell_type": "markdown",
      "metadata": {
        "id": "view-in-github",
        "colab_type": "text"
      },
      "source": [
        "<a href=\"https://colab.research.google.com/github/quicksilverri/fanfic-popularuty-prediction/blob/main/fanfic_popularity_predictor.ipynb\" target=\"_parent\"><img src=\"https://colab.research.google.com/assets/colab-badge.svg\" alt=\"Open In Colab\"/></a>"
      ]
    },
    {
      "cell_type": "markdown",
      "source": [
        "# Import staff"
      ],
      "metadata": {
        "id": "T7y1NbXYYXxz"
      }
    },
    {
      "cell_type": "code",
      "execution_count": 37,
      "metadata": {
        "id": "gh03JVW5YMRQ"
      },
      "outputs": [],
      "source": [
        "import requests as req\n",
        "from bs4 import BeautifulSoup\n",
        "import pandas as pd \n",
        "import seaborn as sns"
      ]
    },
    {
      "cell_type": "markdown",
      "source": [
        "# Get the data"
      ],
      "metadata": {
        "id": "UIkCfqZrnCRH"
      }
    },
    {
      "cell_type": "markdown",
      "source": [
        "### Create Fanfic class\n",
        "\n",
        "It's kinda long and simple, so it's hidden. "
      ],
      "metadata": {
        "id": "9JGbR1f6QnSJ"
      }
    },
    {
      "cell_type": "code",
      "source": [
        "def clean(list): \n",
        "  \"\"\"Extracts text from list of bs4.Tags\"\"\"\n",
        "\n",
        "  return [item.get_text() for item in list]"
      ],
      "metadata": {
        "id": "DieUMyhp9rHy"
      },
      "execution_count": 12,
      "outputs": []
    },
    {
      "cell_type": "code",
      "source": [
        "class Fanfic: \n",
        "  def __init__(self, fanfic):\n",
        "    self.fic = fanfic\n",
        "    self.info = {}\n",
        "\n",
        "    self.header = self.fic.select('.heading a')\n",
        "    \n",
        "    self.get_header()\n",
        "    self.get_chapters()\n",
        "    self.get_stats()\n",
        "    self.get_date()\n",
        "    self.get_tags()\n",
        "    self.get_square()\n",
        "\n",
        "  def get_header(self):\n",
        "    \"\"\"Sets title, author nickname and list of fandoms into self.stats dict\"\"\"\n",
        "    \n",
        "    title = self.header[0].get_text()\n",
        "    author = self.header[1].get_text()\n",
        "    fandoms = clean(self.header[2:])\n",
        "     \n",
        "    self.info['title'] = title\n",
        "    self.info['author'] = author\n",
        "    self.info['fandoms'] = fandoms\n",
        "\n",
        "  def get_chapters(self): \n",
        "    \"\"\"Sets number of chapters written and number of chapters intended\n",
        "    into self.stats dict\"\"\"\n",
        "\n",
        "    def smart_int(n):\n",
        "      try: \n",
        "        return int(n)\n",
        "      except:\n",
        "        return None\n",
        "\n",
        "    chapters = self.fic.select('dd.chapters')[0].get_text()\n",
        "    written, total = map(smart_int, chapters.split('/'))\n",
        "\n",
        "    self.info['written'] = written\n",
        "    self.info['total'] = total\n",
        "\n",
        "  def get_number(self, selector): \n",
        "     \"\"\"Processes numerical data (removes comma so it can be turned\n",
        "     into integer)\"\"\"\n",
        "\n",
        "     if self.fic.select(selector): \n",
        "\n",
        "       data = self.fic.select(selector)[0].get_text()\n",
        "       data = int(data.replace(',', ''))\n",
        "       return data\n",
        "        \n",
        "     return None\n",
        "\n",
        "  def get_stats(self): \n",
        "     \"\"\"Sets data collected in Stats section (words, hits, comments,\n",
        "     bookmarks, collections and language) into self.info dict\"\"\"\n",
        "      \n",
        "     words = self.get_number('dd.words')\n",
        "     hits = self.get_number('dd.hits')\n",
        "     comments = self.get_number('dd.comments')\n",
        "     bookmarks = self.get_number('dd.bookmarks')\n",
        "     collections = self.get_number('dd.collections')\n",
        "\n",
        "     lang = self.fic.select('dd.language')[0].get_text()\n",
        "     \n",
        "     self.info['words'] = words\n",
        "     self.info['hits'] = hits \n",
        "     self.info['comments'] = comments \n",
        "     self.info['bookmarks'] = bookmarks\n",
        "     self.info['collections'] = collections \n",
        "     self.info['lang'] = lang\n",
        "\n",
        "  def get_date(self):  # add date of first publishing??\n",
        "    \"\"\"Sets date of the most recent update into self.dict\"\"\"\n",
        "\n",
        "    date = self.fic.select('.datetime')[0].get_text()\n",
        "    self.info['date'] = date \n",
        "    \n",
        "  def get_tags(self): \n",
        "    \"\"\"Sets tag-like data into self.info dict\"\"\"\n",
        "\n",
        "    characters_raw = self.fic.select('.characters a.tag')\n",
        "    characters = clean(characters_raw)\n",
        "\n",
        "    parings_raw = self.fic.select('.relationships a.tag')\n",
        "    parings = clean(parings_raw)\n",
        "\n",
        "\n",
        "    self.info['characters'] = characters\n",
        "    self.info['parings'] = parings\n",
        "    self.info['tags'] = None\n",
        "    self.info['freeforms'] = None\n",
        "\n",
        "  def get_square(self): \n",
        "    \"\"\"Sets data from square to the left of fanfic title into self.info dict\"\"\"\n",
        "\n",
        "    self.info['rating'] = None\n",
        "    self.info['relationships'] = None\n",
        "    self.info['completion'] = None\n",
        "    self.info['warnings'] = None \n",
        "\n",
        "  def get_info(self):\n",
        "     \"\"\"Return all the data about Fanfic in a DataFrame\"\"\"\n",
        "\n",
        "     df = pd.DataFrame([self.info])\n",
        "\n",
        "     return df"
      ],
      "metadata": {
        "id": "ZvMJhILFnIQI"
      },
      "execution_count": 13,
      "outputs": []
    },
    {
      "cell_type": "markdown",
      "source": [
        "### Create FanficParser"
      ],
      "metadata": {
        "id": "Qxw67WczQrww"
      }
    },
    {
      "cell_type": "code",
      "source": [
        "class FanficParser: \n",
        "  def __init__(self, initial_link):\n",
        "    self.inlink = initial_link\n",
        "    self.domain = self.get_domain()\n",
        "    self.df = pd.DataFrame()\n",
        "    self.link = self.inlink\n",
        "\n",
        "  def get_domain(self):\n",
        "     end_of_link = self.inlink.find('/', 8)\n",
        "     domain = self.inlink[:end_of_link]\n",
        "     return domain\n",
        "  \n",
        "  def parse_page(self): \n",
        "    page = req.get(self.link)\n",
        "    soup = BeautifulSoup(page.content, 'html.parser')\n",
        "    fanfics = soup.select('[role~=article]')\n",
        "    \n",
        "    print(f'{self.link} parsed')\n",
        "\n",
        "    new_link_relative = soup.select('li.next a')[0].get('href')\n",
        "    self.link = self.domain + new_link_relative\n",
        "\n",
        "    return fanfics\n",
        "\n",
        "  def parse(self, n_pages): \n",
        "    for i in range(n_pages): \n",
        "      fanfics = self.parse_page()\n",
        "\n",
        "      for fanfic in fanfics:\n",
        "        self.df = self.df.append(Fanfic(fanfic).get_info())\n",
        "\n",
        "    print(f'total {self.df.shape[0]} fanfics')\n",
        "    \n",
        "    self.df.index = range(self.df.shape[0])\n",
        "\n",
        "  def reset(self):\n",
        "    self.df = pd.DataFrame()\n",
        "    self.link = self.inlink\n",
        "    "
      ],
      "metadata": {
        "id": "l-eetmC2_IgM"
      },
      "execution_count": 32,
      "outputs": []
    },
    {
      "cell_type": "code",
      "source": [
        "link = 'https://archiveofourown.org/tags/Marvel/works'\n",
        "parser = FanficParser(link)"
      ],
      "metadata": {
        "id": "Qu3TE-5MHWgA"
      },
      "execution_count": 33,
      "outputs": []
    },
    {
      "cell_type": "code",
      "source": [
        "parser.parse(3)"
      ],
      "metadata": {
        "id": "q3NOz94GHfw9",
        "outputId": "6be5a6c7-c53b-4539-e40f-b15ee98768c2",
        "colab": {
          "base_uri": "https://localhost:8080/"
        }
      },
      "execution_count": 35,
      "outputs": [
        {
          "output_type": "stream",
          "name": "stdout",
          "text": [
            "https://archiveofourown.org/tags/Marvel/works?page=4&view_adult=true parsed\n",
            "https://archiveofourown.org/tags/Marvel/works?page=5&view_adult=true parsed\n",
            "https://archiveofourown.org/tags/Marvel/works?page=6&view_adult=true parsed\n",
            "total 120 fanfics\n"
          ]
        }
      ]
    },
    {
      "cell_type": "code",
      "source": [
        "parser.df"
      ],
      "metadata": {
        "id": "8T0e0SVdHnNq",
        "outputId": "d3589ca1-a3b4-40bb-c327-e6c03dbd378c",
        "colab": {
          "base_uri": "https://localhost:8080/",
          "height": 1000
        }
      },
      "execution_count": 36,
      "outputs": [
        {
          "output_type": "execute_result",
          "data": {
            "text/plain": [
              "                                                 title  \\\n",
              "0                                             monsters   \n",
              "1    Perhaps We Can Save Each Other: A Peter Parker...   \n",
              "2                        Reminiscence  ( LokiXReader )   \n",
              "3                                     Fall if you want   \n",
              "4                         Where the Flowers go to Wilt   \n",
              "..                                                 ...   \n",
              "115                             Unplanned Obsolescence   \n",
              "116                     On our way to cure Mr Os's Ass   \n",
              "117             If Only Ikea Was Their Biggest Problem   \n",
              "118                        U boku króla Nowego Asgardu   \n",
              "119            Your Time Will Come, If You Wait for It   \n",
              "\n",
              "                        author  \\\n",
              "0         theilliterateironman   \n",
              "1                SpiderBat1996   \n",
              "2                       Nosayo   \n",
              "3                  glittercake   \n",
              "4                 Cyberpunk_69   \n",
              "..                         ...   \n",
              "115               HickoryDaisy   \n",
              "116   MaryVioletiqueWrites7708   \n",
              "117                  theemdash   \n",
              "118  janekburza (kas_delafere)   \n",
              "119             stevetonyedits   \n",
              "\n",
              "                                               fandoms  written total  words  \\\n",
              "0    [The Avengers (Marvel Movies), Marvel Cinemati...        5  None   4745   \n",
              "1    [Harry Potter - J. K. Rowling, Spider-Man (Tom...       26  None  99620   \n",
              "2    [Marvel Cinematic Universe, The Avengers (Marv...       19  None  64335   \n",
              "3    [The Falcon and the Winter Soldier (TV), Marve...        4     4  27395   \n",
              "4    [Dream SMP, Minecraft (Video Game), Marvel, Vi...        1     1    537   \n",
              "..                                                 ...      ...   ...    ...   \n",
              "115  [My Little Pony Generation 4: Friendship Is Ma...        1     1   1037   \n",
              "116  [Spider-Man - All Media Types, Spider-Man (Tom...        9  None   7169   \n",
              "117  [Captain America (Movies), Marvel Cinematic Un...        1     1    434   \n",
              "118                [Marvel, Marvel Cinematic Universe]        1     1   1045   \n",
              "119  [Spider-Man (Tom Holland Movies), Deadpool (Mo...        8  None  22989   \n",
              "\n",
              "     hits comments bookmarks collections     lang         date  \\\n",
              "0       0     None      None        None  English  10 Jul 2022   \n",
              "1    9104      195        62        None  English  09 Jul 2022   \n",
              "2     177     None         2        None  English  09 Jul 2022   \n",
              "3    1764       46        18        None  English  09 Jul 2022   \n",
              "4       0     None      None        None  English  09 Jul 2022   \n",
              "..    ...      ...       ...         ...      ...          ...   \n",
              "115    15     None      None        None  English  09 Jul 2022   \n",
              "116   689        6         2           1  English  09 Jul 2022   \n",
              "117    87        7         1        None  English  09 Jul 2022   \n",
              "118     4     None      None        None   Polski  09 Jul 2022   \n",
              "119  6066      109       106        None  English  09 Jul 2022   \n",
              "\n",
              "                                            characters  \\\n",
              "0    [Tony Stark, Nick Fury, Thor, Natasha Romanov ...   \n",
              "1    [Peter Parker, Harry Potter, Stephen Strange, ...   \n",
              "2    [Loki (Marvel), Thor (Marvel), Tony Stark, Bru...   \n",
              "3    [Sam Wilson (Marvel), James \"Bucky\" Barnes, Jo...   \n",
              "4    [TommyInnit (Video Blogging RPF), Toby Smith |...   \n",
              "..                                                 ...   \n",
              "115  [Myself, Pinkie Pie (My Little Pony: Friendshi...   \n",
              "116  [Peter Parker, Peter Benjamin Parker, Peter-Th...   \n",
              "117               [Steve Rogers, James \"Bucky\" Barnes]   \n",
              "118                           [Sif (Marvel), Valkyrie]   \n",
              "119                                                 []   \n",
              "\n",
              "                                               parings  tags freeforms rating  \\\n",
              "0    [Tony Stark & Original Character(s), Steve Rog...  None      None   None   \n",
              "1    [Peter Parker & Harry Potter, Kate Bishop & Ha...  None      None   None   \n",
              "2                                            [Loki/OC]  None      None   None   \n",
              "3    [James \"Bucky\" Barnes/Sam Wilson, Joaquín Torr...  None      None   None   \n",
              "4    [Wilbur Soot & Technoblade & TommyInnit & Phil...  None      None   None   \n",
              "..                                                 ...   ...       ...    ...   \n",
              "115                                                 []  None      None   None   \n",
              "116  [Harry Osborn & Peter Parker, Harry Osborn/Pet...  None      None   None   \n",
              "117                [James \"Bucky\" Barnes/Steve Rogers]  None      None   None   \n",
              "118                                     [Sif/Valkyrie]  None      None   None   \n",
              "119  [Matt Murdock/Peter Parker/Wade Wilson, Peter ...  None      None   None   \n",
              "\n",
              "    relationships completion warnings  \n",
              "0            None       None     None  \n",
              "1            None       None     None  \n",
              "2            None       None     None  \n",
              "3            None       None     None  \n",
              "4            None       None     None  \n",
              "..            ...        ...      ...  \n",
              "115          None       None     None  \n",
              "116          None       None     None  \n",
              "117          None       None     None  \n",
              "118          None       None     None  \n",
              "119          None       None     None  \n",
              "\n",
              "[120 rows x 20 columns]"
            ],
            "text/html": [
              "\n",
              "  <div id=\"df-c2bcaf04-1b8b-448d-a4ee-d1aa22235272\">\n",
              "    <div class=\"colab-df-container\">\n",
              "      <div>\n",
              "<style scoped>\n",
              "    .dataframe tbody tr th:only-of-type {\n",
              "        vertical-align: middle;\n",
              "    }\n",
              "\n",
              "    .dataframe tbody tr th {\n",
              "        vertical-align: top;\n",
              "    }\n",
              "\n",
              "    .dataframe thead th {\n",
              "        text-align: right;\n",
              "    }\n",
              "</style>\n",
              "<table border=\"1\" class=\"dataframe\">\n",
              "  <thead>\n",
              "    <tr style=\"text-align: right;\">\n",
              "      <th></th>\n",
              "      <th>title</th>\n",
              "      <th>author</th>\n",
              "      <th>fandoms</th>\n",
              "      <th>written</th>\n",
              "      <th>total</th>\n",
              "      <th>words</th>\n",
              "      <th>hits</th>\n",
              "      <th>comments</th>\n",
              "      <th>bookmarks</th>\n",
              "      <th>collections</th>\n",
              "      <th>lang</th>\n",
              "      <th>date</th>\n",
              "      <th>characters</th>\n",
              "      <th>parings</th>\n",
              "      <th>tags</th>\n",
              "      <th>freeforms</th>\n",
              "      <th>rating</th>\n",
              "      <th>relationships</th>\n",
              "      <th>completion</th>\n",
              "      <th>warnings</th>\n",
              "    </tr>\n",
              "  </thead>\n",
              "  <tbody>\n",
              "    <tr>\n",
              "      <th>0</th>\n",
              "      <td>monsters</td>\n",
              "      <td>theilliterateironman</td>\n",
              "      <td>[The Avengers (Marvel Movies), Marvel Cinemati...</td>\n",
              "      <td>5</td>\n",
              "      <td>None</td>\n",
              "      <td>4745</td>\n",
              "      <td>0</td>\n",
              "      <td>None</td>\n",
              "      <td>None</td>\n",
              "      <td>None</td>\n",
              "      <td>English</td>\n",
              "      <td>10 Jul 2022</td>\n",
              "      <td>[Tony Stark, Nick Fury, Thor, Natasha Romanov ...</td>\n",
              "      <td>[Tony Stark &amp; Original Character(s), Steve Rog...</td>\n",
              "      <td>None</td>\n",
              "      <td>None</td>\n",
              "      <td>None</td>\n",
              "      <td>None</td>\n",
              "      <td>None</td>\n",
              "      <td>None</td>\n",
              "    </tr>\n",
              "    <tr>\n",
              "      <th>1</th>\n",
              "      <td>Perhaps We Can Save Each Other: A Peter Parker...</td>\n",
              "      <td>SpiderBat1996</td>\n",
              "      <td>[Harry Potter - J. K. Rowling, Spider-Man (Tom...</td>\n",
              "      <td>26</td>\n",
              "      <td>None</td>\n",
              "      <td>99620</td>\n",
              "      <td>9104</td>\n",
              "      <td>195</td>\n",
              "      <td>62</td>\n",
              "      <td>None</td>\n",
              "      <td>English</td>\n",
              "      <td>09 Jul 2022</td>\n",
              "      <td>[Peter Parker, Harry Potter, Stephen Strange, ...</td>\n",
              "      <td>[Peter Parker &amp; Harry Potter, Kate Bishop &amp; Ha...</td>\n",
              "      <td>None</td>\n",
              "      <td>None</td>\n",
              "      <td>None</td>\n",
              "      <td>None</td>\n",
              "      <td>None</td>\n",
              "      <td>None</td>\n",
              "    </tr>\n",
              "    <tr>\n",
              "      <th>2</th>\n",
              "      <td>Reminiscence  ( LokiXReader )</td>\n",
              "      <td>Nosayo</td>\n",
              "      <td>[Marvel Cinematic Universe, The Avengers (Marv...</td>\n",
              "      <td>19</td>\n",
              "      <td>None</td>\n",
              "      <td>64335</td>\n",
              "      <td>177</td>\n",
              "      <td>None</td>\n",
              "      <td>2</td>\n",
              "      <td>None</td>\n",
              "      <td>English</td>\n",
              "      <td>09 Jul 2022</td>\n",
              "      <td>[Loki (Marvel), Thor (Marvel), Tony Stark, Bru...</td>\n",
              "      <td>[Loki/OC]</td>\n",
              "      <td>None</td>\n",
              "      <td>None</td>\n",
              "      <td>None</td>\n",
              "      <td>None</td>\n",
              "      <td>None</td>\n",
              "      <td>None</td>\n",
              "    </tr>\n",
              "    <tr>\n",
              "      <th>3</th>\n",
              "      <td>Fall if you want</td>\n",
              "      <td>glittercake</td>\n",
              "      <td>[The Falcon and the Winter Soldier (TV), Marve...</td>\n",
              "      <td>4</td>\n",
              "      <td>4</td>\n",
              "      <td>27395</td>\n",
              "      <td>1764</td>\n",
              "      <td>46</td>\n",
              "      <td>18</td>\n",
              "      <td>None</td>\n",
              "      <td>English</td>\n",
              "      <td>09 Jul 2022</td>\n",
              "      <td>[Sam Wilson (Marvel), James \"Bucky\" Barnes, Jo...</td>\n",
              "      <td>[James \"Bucky\" Barnes/Sam Wilson, Joaquín Torr...</td>\n",
              "      <td>None</td>\n",
              "      <td>None</td>\n",
              "      <td>None</td>\n",
              "      <td>None</td>\n",
              "      <td>None</td>\n",
              "      <td>None</td>\n",
              "    </tr>\n",
              "    <tr>\n",
              "      <th>4</th>\n",
              "      <td>Where the Flowers go to Wilt</td>\n",
              "      <td>Cyberpunk_69</td>\n",
              "      <td>[Dream SMP, Minecraft (Video Game), Marvel, Vi...</td>\n",
              "      <td>1</td>\n",
              "      <td>1</td>\n",
              "      <td>537</td>\n",
              "      <td>0</td>\n",
              "      <td>None</td>\n",
              "      <td>None</td>\n",
              "      <td>None</td>\n",
              "      <td>English</td>\n",
              "      <td>09 Jul 2022</td>\n",
              "      <td>[TommyInnit (Video Blogging RPF), Toby Smith |...</td>\n",
              "      <td>[Wilbur Soot &amp; Technoblade &amp; TommyInnit &amp; Phil...</td>\n",
              "      <td>None</td>\n",
              "      <td>None</td>\n",
              "      <td>None</td>\n",
              "      <td>None</td>\n",
              "      <td>None</td>\n",
              "      <td>None</td>\n",
              "    </tr>\n",
              "    <tr>\n",
              "      <th>...</th>\n",
              "      <td>...</td>\n",
              "      <td>...</td>\n",
              "      <td>...</td>\n",
              "      <td>...</td>\n",
              "      <td>...</td>\n",
              "      <td>...</td>\n",
              "      <td>...</td>\n",
              "      <td>...</td>\n",
              "      <td>...</td>\n",
              "      <td>...</td>\n",
              "      <td>...</td>\n",
              "      <td>...</td>\n",
              "      <td>...</td>\n",
              "      <td>...</td>\n",
              "      <td>...</td>\n",
              "      <td>...</td>\n",
              "      <td>...</td>\n",
              "      <td>...</td>\n",
              "      <td>...</td>\n",
              "      <td>...</td>\n",
              "    </tr>\n",
              "    <tr>\n",
              "      <th>115</th>\n",
              "      <td>Unplanned Obsolescence</td>\n",
              "      <td>HickoryDaisy</td>\n",
              "      <td>[My Little Pony Generation 4: Friendship Is Ma...</td>\n",
              "      <td>1</td>\n",
              "      <td>1</td>\n",
              "      <td>1037</td>\n",
              "      <td>15</td>\n",
              "      <td>None</td>\n",
              "      <td>None</td>\n",
              "      <td>None</td>\n",
              "      <td>English</td>\n",
              "      <td>09 Jul 2022</td>\n",
              "      <td>[Myself, Pinkie Pie (My Little Pony: Friendshi...</td>\n",
              "      <td>[]</td>\n",
              "      <td>None</td>\n",
              "      <td>None</td>\n",
              "      <td>None</td>\n",
              "      <td>None</td>\n",
              "      <td>None</td>\n",
              "      <td>None</td>\n",
              "    </tr>\n",
              "    <tr>\n",
              "      <th>116</th>\n",
              "      <td>On our way to cure Mr Os's Ass</td>\n",
              "      <td>MaryVioletiqueWrites7708</td>\n",
              "      <td>[Spider-Man - All Media Types, Spider-Man (Tom...</td>\n",
              "      <td>9</td>\n",
              "      <td>None</td>\n",
              "      <td>7169</td>\n",
              "      <td>689</td>\n",
              "      <td>6</td>\n",
              "      <td>2</td>\n",
              "      <td>1</td>\n",
              "      <td>English</td>\n",
              "      <td>09 Jul 2022</td>\n",
              "      <td>[Peter Parker, Peter Benjamin Parker, Peter-Th...</td>\n",
              "      <td>[Harry Osborn &amp; Peter Parker, Harry Osborn/Pet...</td>\n",
              "      <td>None</td>\n",
              "      <td>None</td>\n",
              "      <td>None</td>\n",
              "      <td>None</td>\n",
              "      <td>None</td>\n",
              "      <td>None</td>\n",
              "    </tr>\n",
              "    <tr>\n",
              "      <th>117</th>\n",
              "      <td>If Only Ikea Was Their Biggest Problem</td>\n",
              "      <td>theemdash</td>\n",
              "      <td>[Captain America (Movies), Marvel Cinematic Un...</td>\n",
              "      <td>1</td>\n",
              "      <td>1</td>\n",
              "      <td>434</td>\n",
              "      <td>87</td>\n",
              "      <td>7</td>\n",
              "      <td>1</td>\n",
              "      <td>None</td>\n",
              "      <td>English</td>\n",
              "      <td>09 Jul 2022</td>\n",
              "      <td>[Steve Rogers, James \"Bucky\" Barnes]</td>\n",
              "      <td>[James \"Bucky\" Barnes/Steve Rogers]</td>\n",
              "      <td>None</td>\n",
              "      <td>None</td>\n",
              "      <td>None</td>\n",
              "      <td>None</td>\n",
              "      <td>None</td>\n",
              "      <td>None</td>\n",
              "    </tr>\n",
              "    <tr>\n",
              "      <th>118</th>\n",
              "      <td>U boku króla Nowego Asgardu</td>\n",
              "      <td>janekburza (kas_delafere)</td>\n",
              "      <td>[Marvel, Marvel Cinematic Universe]</td>\n",
              "      <td>1</td>\n",
              "      <td>1</td>\n",
              "      <td>1045</td>\n",
              "      <td>4</td>\n",
              "      <td>None</td>\n",
              "      <td>None</td>\n",
              "      <td>None</td>\n",
              "      <td>Polski</td>\n",
              "      <td>09 Jul 2022</td>\n",
              "      <td>[Sif (Marvel), Valkyrie]</td>\n",
              "      <td>[Sif/Valkyrie]</td>\n",
              "      <td>None</td>\n",
              "      <td>None</td>\n",
              "      <td>None</td>\n",
              "      <td>None</td>\n",
              "      <td>None</td>\n",
              "      <td>None</td>\n",
              "    </tr>\n",
              "    <tr>\n",
              "      <th>119</th>\n",
              "      <td>Your Time Will Come, If You Wait for It</td>\n",
              "      <td>stevetonyedits</td>\n",
              "      <td>[Spider-Man (Tom Holland Movies), Deadpool (Mo...</td>\n",
              "      <td>8</td>\n",
              "      <td>None</td>\n",
              "      <td>22989</td>\n",
              "      <td>6066</td>\n",
              "      <td>109</td>\n",
              "      <td>106</td>\n",
              "      <td>None</td>\n",
              "      <td>English</td>\n",
              "      <td>09 Jul 2022</td>\n",
              "      <td>[]</td>\n",
              "      <td>[Matt Murdock/Peter Parker/Wade Wilson, Peter ...</td>\n",
              "      <td>None</td>\n",
              "      <td>None</td>\n",
              "      <td>None</td>\n",
              "      <td>None</td>\n",
              "      <td>None</td>\n",
              "      <td>None</td>\n",
              "    </tr>\n",
              "  </tbody>\n",
              "</table>\n",
              "<p>120 rows × 20 columns</p>\n",
              "</div>\n",
              "      <button class=\"colab-df-convert\" onclick=\"convertToInteractive('df-c2bcaf04-1b8b-448d-a4ee-d1aa22235272')\"\n",
              "              title=\"Convert this dataframe to an interactive table.\"\n",
              "              style=\"display:none;\">\n",
              "        \n",
              "  <svg xmlns=\"http://www.w3.org/2000/svg\" height=\"24px\"viewBox=\"0 0 24 24\"\n",
              "       width=\"24px\">\n",
              "    <path d=\"M0 0h24v24H0V0z\" fill=\"none\"/>\n",
              "    <path d=\"M18.56 5.44l.94 2.06.94-2.06 2.06-.94-2.06-.94-.94-2.06-.94 2.06-2.06.94zm-11 1L8.5 8.5l.94-2.06 2.06-.94-2.06-.94L8.5 2.5l-.94 2.06-2.06.94zm10 10l.94 2.06.94-2.06 2.06-.94-2.06-.94-.94-2.06-.94 2.06-2.06.94z\"/><path d=\"M17.41 7.96l-1.37-1.37c-.4-.4-.92-.59-1.43-.59-.52 0-1.04.2-1.43.59L10.3 9.45l-7.72 7.72c-.78.78-.78 2.05 0 2.83L4 21.41c.39.39.9.59 1.41.59.51 0 1.02-.2 1.41-.59l7.78-7.78 2.81-2.81c.8-.78.8-2.07 0-2.86zM5.41 20L4 18.59l7.72-7.72 1.47 1.35L5.41 20z\"/>\n",
              "  </svg>\n",
              "      </button>\n",
              "      \n",
              "  <style>\n",
              "    .colab-df-container {\n",
              "      display:flex;\n",
              "      flex-wrap:wrap;\n",
              "      gap: 12px;\n",
              "    }\n",
              "\n",
              "    .colab-df-convert {\n",
              "      background-color: #E8F0FE;\n",
              "      border: none;\n",
              "      border-radius: 50%;\n",
              "      cursor: pointer;\n",
              "      display: none;\n",
              "      fill: #1967D2;\n",
              "      height: 32px;\n",
              "      padding: 0 0 0 0;\n",
              "      width: 32px;\n",
              "    }\n",
              "\n",
              "    .colab-df-convert:hover {\n",
              "      background-color: #E2EBFA;\n",
              "      box-shadow: 0px 1px 2px rgba(60, 64, 67, 0.3), 0px 1px 3px 1px rgba(60, 64, 67, 0.15);\n",
              "      fill: #174EA6;\n",
              "    }\n",
              "\n",
              "    [theme=dark] .colab-df-convert {\n",
              "      background-color: #3B4455;\n",
              "      fill: #D2E3FC;\n",
              "    }\n",
              "\n",
              "    [theme=dark] .colab-df-convert:hover {\n",
              "      background-color: #434B5C;\n",
              "      box-shadow: 0px 1px 3px 1px rgba(0, 0, 0, 0.15);\n",
              "      filter: drop-shadow(0px 1px 2px rgba(0, 0, 0, 0.3));\n",
              "      fill: #FFFFFF;\n",
              "    }\n",
              "  </style>\n",
              "\n",
              "      <script>\n",
              "        const buttonEl =\n",
              "          document.querySelector('#df-c2bcaf04-1b8b-448d-a4ee-d1aa22235272 button.colab-df-convert');\n",
              "        buttonEl.style.display =\n",
              "          google.colab.kernel.accessAllowed ? 'block' : 'none';\n",
              "\n",
              "        async function convertToInteractive(key) {\n",
              "          const element = document.querySelector('#df-c2bcaf04-1b8b-448d-a4ee-d1aa22235272');\n",
              "          const dataTable =\n",
              "            await google.colab.kernel.invokeFunction('convertToInteractive',\n",
              "                                                     [key], {});\n",
              "          if (!dataTable) return;\n",
              "\n",
              "          const docLinkHtml = 'Like what you see? Visit the ' +\n",
              "            '<a target=\"_blank\" href=https://colab.research.google.com/notebooks/data_table.ipynb>data table notebook</a>'\n",
              "            + ' to learn more about interactive tables.';\n",
              "          element.innerHTML = '';\n",
              "          dataTable['output_type'] = 'display_data';\n",
              "          await google.colab.output.renderOutput(dataTable, element);\n",
              "          const docLink = document.createElement('div');\n",
              "          docLink.innerHTML = docLinkHtml;\n",
              "          element.appendChild(docLink);\n",
              "        }\n",
              "      </script>\n",
              "    </div>\n",
              "  </div>\n",
              "  "
            ]
          },
          "metadata": {},
          "execution_count": 36
        }
      ]
    },
    {
      "cell_type": "code",
      "source": [
        "class FanficAnalyzer:\n",
        "  pass "
      ],
      "metadata": {
        "id": "-bYPWIKV-_WN"
      },
      "execution_count": null,
      "outputs": []
    },
    {
      "cell_type": "code",
      "source": [
        "fandom_list = set()\n",
        "\n",
        "for fandoms in df.fandoms:\n",
        "  for fandom in fandoms: \n",
        "    fandom_list.add(fandom)"
      ],
      "metadata": {
        "id": "kVfJnoEyqt2c"
      },
      "execution_count": null,
      "outputs": []
    },
    {
      "cell_type": "code",
      "source": [
        "fandom_count = {}\n",
        "\n",
        "for fandoms in df.fandoms:\n",
        "  for fandom in fandoms: \n",
        "    try: \n",
        "      fandom_count[fandom] += 1\n",
        "    except: \n",
        "      fandom_count[fandom] = 1"
      ],
      "metadata": {
        "id": "0DX7tEJTrqFt"
      },
      "execution_count": null,
      "outputs": []
    },
    {
      "cell_type": "code",
      "source": [
        "count = pd.Series(fandom_count)"
      ],
      "metadata": {
        "id": "d8Pvu-kSsDpr"
      },
      "execution_count": null,
      "outputs": []
    },
    {
      "cell_type": "code",
      "source": [
        "count = count.sort_values(ascending=False)"
      ],
      "metadata": {
        "id": "Bqdmycd1sxSR"
      },
      "execution_count": null,
      "outputs": []
    },
    {
      "cell_type": "code",
      "source": [
        "df_count = pd.DataFrame()\n",
        "df_count['count'] = count\n",
        "df_count['fandom'] = count.index"
      ],
      "metadata": {
        "id": "4urcP86rtYnM"
      },
      "execution_count": null,
      "outputs": []
    },
    {
      "cell_type": "code",
      "source": [
        "import seaborn as sns\n",
        "import matplotlib.pyplot as plt\n",
        "\n",
        "%matplotlib inline"
      ],
      "metadata": {
        "id": "guIwdlyltDRg"
      },
      "execution_count": null,
      "outputs": []
    },
    {
      "cell_type": "code",
      "source": [
        "plt.figure(figsize=(6, 8))\n",
        "sns.barplot(data=df_count[df_count['count'] > 10], x='count', y='fandom', orient='h')"
      ],
      "metadata": {
        "colab": {
          "base_uri": "https://localhost:8080/",
          "height": 514
        },
        "id": "UA35tvBQtMD2",
        "outputId": "3090e679-f538-45e7-b7cc-f03b2e6a408f"
      },
      "execution_count": null,
      "outputs": [
        {
          "output_type": "execute_result",
          "data": {
            "text/plain": [
              "<matplotlib.axes._subplots.AxesSubplot at 0x7f1d7a0bed90>"
            ]
          },
          "metadata": {},
          "execution_count": 70
        },
        {
          "output_type": "display_data",
          "data": {
            "text/plain": [
              "<Figure size 432x576 with 1 Axes>"
            ],
            "image/png": "[encoded data removed]"
          },
          "metadata": {
            "needs_background": "light"
          }
        }
      ]
    },
    {
      "cell_type": "code",
      "source": [
        "len(fandom_list)"
      ],
      "metadata": {
        "colab": {
          "base_uri": "https://localhost:8080/"
        },
        "id": "3QtHBgPCrimC",
        "outputId": "d98cf5c2-d8b1-4077-e90e-f8f960cb9f8b"
      },
      "execution_count": null,
      "outputs": [
        {
          "output_type": "execute_result",
          "data": {
            "text/plain": [
              "534"
            ]
          },
          "metadata": {},
          "execution_count": 33
        }
      ]
    },
    {
      "cell_type": "code",
      "source": [
        "df.fandoms[0]"
      ],
      "metadata": {
        "colab": {
          "base_uri": "https://localhost:8080/",
          "height": 35
        },
        "id": "RKxfqVKngu5m",
        "outputId": "286d038c-513f-4aec-9cf1-2a695901abeb"
      },
      "execution_count": null,
      "outputs": [
        {
          "output_type": "execute_result",
          "data": {
            "text/plain": [
              "'Daredevil (TV)'"
            ],
            "application/vnd.google.colaboratory.intrinsic+json": {
              "type": "string"
            }
          },
          "metadata": {},
          "execution_count": 30
        }
      ]
    },
    {
      "cell_type": "markdown",
      "source": [
        "# Data preprocessing \n",
        "So now we have to figure out what type of data can be suitable for our model. \n",
        "\n",
        "1. Replace missing values \n",
        "2. Parse dates "
      ],
      "metadata": {
        "id": "tfnx-oG7asM8"
      }
    }
  ]
}