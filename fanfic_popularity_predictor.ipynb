{
  "nbformat": 4,
  "nbformat_minor": 0,
  "metadata": {
    "colab": {
      "name": "fanfic_popularity_predictor.ipynb",
      "provenance": [],
      "authorship_tag": "ABX9TyPef2YwxV0o2poGJw0Ikkb3",
      "include_colab_link": true
    },
    "kernelspec": {
      "name": "python3",
      "display_name": "Python 3"
    },
    "language_info": {
      "name": "python"
    }
  },
  "cells": [
    {
      "cell_type": "markdown",
      "metadata": {
        "id": "view-in-github",
        "colab_type": "text"
      },
      "source": [
        "<a href=\"https://colab.research.google.com/github/quicksilverri/fanfic-popularuty-prediction/blob/main/fanfic_popularity_predictor.ipynb\" target=\"_parent\"><img src=\"https://colab.research.google.com/assets/colab-badge.svg\" alt=\"Open In Colab\"/></a>"
      ]
    },
    {
      "cell_type": "markdown",
      "source": [
        "# Import staff"
      ],
      "metadata": {
        "id": "T7y1NbXYYXxz"
      }
    },
    {
      "cell_type": "code",
      "execution_count": 1,
      "metadata": {
        "id": "gh03JVW5YMRQ"
      },
      "outputs": [],
      "source": [
        "import requests as req\n",
        "from bs4 import BeautifulSoup\n",
        "import pandas as pd \n",
        "import seaborn as sns"
      ]
    },
    {
      "cell_type": "markdown",
      "source": [
        "# Get the data"
      ],
      "metadata": {
        "id": "UIkCfqZrnCRH"
      }
    },
    {
      "cell_type": "code",
      "source": [
        "marvel_link =  'https://archiveofourown.org/works?commit=Sort+and+Filter&work_search%5Bsort_column%5D=authors_to_sort_on&work_search%5Bother_tag_names%5D=&work_search%5Bexcluded_tag_names%5D=&work_search%5Bcrossover%5D=&work_search%5Bcomplete%5D=&work_search%5Bwords_from%5D=&work_search%5Bwords_to%5D=&work_search%5Bdate_from%5D=&work_search%5Bdate_to%5D=&work_search%5Bquery%5D=&work_search%5Blanguage_id%5D=&tag_id=Marvel'\n",
        "xmen_link = 'https://archiveofourown.org/works?work_search%5Bsort_column%5D=revised_at&work_search%5Bother_tag_names%5D=&exclude_work_search%5Bfreeform_ids%5D%5B%5D=11175&exclude_work_search%5Bfreeform_ids%5D%5B%5D=263297&work_search%5Bexcluded_tag_names%5D=&work_search%5Bcrossover%5D=&work_search%5Bcomplete%5D=&work_search%5Bwords_from%5D=&work_search%5Bwords_to%5D=&work_search%5Bdate_from%5D=&work_search%5Bdate_to%5D=&work_search%5Bquery%5D=&work_search%5Blanguage_id%5D=&commit=Sort+and+Filter&tag_id=Erik+Lehnsherr*s*Charles+Xavier'\n",
        "link = xmen_link\n",
        "pages = 1000"
      ],
      "metadata": {
        "id": "Qu3TE-5MHWgA"
      },
      "execution_count": 2,
      "outputs": []
    },
    {
      "cell_type": "markdown",
      "source": [
        "### Create Fanfic class\n",
        "\n",
        "It's kinda long and simple, so it's hidden. "
      ],
      "metadata": {
        "id": "9JGbR1f6QnSJ"
      }
    },
    {
      "cell_type": "code",
      "source": [
        "def clean(list): \n",
        "  \"\"\"Extracts text from list of bs4.Tags\"\"\"\n",
        "\n",
        "  return [item.get_text() for item in list]"
      ],
      "metadata": {
        "id": "DieUMyhp9rHy"
      },
      "execution_count": 3,
      "outputs": []
    },
    {
      "cell_type": "code",
      "source": [
        "class Fanfic: \n",
        "  def __init__(self, fanfic):\n",
        "    self.fic = fanfic\n",
        "    self.info = {}\n",
        "\n",
        "    self.header = self.fic.select('.heading a')\n",
        "    \n",
        "    self.get_header()\n",
        "    self.get_chapters()\n",
        "    self.get_stats()\n",
        "    self.get_date()\n",
        "    self.get_tags()\n",
        "    self.get_square()\n",
        "\n",
        "  def get_header(self):\n",
        "    \"\"\"Sets title, author nickname and list of fandoms into self.stats dict\"\"\"\n",
        "    \n",
        "    self.info['title'] = self.header[0].get_text()\n",
        "    self.info['author'] = self.header[1].get_text()\n",
        "    self.info['fandoms'] = clean(self.header[2:])\n",
        "\n",
        "  def get_chapters(self): \n",
        "    \"\"\"Sets number of chapters written and number of chapters intended\n",
        "    into self.stats dict\"\"\"\n",
        "\n",
        "    def smart_int(n):\n",
        "      try: \n",
        "        return int(n)\n",
        "      except:\n",
        "        return None\n",
        "\n",
        "    chapters = self.fic.select('dd.chapters')[0].get_text()\n",
        "    written, total = map(smart_int, chapters.split('/'))\n",
        "\n",
        "    self.info['written'] = written\n",
        "    self.info['total'] = total\n",
        "\n",
        "  def get_number(self, selector): \n",
        "     \"\"\"Processes numerical data (removes comma so it can be turned\n",
        "     into integer)\"\"\"\n",
        "\n",
        "     try: \n",
        "\n",
        "       data = self.fic.select(selector)[0].get_text()\n",
        "       data = int(data.replace(',', ''))\n",
        "       return data\n",
        "        \n",
        "     except: return None\n",
        "\n",
        "  def get_stats(self): \n",
        "     \"\"\"Sets data collected in Stats section (words, hits, comments,\n",
        "     bookmarks, collections and language) into self.info dict\"\"\"\n",
        "\n",
        "     self.info['words'] = self.get_number('dd.words')\n",
        "     self.info['hits'] = self.get_number('dd.hits') \n",
        "     self.info['comments'] = self.get_number('dd.comments') \n",
        "     self.info['bookmarks'] = self.get_number('dd.bookmarks')\n",
        "     self.info['collections'] = self.get_number('dd.collections') \n",
        "     self.info['lang'] = self.fic.select('dd.language')[0].get_text()\n",
        "     self.info['kudos'] = self.get_number('.kudos a')\n",
        "\n",
        "  def get_date(self):  # add date of first publishing??\n",
        "    \"\"\"Sets date of the most recent update into self.dict\"\"\"\n",
        "\n",
        "    self.info['date'] = self.fic.select('.datetime')[0].get_text() \n",
        "    \n",
        "  def get_tags(self): \n",
        "    \"\"\"Sets tag-like data into self.info dict\"\"\"\n",
        "\n",
        "    self.info['characters'] = clean(self.fic.select('.characters a.tag'))\n",
        "    self.info['parings'] = clean(self.fic.select('.relationships a.tag'))\n",
        "    self.info['freeforms'] = clean(self.fic.select('.freeforms a.tag'))\n",
        "\n",
        "  def get_square(self): \n",
        "    \"\"\"Sets data from square to the left of fanfic title into self.info dict\"\"\"\n",
        "\n",
        "    self.info['rating'] = self.fic.select('.rating .text')[0].get_text()\n",
        "    self.info['category'] = clean(self.fic.select('.category .text'))\n",
        "    self.info['completion'] = self.fic.select('.iswip .text')[0].get_text()\n",
        "    self.info['warnings'] = clean(self.fic.select('.warnings a.tag'))\n",
        "\n",
        "  def get_info(self):\n",
        "     \"\"\"Return all the data about Fanfic in a DataFrame\"\"\"\n",
        "\n",
        "     df = pd.DataFrame([self.info])\n",
        "\n",
        "     return df"
      ],
      "metadata": {
        "id": "ZvMJhILFnIQI"
      },
      "execution_count": 4,
      "outputs": []
    },
    {
      "cell_type": "markdown",
      "source": [
        "### Create FanficParser"
      ],
      "metadata": {
        "id": "Qxw67WczQrww"
      }
    },
    {
      "cell_type": "code",
      "source": [
        "class FanficParser: \n",
        "  def __init__(self, initial_link):\n",
        "    self.inlink = initial_link\n",
        "    self.domain = self.get_domain()\n",
        "    self.df = pd.DataFrame()\n",
        "    self.link = self.inlink\n",
        "    self.page = 1\n",
        "\n",
        "  def get_domain(self):\n",
        "     end_of_link = self.inlink.find('/', 8)\n",
        "     domain = self.inlink[:end_of_link]\n",
        "     return domain\n",
        "  \n",
        "  def parse_page(self): \n",
        "    page = req.get(self.link)\n",
        "    soup = BeautifulSoup(page.content, 'html.parser')\n",
        "    fanfics = soup.select('[role~=article]')\n",
        "    \n",
        "    print(f'{self.page} parsed')\n",
        "    self.page += 1\n",
        "\n",
        "    new_link_relative = soup.select('li.next a')[0].get('href')\n",
        "    self.link = self.domain + new_link_relative\n",
        "\n",
        "    return fanfics\n",
        "\n",
        "  def parse(self, n_pages): \n",
        "    for i in range(n_pages): \n",
        "      fanfics = self.parse_page()\n",
        "\n",
        "      for fanfic in fanfics:\n",
        "        self.df = self.df.append(Fanfic(fanfic).get_info())\n",
        "\n",
        "    print(f'total {self.df.shape[0]} fanfics')\n",
        "\n",
        "    self.df.index = range(self.df.shape[0])\n",
        "\n",
        "  def reset(self):\n",
        "    self.df = pd.DataFrame()\n",
        "    self.link = self.inlink\n",
        "    self.page = 1\n",
        "    print('Parser resetted')"
      ],
      "metadata": {
        "id": "l-eetmC2_IgM"
      },
      "execution_count": 5,
      "outputs": []
    },
    {
      "cell_type": "markdown",
      "source": [
        "## Parse info"
      ],
      "metadata": {
        "id": "gahaw9O4o7Of"
      }
    },
    {
      "cell_type": "code",
      "source": [
        "parser = FanficParser(link)\n",
        "parser.parse(pages)"
      ],
      "metadata": {
        "colab": {
          "base_uri": "https://localhost:8080/"
        },
        "id": "q3NOz94GHfw9",
        "outputId": "42d2328c-8b21-4bda-9ddd-d104a665e6dd"
      },
      "execution_count": 6,
      "outputs": [
        {
          "output_type": "stream",
          "name": "stdout",
          "text": [
            "1 parsed\n",
            "2 parsed\n",
            "3 parsed\n",
            "4 parsed\n",
            "5 parsed\n",
            "6 parsed\n",
            "7 parsed\n",
            "8 parsed\n",
            "9 parsed\n",
            "10 parsed\n",
            "11 parsed\n",
            "12 parsed\n",
            "13 parsed\n",
            "14 parsed\n",
            "15 parsed\n",
            "16 parsed\n",
            "17 parsed\n",
            "18 parsed\n",
            "19 parsed\n",
            "20 parsed\n",
            "21 parsed\n",
            "22 parsed\n",
            "23 parsed\n",
            "24 parsed\n",
            "25 parsed\n",
            "26 parsed\n",
            "27 parsed\n",
            "28 parsed\n",
            "29 parsed\n",
            "30 parsed\n",
            "31 parsed\n",
            "32 parsed\n",
            "33 parsed\n",
            "34 parsed\n",
            "35 parsed\n",
            "36 parsed\n",
            "37 parsed\n",
            "38 parsed\n",
            "39 parsed\n",
            "40 parsed\n",
            "41 parsed\n",
            "42 parsed\n",
            "43 parsed\n",
            "44 parsed\n",
            "45 parsed\n",
            "46 parsed\n",
            "47 parsed\n",
            "48 parsed\n",
            "49 parsed\n",
            "50 parsed\n",
            "51 parsed\n",
            "52 parsed\n",
            "53 parsed\n",
            "54 parsed\n",
            "55 parsed\n",
            "56 parsed\n",
            "57 parsed\n",
            "58 parsed\n",
            "59 parsed\n",
            "60 parsed\n",
            "61 parsed\n",
            "62 parsed\n",
            "63 parsed\n",
            "64 parsed\n",
            "65 parsed\n",
            "66 parsed\n",
            "67 parsed\n",
            "68 parsed\n",
            "69 parsed\n",
            "70 parsed\n",
            "71 parsed\n",
            "72 parsed\n",
            "73 parsed\n",
            "74 parsed\n",
            "75 parsed\n",
            "76 parsed\n",
            "77 parsed\n",
            "78 parsed\n",
            "79 parsed\n",
            "80 parsed\n",
            "81 parsed\n",
            "82 parsed\n",
            "83 parsed\n",
            "84 parsed\n",
            "85 parsed\n",
            "86 parsed\n",
            "87 parsed\n",
            "88 parsed\n",
            "89 parsed\n",
            "90 parsed\n",
            "91 parsed\n",
            "92 parsed\n",
            "93 parsed\n",
            "94 parsed\n",
            "95 parsed\n",
            "96 parsed\n",
            "97 parsed\n",
            "98 parsed\n",
            "99 parsed\n",
            "100 parsed\n",
            "total 2000 fanfics\n"
          ]
        }
      ]
    },
    {
      "cell_type": "code",
      "source": [
        "parser.parse(pages)"
      ],
      "metadata": {
        "id": "YxSBYeiLJZjD",
        "outputId": "4159dc5f-888f-4cd8-aec0-7be53bacc01e",
        "colab": {
          "base_uri": "https://localhost:8080/",
          "height": 328
        }
      },
      "execution_count": 42,
      "outputs": [
        {
          "output_type": "stream",
          "name": "stdout",
          "text": [
            "357 parsed\n"
          ]
        },
        {
          "output_type": "error",
          "ename": "IndexError",
          "evalue": "ignored",
          "traceback": [
            "\u001b[0;31m---------------------------------------------------------------------------\u001b[0m",
            "\u001b[0;31mIndexError\u001b[0m                                Traceback (most recent call last)",
            "\u001b[0;32m<ipython-input-42-391dab1c32e7>\u001b[0m in \u001b[0;36m<module>\u001b[0;34m()\u001b[0m\n\u001b[0;32m----> 1\u001b[0;31m \u001b[0mparser\u001b[0m\u001b[0;34m.\u001b[0m\u001b[0mparse\u001b[0m\u001b[0;34m(\u001b[0m\u001b[0mpages\u001b[0m\u001b[0;34m)\u001b[0m\u001b[0;34m\u001b[0m\u001b[0;34m\u001b[0m\u001b[0m\n\u001b[0m",
            "\u001b[0;32m<ipython-input-5-4a1062787caf>\u001b[0m in \u001b[0;36mparse\u001b[0;34m(self, n_pages)\u001b[0m\n\u001b[1;32m     27\u001b[0m   \u001b[0;32mdef\u001b[0m \u001b[0mparse\u001b[0m\u001b[0;34m(\u001b[0m\u001b[0mself\u001b[0m\u001b[0;34m,\u001b[0m \u001b[0mn_pages\u001b[0m\u001b[0;34m)\u001b[0m\u001b[0;34m:\u001b[0m\u001b[0;34m\u001b[0m\u001b[0;34m\u001b[0m\u001b[0m\n\u001b[1;32m     28\u001b[0m     \u001b[0;32mfor\u001b[0m \u001b[0mi\u001b[0m \u001b[0;32min\u001b[0m \u001b[0mrange\u001b[0m\u001b[0;34m(\u001b[0m\u001b[0mn_pages\u001b[0m\u001b[0;34m)\u001b[0m\u001b[0;34m:\u001b[0m\u001b[0;34m\u001b[0m\u001b[0;34m\u001b[0m\u001b[0m\n\u001b[0;32m---> 29\u001b[0;31m       \u001b[0mfanfics\u001b[0m \u001b[0;34m=\u001b[0m \u001b[0mself\u001b[0m\u001b[0;34m.\u001b[0m\u001b[0mparse_page\u001b[0m\u001b[0;34m(\u001b[0m\u001b[0;34m)\u001b[0m\u001b[0;34m\u001b[0m\u001b[0;34m\u001b[0m\u001b[0m\n\u001b[0m\u001b[1;32m     30\u001b[0m \u001b[0;34m\u001b[0m\u001b[0m\n\u001b[1;32m     31\u001b[0m       \u001b[0;32mfor\u001b[0m \u001b[0mfanfic\u001b[0m \u001b[0;32min\u001b[0m \u001b[0mfanfics\u001b[0m\u001b[0;34m:\u001b[0m\u001b[0;34m\u001b[0m\u001b[0;34m\u001b[0m\u001b[0m\n",
            "\u001b[0;32m<ipython-input-5-4a1062787caf>\u001b[0m in \u001b[0;36mparse_page\u001b[0;34m(self)\u001b[0m\n\u001b[1;32m     20\u001b[0m     \u001b[0mself\u001b[0m\u001b[0;34m.\u001b[0m\u001b[0mpage\u001b[0m \u001b[0;34m+=\u001b[0m \u001b[0;36m1\u001b[0m\u001b[0;34m\u001b[0m\u001b[0;34m\u001b[0m\u001b[0m\n\u001b[1;32m     21\u001b[0m \u001b[0;34m\u001b[0m\u001b[0m\n\u001b[0;32m---> 22\u001b[0;31m     \u001b[0mnew_link_relative\u001b[0m \u001b[0;34m=\u001b[0m \u001b[0msoup\u001b[0m\u001b[0;34m.\u001b[0m\u001b[0mselect\u001b[0m\u001b[0;34m(\u001b[0m\u001b[0;34m'li.next a'\u001b[0m\u001b[0;34m)\u001b[0m\u001b[0;34m[\u001b[0m\u001b[0;36m0\u001b[0m\u001b[0;34m]\u001b[0m\u001b[0;34m.\u001b[0m\u001b[0mget\u001b[0m\u001b[0;34m(\u001b[0m\u001b[0;34m'href'\u001b[0m\u001b[0;34m)\u001b[0m\u001b[0;34m\u001b[0m\u001b[0;34m\u001b[0m\u001b[0m\n\u001b[0m\u001b[1;32m     23\u001b[0m     \u001b[0mself\u001b[0m\u001b[0;34m.\u001b[0m\u001b[0mlink\u001b[0m \u001b[0;34m=\u001b[0m \u001b[0mself\u001b[0m\u001b[0;34m.\u001b[0m\u001b[0mdomain\u001b[0m \u001b[0;34m+\u001b[0m \u001b[0mnew_link_relative\u001b[0m\u001b[0;34m\u001b[0m\u001b[0;34m\u001b[0m\u001b[0m\n\u001b[1;32m     24\u001b[0m \u001b[0;34m\u001b[0m\u001b[0m\n",
            "\u001b[0;31mIndexError\u001b[0m: list index out of range"
          ]
        }
      ]
    },
    {
      "cell_type": "code",
      "source": [
        "df = parser.df"
      ],
      "metadata": {
        "id": "Y9TM0mDgPpti"
      },
      "execution_count": 44,
      "outputs": []
    },
    {
      "cell_type": "code",
      "source": [
        "df.shape"
      ],
      "metadata": {
        "colab": {
          "base_uri": "https://localhost:8080/"
        },
        "id": "5WVLPG7w2MU9",
        "outputId": "9dc0cd2e-910a-4eea-eef9-0e5f5325b3da"
      },
      "execution_count": 45,
      "outputs": [
        {
          "output_type": "execute_result",
          "data": {
            "text/plain": [
              "(7063, 20)"
            ]
          },
          "metadata": {},
          "execution_count": 45
        }
      ]
    },
    {
      "cell_type": "markdown",
      "source": [
        "# Data preprocessing \n",
        "So now we have to figure out what type of data can be suitable for our model. \n",
        "\n",
        "1. Replace missing values \n",
        "2. Parse dates \n",
        "3. Replace categorical values with numbers"
      ],
      "metadata": {
        "id": "tfnx-oG7asM8"
      }
    },
    {
      "cell_type": "code",
      "source": [
        "df['comments'] = df['comments'].fillna(0)\n",
        "df['bookmarks'] = df['bookmarks'].fillna(0)\n",
        "df['collections'] = df['collections'].fillna(0)\n",
        "df['kudos'] = df['kudos'].fillna(0)"
      ],
      "metadata": {
        "id": "STwUZLb1mSne"
      },
      "execution_count": 46,
      "outputs": []
    },
    {
      "cell_type": "code",
      "source": [
        "ratings = {\n",
        "    'Not Rated': -1,\n",
        "    'General Audiences': 0, \n",
        "    'Teen And Up Audiences': 1, \n",
        "    'Mature': 2, \n",
        "    'Explicit': 3, \n",
        "}\n",
        "replace_rating = lambda x: ratings[x] if x not in [-1, 0, 1, 2, 3] else x\n",
        "df['rating'] = df['rating'].apply(replace_rating)"
      ],
      "metadata": {
        "id": "t9Z6w-G0yqst"
      },
      "execution_count": 49,
      "outputs": []
    },
    {
      "cell_type": "code",
      "source": [
        "completion = {'Work in Progress': 0, 'Complete Work': 1}\n",
        "replace_completion = lambda x: completion[x] if x not in [0, 1] else x\n",
        "df['completion'] = df['completion'].apply(replace_completion)"
      ],
      "metadata": {
        "id": "oTGfwkcezuzP"
      },
      "execution_count": 51,
      "outputs": []
    },
    {
      "cell_type": "code",
      "source": [
        "df['date'] = df['date'].apply(pd.to_datetime)"
      ],
      "metadata": {
        "id": "6NJyYu-W30tR"
      },
      "execution_count": 52,
      "outputs": []
    },
    {
      "cell_type": "markdown",
      "source": [
        "# IDK staff"
      ],
      "metadata": {
        "id": "dCMrHnN7e83F"
      }
    },
    {
      "cell_type": "markdown",
      "source": [
        "## Let's look at the data"
      ],
      "metadata": {
        "id": "ObGPftSlNjsT"
      }
    },
    {
      "cell_type": "code",
      "source": [
        "fandom_list = set()\n",
        "\n",
        "for fandoms in df.fandoms:\n",
        "  for fandom in fandoms: \n",
        "    fandom_list.add(fandom)"
      ],
      "metadata": {
        "id": "kVfJnoEyqt2c"
      },
      "execution_count": 13,
      "outputs": []
    },
    {
      "cell_type": "code",
      "source": [
        "fandom_count = {}\n",
        "\n",
        "for fandoms in df.fandoms:\n",
        "  for fandom in fandoms: \n",
        "    try: \n",
        "      fandom_count[fandom] += 1\n",
        "    except: \n",
        "      fandom_count[fandom] = 1"
      ],
      "metadata": {
        "id": "0DX7tEJTrqFt"
      },
      "execution_count": 14,
      "outputs": []
    },
    {
      "cell_type": "code",
      "source": [
        "count = pd.Series(fandom_count)"
      ],
      "metadata": {
        "id": "d8Pvu-kSsDpr"
      },
      "execution_count": 15,
      "outputs": []
    },
    {
      "cell_type": "code",
      "source": [
        "count = count.sort_values(ascending=False)"
      ],
      "metadata": {
        "id": "Bqdmycd1sxSR"
      },
      "execution_count": 16,
      "outputs": []
    },
    {
      "cell_type": "code",
      "source": [
        "df_count = pd.DataFrame()\n",
        "df_count['count'] = count\n",
        "df_count['fandom'] = count.index"
      ],
      "metadata": {
        "id": "4urcP86rtYnM"
      },
      "execution_count": 17,
      "outputs": []
    },
    {
      "cell_type": "code",
      "source": [
        "import seaborn as sns\n",
        "import matplotlib.pyplot as plt\n",
        "\n",
        "%matplotlib inline"
      ],
      "metadata": {
        "id": "guIwdlyltDRg"
      },
      "execution_count": 18,
      "outputs": []
    },
    {
      "cell_type": "code",
      "source": [
        "plt.figure(figsize=(6, 8))\n",
        "sns.barplot(data=df_count[df_count['count'] > 10], x='count', y='fandom', orient='h')"
      ],
      "metadata": {
        "colab": {
          "base_uri": "https://localhost:8080/",
          "height": 0
        },
        "id": "UA35tvBQtMD2",
        "outputId": "1cbe1539-8a26-4f20-adec-ea982edf17e1"
      },
      "execution_count": 19,
      "outputs": [
        {
          "output_type": "execute_result",
          "data": {
            "text/plain": [
              "<matplotlib.axes._subplots.AxesSubplot at 0x7fb755df3d90>"
            ]
          },
          "metadata": {},
          "execution_count": 19
        },
        {
          "output_type": "display_data",
          "data": {
            "text/plain": [
              "<Figure size 432x576 with 1 Axes>"
            ],
            "image/png": "[encoded data removed]"
          },
          "metadata": {
            "needs_background": "light"
          }
        }
      ]
    },
    {
      "cell_type": "code",
      "source": [
        "len(fandom_list)"
      ],
      "metadata": {
        "colab": {
          "base_uri": "https://localhost:8080/"
        },
        "id": "3QtHBgPCrimC",
        "outputId": "0fb6e9c5-2f3c-4449-92cd-5b1ba2866e2b"
      },
      "execution_count": 20,
      "outputs": [
        {
          "output_type": "execute_result",
          "data": {
            "text/plain": [
              "558"
            ]
          },
          "metadata": {},
          "execution_count": 20
        }
      ]
    },
    {
      "cell_type": "code",
      "source": [
        "df.fandoms[0]"
      ],
      "metadata": {
        "colab": {
          "base_uri": "https://localhost:8080/"
        },
        "id": "RKxfqVKngu5m",
        "outputId": "d0f99d00-5034-4a0a-81de-36b80679d2c9"
      },
      "execution_count": 21,
      "outputs": [
        {
          "output_type": "execute_result",
          "data": {
            "text/plain": [
              "['X-Men - All Media Types', 'X-Men (Movieverse)']"
            ]
          },
          "metadata": {},
          "execution_count": 21
        }
      ]
    },
    {
      "cell_type": "code",
      "source": [
        "df.sample()"
      ],
      "metadata": {
        "colab": {
          "base_uri": "https://localhost:8080/",
          "height": 0
        },
        "id": "ECqn34JXpWf_",
        "outputId": "4dc6a304-3644-4849-f030-983d5955d11a"
      },
      "execution_count": 22,
      "outputs": [
        {
          "output_type": "execute_result",
          "data": {
            "text/plain": [
              "                    title     author               fandoms  written total  \\\n",
              "1296  Beso en la prision.  Eli_ana10  [X-Men (Movieverse)]        1     1   \n",
              "\n",
              "     words  hits  comments  bookmarks  collections     lang  kudos       date  \\\n",
              "1296   441   635         0          3            0  Español     62 2021-02-19   \n",
              "\n",
              "                                             characters  \\\n",
              "1296  [Pietro Maximoff, Logan (X-Men), Erik Lehnsher...   \n",
              "\n",
              "                                                parings       freeforms  \\\n",
              "1296  [Erik Lehnsherr/Charles Xavier, Logan (X-Men)/...  [Escape, beso]   \n",
              "\n",
              "      rating category  completion                                     warnings  \n",
              "1296       0    [M/M]           1  [Creator Chose Not To Use Archive Warnings]  "
            ],
            "text/html": [
              "\n",
              "  <div id=\"df-69e23bad-8b1d-444b-98bc-2cb09b53a063\">\n",
              "    <div class=\"colab-df-container\">\n",
              "      <div>\n",
              "<style scoped>\n",
              "    .dataframe tbody tr th:only-of-type {\n",
              "        vertical-align: middle;\n",
              "    }\n",
              "\n",
              "    .dataframe tbody tr th {\n",
              "        vertical-align: top;\n",
              "    }\n",
              "\n",
              "    .dataframe thead th {\n",
              "        text-align: right;\n",
              "    }\n",
              "</style>\n",
              "<table border=\"1\" class=\"dataframe\">\n",
              "  <thead>\n",
              "    <tr style=\"text-align: right;\">\n",
              "      <th></th>\n",
              "      <th>title</th>\n",
              "      <th>author</th>\n",
              "      <th>fandoms</th>\n",
              "      <th>written</th>\n",
              "      <th>total</th>\n",
              "      <th>words</th>\n",
              "      <th>hits</th>\n",
              "      <th>comments</th>\n",
              "      <th>bookmarks</th>\n",
              "      <th>collections</th>\n",
              "      <th>lang</th>\n",
              "      <th>kudos</th>\n",
              "      <th>date</th>\n",
              "      <th>characters</th>\n",
              "      <th>parings</th>\n",
              "      <th>freeforms</th>\n",
              "      <th>rating</th>\n",
              "      <th>category</th>\n",
              "      <th>completion</th>\n",
              "      <th>warnings</th>\n",
              "    </tr>\n",
              "  </thead>\n",
              "  <tbody>\n",
              "    <tr>\n",
              "      <th>1296</th>\n",
              "      <td>Beso en la prision.</td>\n",
              "      <td>Eli_ana10</td>\n",
              "      <td>[X-Men (Movieverse)]</td>\n",
              "      <td>1</td>\n",
              "      <td>1</td>\n",
              "      <td>441</td>\n",
              "      <td>635</td>\n",
              "      <td>0</td>\n",
              "      <td>3</td>\n",
              "      <td>0</td>\n",
              "      <td>Español</td>\n",
              "      <td>62</td>\n",
              "      <td>2021-02-19</td>\n",
              "      <td>[Pietro Maximoff, Logan (X-Men), Erik Lehnsher...</td>\n",
              "      <td>[Erik Lehnsherr/Charles Xavier, Logan (X-Men)/...</td>\n",
              "      <td>[Escape, beso]</td>\n",
              "      <td>0</td>\n",
              "      <td>[M/M]</td>\n",
              "      <td>1</td>\n",
              "      <td>[Creator Chose Not To Use Archive Warnings]</td>\n",
              "    </tr>\n",
              "  </tbody>\n",
              "</table>\n",
              "</div>\n",
              "      <button class=\"colab-df-convert\" onclick=\"convertToInteractive('df-69e23bad-8b1d-444b-98bc-2cb09b53a063')\"\n",
              "              title=\"Convert this dataframe to an interactive table.\"\n",
              "              style=\"display:none;\">\n",
              "        \n",
              "  <svg xmlns=\"http://www.w3.org/2000/svg\" height=\"24px\"viewBox=\"0 0 24 24\"\n",
              "       width=\"24px\">\n",
              "    <path d=\"M0 0h24v24H0V0z\" fill=\"none\"/>\n",
              "    <path d=\"M18.56 5.44l.94 2.06.94-2.06 2.06-.94-2.06-.94-.94-2.06-.94 2.06-2.06.94zm-11 1L8.5 8.5l.94-2.06 2.06-.94-2.06-.94L8.5 2.5l-.94 2.06-2.06.94zm10 10l.94 2.06.94-2.06 2.06-.94-2.06-.94-.94-2.06-.94 2.06-2.06.94z\"/><path d=\"M17.41 7.96l-1.37-1.37c-.4-.4-.92-.59-1.43-.59-.52 0-1.04.2-1.43.59L10.3 9.45l-7.72 7.72c-.78.78-.78 2.05 0 2.83L4 21.41c.39.39.9.59 1.41.59.51 0 1.02-.2 1.41-.59l7.78-7.78 2.81-2.81c.8-.78.8-2.07 0-2.86zM5.41 20L4 18.59l7.72-7.72 1.47 1.35L5.41 20z\"/>\n",
              "  </svg>\n",
              "      </button>\n",
              "      \n",
              "  <style>\n",
              "    .colab-df-container {\n",
              "      display:flex;\n",
              "      flex-wrap:wrap;\n",
              "      gap: 12px;\n",
              "    }\n",
              "\n",
              "    .colab-df-convert {\n",
              "      background-color: #E8F0FE;\n",
              "      border: none;\n",
              "      border-radius: 50%;\n",
              "      cursor: pointer;\n",
              "      display: none;\n",
              "      fill: #1967D2;\n",
              "      height: 32px;\n",
              "      padding: 0 0 0 0;\n",
              "      width: 32px;\n",
              "    }\n",
              "\n",
              "    .colab-df-convert:hover {\n",
              "      background-color: #E2EBFA;\n",
              "      box-shadow: 0px 1px 2px rgba(60, 64, 67, 0.3), 0px 1px 3px 1px rgba(60, 64, 67, 0.15);\n",
              "      fill: #174EA6;\n",
              "    }\n",
              "\n",
              "    [theme=dark] .colab-df-convert {\n",
              "      background-color: #3B4455;\n",
              "      fill: #D2E3FC;\n",
              "    }\n",
              "\n",
              "    [theme=dark] .colab-df-convert:hover {\n",
              "      background-color: #434B5C;\n",
              "      box-shadow: 0px 1px 3px 1px rgba(0, 0, 0, 0.15);\n",
              "      filter: drop-shadow(0px 1px 2px rgba(0, 0, 0, 0.3));\n",
              "      fill: #FFFFFF;\n",
              "    }\n",
              "  </style>\n",
              "\n",
              "      <script>\n",
              "        const buttonEl =\n",
              "          document.querySelector('#df-69e23bad-8b1d-444b-98bc-2cb09b53a063 button.colab-df-convert');\n",
              "        buttonEl.style.display =\n",
              "          google.colab.kernel.accessAllowed ? 'block' : 'none';\n",
              "\n",
              "        async function convertToInteractive(key) {\n",
              "          const element = document.querySelector('#df-69e23bad-8b1d-444b-98bc-2cb09b53a063');\n",
              "          const dataTable =\n",
              "            await google.colab.kernel.invokeFunction('convertToInteractive',\n",
              "                                                     [key], {});\n",
              "          if (!dataTable) return;\n",
              "\n",
              "          const docLinkHtml = 'Like what you see? Visit the ' +\n",
              "            '<a target=\"_blank\" href=https://colab.research.google.com/notebooks/data_table.ipynb>data table notebook</a>'\n",
              "            + ' to learn more about interactive tables.';\n",
              "          element.innerHTML = '';\n",
              "          dataTable['output_type'] = 'display_data';\n",
              "          await google.colab.output.renderOutput(dataTable, element);\n",
              "          const docLink = document.createElement('div');\n",
              "          docLink.innerHTML = docLinkHtml;\n",
              "          element.appendChild(docLink);\n",
              "        }\n",
              "      </script>\n",
              "    </div>\n",
              "  </div>\n",
              "  "
            ]
          },
          "metadata": {},
          "execution_count": 22
        }
      ]
    },
    {
      "cell_type": "markdown",
      "source": [
        "## Let's look at the correlation"
      ],
      "metadata": {
        "id": "4FoamSHV1LWi"
      }
    },
    {
      "cell_type": "code",
      "source": [
        "df_num = df[['written', 'words', 'hits', 'comments', 'bookmarks', 'collections', 'rating', 'kudos', 'completion']]\n",
        "df_num['words_per_chapter'] = df_num['words'] / df_num['written']\n",
        "df_num['lang_num'] = df['lang'].apply(lambda x: 1 if x == 'English' else 0)\n",
        "df_num['kudos_per_hit'] = df['kudos'] / df['hits']"
      ],
      "metadata": {
        "id": "g3p9SX5npizp"
      },
      "execution_count": null,
      "outputs": []
    },
    {
      "cell_type": "code",
      "source": [
        "df_num.describe()"
      ],
      "metadata": {
        "colab": {
          "base_uri": "https://localhost:8080/",
          "height": 300
        },
        "id": "QqLOS2_Hwp_E",
        "outputId": "19fcd81b-2e1e-49f1-d4df-f621616d7ef4"
      },
      "execution_count": 54,
      "outputs": [
        {
          "output_type": "execute_result",
          "data": {
            "text/plain": [
              "           written          hits     comments    bookmarks  collections  \\\n",
              "count  7063.000000  7.063000e+03  7063.000000  7063.000000  7063.000000   \n",
              "mean      3.427156  2.807494e+03    17.637548    15.372080     0.163103   \n",
              "std       7.843884  2.396924e+04    60.610381    47.048789     0.441751   \n",
              "min       1.000000  5.000000e+00     0.000000     0.000000     0.000000   \n",
              "25%       1.000000  4.590000e+02     1.000000     1.000000     0.000000   \n",
              "50%       1.000000  9.900000e+02     5.000000     4.000000     0.000000   \n",
              "75%       2.000000  2.203500e+03    14.000000    13.000000     0.000000   \n",
              "max     206.000000  1.535007e+06  2389.000000  2065.000000    16.000000   \n",
              "\n",
              "            rating        kudos   completion     lang_num  kudos_per_hit  \n",
              "count  7063.000000  7063.000000  7063.000000  7063.000000    7063.000000  \n",
              "mean      1.099108   122.628911     0.817216     0.728302       0.062411  \n",
              "std       1.240348   257.583866     0.386516     0.444866       0.040729  \n",
              "min      -1.000000     0.000000     0.000000     0.000000       0.000000  \n",
              "25%       0.000000    20.000000     1.000000     0.000000       0.034332  \n",
              "50%       1.000000    55.000000     1.000000     1.000000       0.056738  \n",
              "75%       2.000000   130.000000     1.000000     1.000000       0.083333  \n",
              "max       3.000000  7730.000000     1.000000     1.000000       1.285714  "
            ],
            "text/html": [
              "\n",
              "  <div id=\"df-d30ba4d1-d853-4fa4-ae27-db2219d635be\">\n",
              "    <div class=\"colab-df-container\">\n",
              "      <div>\n",
              "<style scoped>\n",
              "    .dataframe tbody tr th:only-of-type {\n",
              "        vertical-align: middle;\n",
              "    }\n",
              "\n",
              "    .dataframe tbody tr th {\n",
              "        vertical-align: top;\n",
              "    }\n",
              "\n",
              "    .dataframe thead th {\n",
              "        text-align: right;\n",
              "    }\n",
              "</style>\n",
              "<table border=\"1\" class=\"dataframe\">\n",
              "  <thead>\n",
              "    <tr style=\"text-align: right;\">\n",
              "      <th></th>\n",
              "      <th>written</th>\n",
              "      <th>hits</th>\n",
              "      <th>comments</th>\n",
              "      <th>bookmarks</th>\n",
              "      <th>collections</th>\n",
              "      <th>rating</th>\n",
              "      <th>kudos</th>\n",
              "      <th>completion</th>\n",
              "      <th>lang_num</th>\n",
              "      <th>kudos_per_hit</th>\n",
              "    </tr>\n",
              "  </thead>\n",
              "  <tbody>\n",
              "    <tr>\n",
              "      <th>count</th>\n",
              "      <td>7063.000000</td>\n",
              "      <td>7.063000e+03</td>\n",
              "      <td>7063.000000</td>\n",
              "      <td>7063.000000</td>\n",
              "      <td>7063.000000</td>\n",
              "      <td>7063.000000</td>\n",
              "      <td>7063.000000</td>\n",
              "      <td>7063.000000</td>\n",
              "      <td>7063.000000</td>\n",
              "      <td>7063.000000</td>\n",
              "    </tr>\n",
              "    <tr>\n",
              "      <th>mean</th>\n",
              "      <td>3.427156</td>\n",
              "      <td>2.807494e+03</td>\n",
              "      <td>17.637548</td>\n",
              "      <td>15.372080</td>\n",
              "      <td>0.163103</td>\n",
              "      <td>1.099108</td>\n",
              "      <td>122.628911</td>\n",
              "      <td>0.817216</td>\n",
              "      <td>0.728302</td>\n",
              "      <td>0.062411</td>\n",
              "    </tr>\n",
              "    <tr>\n",
              "      <th>std</th>\n",
              "      <td>7.843884</td>\n",
              "      <td>2.396924e+04</td>\n",
              "      <td>60.610381</td>\n",
              "      <td>47.048789</td>\n",
              "      <td>0.441751</td>\n",
              "      <td>1.240348</td>\n",
              "      <td>257.583866</td>\n",
              "      <td>0.386516</td>\n",
              "      <td>0.444866</td>\n",
              "      <td>0.040729</td>\n",
              "    </tr>\n",
              "    <tr>\n",
              "      <th>min</th>\n",
              "      <td>1.000000</td>\n",
              "      <td>5.000000e+00</td>\n",
              "      <td>0.000000</td>\n",
              "      <td>0.000000</td>\n",
              "      <td>0.000000</td>\n",
              "      <td>-1.000000</td>\n",
              "      <td>0.000000</td>\n",
              "      <td>0.000000</td>\n",
              "      <td>0.000000</td>\n",
              "      <td>0.000000</td>\n",
              "    </tr>\n",
              "    <tr>\n",
              "      <th>25%</th>\n",
              "      <td>1.000000</td>\n",
              "      <td>4.590000e+02</td>\n",
              "      <td>1.000000</td>\n",
              "      <td>1.000000</td>\n",
              "      <td>0.000000</td>\n",
              "      <td>0.000000</td>\n",
              "      <td>20.000000</td>\n",
              "      <td>1.000000</td>\n",
              "      <td>0.000000</td>\n",
              "      <td>0.034332</td>\n",
              "    </tr>\n",
              "    <tr>\n",
              "      <th>50%</th>\n",
              "      <td>1.000000</td>\n",
              "      <td>9.900000e+02</td>\n",
              "      <td>5.000000</td>\n",
              "      <td>4.000000</td>\n",
              "      <td>0.000000</td>\n",
              "      <td>1.000000</td>\n",
              "      <td>55.000000</td>\n",
              "      <td>1.000000</td>\n",
              "      <td>1.000000</td>\n",
              "      <td>0.056738</td>\n",
              "    </tr>\n",
              "    <tr>\n",
              "      <th>75%</th>\n",
              "      <td>2.000000</td>\n",
              "      <td>2.203500e+03</td>\n",
              "      <td>14.000000</td>\n",
              "      <td>13.000000</td>\n",
              "      <td>0.000000</td>\n",
              "      <td>2.000000</td>\n",
              "      <td>130.000000</td>\n",
              "      <td>1.000000</td>\n",
              "      <td>1.000000</td>\n",
              "      <td>0.083333</td>\n",
              "    </tr>\n",
              "    <tr>\n",
              "      <th>max</th>\n",
              "      <td>206.000000</td>\n",
              "      <td>1.535007e+06</td>\n",
              "      <td>2389.000000</td>\n",
              "      <td>2065.000000</td>\n",
              "      <td>16.000000</td>\n",
              "      <td>3.000000</td>\n",
              "      <td>7730.000000</td>\n",
              "      <td>1.000000</td>\n",
              "      <td>1.000000</td>\n",
              "      <td>1.285714</td>\n",
              "    </tr>\n",
              "  </tbody>\n",
              "</table>\n",
              "</div>\n",
              "      <button class=\"colab-df-convert\" onclick=\"convertToInteractive('df-d30ba4d1-d853-4fa4-ae27-db2219d635be')\"\n",
              "              title=\"Convert this dataframe to an interactive table.\"\n",
              "              style=\"display:none;\">\n",
              "        \n",
              "  <svg xmlns=\"http://www.w3.org/2000/svg\" height=\"24px\"viewBox=\"0 0 24 24\"\n",
              "       width=\"24px\">\n",
              "    <path d=\"M0 0h24v24H0V0z\" fill=\"none\"/>\n",
              "    <path d=\"M18.56 5.44l.94 2.06.94-2.06 2.06-.94-2.06-.94-.94-2.06-.94 2.06-2.06.94zm-11 1L8.5 8.5l.94-2.06 2.06-.94-2.06-.94L8.5 2.5l-.94 2.06-2.06.94zm10 10l.94 2.06.94-2.06 2.06-.94-2.06-.94-.94-2.06-.94 2.06-2.06.94z\"/><path d=\"M17.41 7.96l-1.37-1.37c-.4-.4-.92-.59-1.43-.59-.52 0-1.04.2-1.43.59L10.3 9.45l-7.72 7.72c-.78.78-.78 2.05 0 2.83L4 21.41c.39.39.9.59 1.41.59.51 0 1.02-.2 1.41-.59l7.78-7.78 2.81-2.81c.8-.78.8-2.07 0-2.86zM5.41 20L4 18.59l7.72-7.72 1.47 1.35L5.41 20z\"/>\n",
              "  </svg>\n",
              "      </button>\n",
              "      \n",
              "  <style>\n",
              "    .colab-df-container {\n",
              "      display:flex;\n",
              "      flex-wrap:wrap;\n",
              "      gap: 12px;\n",
              "    }\n",
              "\n",
              "    .colab-df-convert {\n",
              "      background-color: #E8F0FE;\n",
              "      border: none;\n",
              "      border-radius: 50%;\n",
              "      cursor: pointer;\n",
              "      display: none;\n",
              "      fill: #1967D2;\n",
              "      height: 32px;\n",
              "      padding: 0 0 0 0;\n",
              "      width: 32px;\n",
              "    }\n",
              "\n",
              "    .colab-df-convert:hover {\n",
              "      background-color: #E2EBFA;\n",
              "      box-shadow: 0px 1px 2px rgba(60, 64, 67, 0.3), 0px 1px 3px 1px rgba(60, 64, 67, 0.15);\n",
              "      fill: #174EA6;\n",
              "    }\n",
              "\n",
              "    [theme=dark] .colab-df-convert {\n",
              "      background-color: #3B4455;\n",
              "      fill: #D2E3FC;\n",
              "    }\n",
              "\n",
              "    [theme=dark] .colab-df-convert:hover {\n",
              "      background-color: #434B5C;\n",
              "      box-shadow: 0px 1px 3px 1px rgba(0, 0, 0, 0.15);\n",
              "      filter: drop-shadow(0px 1px 2px rgba(0, 0, 0, 0.3));\n",
              "      fill: #FFFFFF;\n",
              "    }\n",
              "  </style>\n",
              "\n",
              "      <script>\n",
              "        const buttonEl =\n",
              "          document.querySelector('#df-d30ba4d1-d853-4fa4-ae27-db2219d635be button.colab-df-convert');\n",
              "        buttonEl.style.display =\n",
              "          google.colab.kernel.accessAllowed ? 'block' : 'none';\n",
              "\n",
              "        async function convertToInteractive(key) {\n",
              "          const element = document.querySelector('#df-d30ba4d1-d853-4fa4-ae27-db2219d635be');\n",
              "          const dataTable =\n",
              "            await google.colab.kernel.invokeFunction('convertToInteractive',\n",
              "                                                     [key], {});\n",
              "          if (!dataTable) return;\n",
              "\n",
              "          const docLinkHtml = 'Like what you see? Visit the ' +\n",
              "            '<a target=\"_blank\" href=https://colab.research.google.com/notebooks/data_table.ipynb>data table notebook</a>'\n",
              "            + ' to learn more about interactive tables.';\n",
              "          element.innerHTML = '';\n",
              "          dataTable['output_type'] = 'display_data';\n",
              "          await google.colab.output.renderOutput(dataTable, element);\n",
              "          const docLink = document.createElement('div');\n",
              "          docLink.innerHTML = docLinkHtml;\n",
              "          element.appendChild(docLink);\n",
              "        }\n",
              "      </script>\n",
              "    </div>\n",
              "  </div>\n",
              "  "
            ]
          },
          "metadata": {},
          "execution_count": 54
        }
      ]
    },
    {
      "cell_type": "code",
      "source": [
        "best_ff = df[df_num.kudos_per_hit >= 0.2]"
      ],
      "metadata": {
        "id": "0x4JkFHiy5kV"
      },
      "execution_count": 56,
      "outputs": []
    },
    {
      "cell_type": "code",
      "source": [
        "df_corr = df_num.corr()"
      ],
      "metadata": {
        "id": "IxQDhwnlpw43"
      },
      "execution_count": 57,
      "outputs": []
    },
    {
      "cell_type": "code",
      "source": [
        "plt.figure(figsize=(10, 8))\n",
        "sns.heatmap(df_corr, annot=True)"
      ],
      "metadata": {
        "colab": {
          "base_uri": "https://localhost:8080/",
          "height": 563
        },
        "id": "IlzGzeeAp1bj",
        "outputId": "e8362d2c-5df4-477e-da8e-48945d014004"
      },
      "execution_count": 58,
      "outputs": [
        {
          "output_type": "execute_result",
          "data": {
            "text/plain": [
              "<matplotlib.axes._subplots.AxesSubplot at 0x7fb750224c50>"
            ]
          },
          "metadata": {},
          "execution_count": 58
        },
        {
          "output_type": "display_data",
          "data": {
            "text/plain": [
              "<Figure size 720x576 with 2 Axes>"
            ],
            "image/png": "[encoded data removed]"
          },
          "metadata": {
            "needs_background": "light"
          }
        }
      ]
    },
    {
      "cell_type": "code",
      "source": [
        "df_num[df.hits == df.hits.max()]"
      ],
      "metadata": {
        "id": "60Ej6f_-O6zE",
        "outputId": "018bfa47-ae2d-40e6-ba20-4911e9debe45",
        "colab": {
          "base_uri": "https://localhost:8080/",
          "height": 81
        }
      },
      "execution_count": 65,
      "outputs": [
        {
          "output_type": "execute_result",
          "data": {
            "text/plain": [
              "   written  words     hits  comments  bookmarks  collections  rating  kudos  \\\n",
              "0       14  44417  1535007        20         83            0       3   4423   \n",
              "\n",
              "   completion words_per_chapter  lang_num  kudos_per_hit  \n",
              "0           1       3172.642857         0       0.002881  "
            ],
            "text/html": [
              "\n",
              "  <div id=\"df-645ebc8d-b7d0-4a61-b994-7afc01f07a87\">\n",
              "    <div class=\"colab-df-container\">\n",
              "      <div>\n",
              "<style scoped>\n",
              "    .dataframe tbody tr th:only-of-type {\n",
              "        vertical-align: middle;\n",
              "    }\n",
              "\n",
              "    .dataframe tbody tr th {\n",
              "        vertical-align: top;\n",
              "    }\n",
              "\n",
              "    .dataframe thead th {\n",
              "        text-align: right;\n",
              "    }\n",
              "</style>\n",
              "<table border=\"1\" class=\"dataframe\">\n",
              "  <thead>\n",
              "    <tr style=\"text-align: right;\">\n",
              "      <th></th>\n",
              "      <th>written</th>\n",
              "      <th>words</th>\n",
              "      <th>hits</th>\n",
              "      <th>comments</th>\n",
              "      <th>bookmarks</th>\n",
              "      <th>collections</th>\n",
              "      <th>rating</th>\n",
              "      <th>kudos</th>\n",
              "      <th>completion</th>\n",
              "      <th>words_per_chapter</th>\n",
              "      <th>lang_num</th>\n",
              "      <th>kudos_per_hit</th>\n",
              "    </tr>\n",
              "  </thead>\n",
              "  <tbody>\n",
              "    <tr>\n",
              "      <th>0</th>\n",
              "      <td>14</td>\n",
              "      <td>44417</td>\n",
              "      <td>1535007</td>\n",
              "      <td>20</td>\n",
              "      <td>83</td>\n",
              "      <td>0</td>\n",
              "      <td>3</td>\n",
              "      <td>4423</td>\n",
              "      <td>1</td>\n",
              "      <td>3172.642857</td>\n",
              "      <td>0</td>\n",
              "      <td>0.002881</td>\n",
              "    </tr>\n",
              "  </tbody>\n",
              "</table>\n",
              "</div>\n",
              "      <button class=\"colab-df-convert\" onclick=\"convertToInteractive('df-645ebc8d-b7d0-4a61-b994-7afc01f07a87')\"\n",
              "              title=\"Convert this dataframe to an interactive table.\"\n",
              "              style=\"display:none;\">\n",
              "        \n",
              "  <svg xmlns=\"http://www.w3.org/2000/svg\" height=\"24px\"viewBox=\"0 0 24 24\"\n",
              "       width=\"24px\">\n",
              "    <path d=\"M0 0h24v24H0V0z\" fill=\"none\"/>\n",
              "    <path d=\"M18.56 5.44l.94 2.06.94-2.06 2.06-.94-2.06-.94-.94-2.06-.94 2.06-2.06.94zm-11 1L8.5 8.5l.94-2.06 2.06-.94-2.06-.94L8.5 2.5l-.94 2.06-2.06.94zm10 10l.94 2.06.94-2.06 2.06-.94-2.06-.94-.94-2.06-.94 2.06-2.06.94z\"/><path d=\"M17.41 7.96l-1.37-1.37c-.4-.4-.92-.59-1.43-.59-.52 0-1.04.2-1.43.59L10.3 9.45l-7.72 7.72c-.78.78-.78 2.05 0 2.83L4 21.41c.39.39.9.59 1.41.59.51 0 1.02-.2 1.41-.59l7.78-7.78 2.81-2.81c.8-.78.8-2.07 0-2.86zM5.41 20L4 18.59l7.72-7.72 1.47 1.35L5.41 20z\"/>\n",
              "  </svg>\n",
              "      </button>\n",
              "      \n",
              "  <style>\n",
              "    .colab-df-container {\n",
              "      display:flex;\n",
              "      flex-wrap:wrap;\n",
              "      gap: 12px;\n",
              "    }\n",
              "\n",
              "    .colab-df-convert {\n",
              "      background-color: #E8F0FE;\n",
              "      border: none;\n",
              "      border-radius: 50%;\n",
              "      cursor: pointer;\n",
              "      display: none;\n",
              "      fill: #1967D2;\n",
              "      height: 32px;\n",
              "      padding: 0 0 0 0;\n",
              "      width: 32px;\n",
              "    }\n",
              "\n",
              "    .colab-df-convert:hover {\n",
              "      background-color: #E2EBFA;\n",
              "      box-shadow: 0px 1px 2px rgba(60, 64, 67, 0.3), 0px 1px 3px 1px rgba(60, 64, 67, 0.15);\n",
              "      fill: #174EA6;\n",
              "    }\n",
              "\n",
              "    [theme=dark] .colab-df-convert {\n",
              "      background-color: #3B4455;\n",
              "      fill: #D2E3FC;\n",
              "    }\n",
              "\n",
              "    [theme=dark] .colab-df-convert:hover {\n",
              "      background-color: #434B5C;\n",
              "      box-shadow: 0px 1px 3px 1px rgba(0, 0, 0, 0.15);\n",
              "      filter: drop-shadow(0px 1px 2px rgba(0, 0, 0, 0.3));\n",
              "      fill: #FFFFFF;\n",
              "    }\n",
              "  </style>\n",
              "\n",
              "      <script>\n",
              "        const buttonEl =\n",
              "          document.querySelector('#df-645ebc8d-b7d0-4a61-b994-7afc01f07a87 button.colab-df-convert');\n",
              "        buttonEl.style.display =\n",
              "          google.colab.kernel.accessAllowed ? 'block' : 'none';\n",
              "\n",
              "        async function convertToInteractive(key) {\n",
              "          const element = document.querySelector('#df-645ebc8d-b7d0-4a61-b994-7afc01f07a87');\n",
              "          const dataTable =\n",
              "            await google.colab.kernel.invokeFunction('convertToInteractive',\n",
              "                                                     [key], {});\n",
              "          if (!dataTable) return;\n",
              "\n",
              "          const docLinkHtml = 'Like what you see? Visit the ' +\n",
              "            '<a target=\"_blank\" href=https://colab.research.google.com/notebooks/data_table.ipynb>data table notebook</a>'\n",
              "            + ' to learn more about interactive tables.';\n",
              "          element.innerHTML = '';\n",
              "          dataTable['output_type'] = 'display_data';\n",
              "          await google.colab.output.renderOutput(dataTable, element);\n",
              "          const docLink = document.createElement('div');\n",
              "          docLink.innerHTML = docLinkHtml;\n",
              "          element.appendChild(docLink);\n",
              "        }\n",
              "      </script>\n",
              "    </div>\n",
              "  </div>\n",
              "  "
            ]
          },
          "metadata": {},
          "execution_count": 65
        }
      ]
    },
    {
      "cell_type": "code",
      "source": [
        "sns.scatterplot(x=df.hits, y=df.kudos)"
      ],
      "metadata": {
        "colab": {
          "base_uri": "https://localhost:8080/",
          "height": 297
        },
        "id": "kBjwmPVJqQaj",
        "outputId": "33139c3c-fd98-425a-f637-239f7020bce1"
      },
      "execution_count": 59,
      "outputs": [
        {
          "output_type": "execute_result",
          "data": {
            "text/plain": [
              "<matplotlib.axes._subplots.AxesSubplot at 0x7fb74f888dd0>"
            ]
          },
          "metadata": {},
          "execution_count": 59
        },
        {
          "output_type": "display_data",
          "data": {
            "text/plain": [
              "<Figure size 432x288 with 1 Axes>"
            ],
            "image/png": "[encoded data removed]"
          },
          "metadata": {
            "needs_background": "light"
          }
        }
      ]
    },
    {
      "cell_type": "code",
      "source": [
        "sns.scatterplot(x=df.words, y=df.written)"
      ],
      "metadata": {
        "colab": {
          "base_uri": "https://localhost:8080/",
          "height": 296
        },
        "id": "z3eQ-OOirIU0",
        "outputId": "a29fb79f-4123-485e-b039-32066b77b3e8"
      },
      "execution_count": 61,
      "outputs": [
        {
          "output_type": "execute_result",
          "data": {
            "text/plain": [
              "<matplotlib.axes._subplots.AxesSubplot at 0x7fb74ee72490>"
            ]
          },
          "metadata": {},
          "execution_count": 61
        },
        {
          "output_type": "display_data",
          "data": {
            "text/plain": [
              "<Figure size 432x288 with 1 Axes>"
            ],
            "image/png": "[encoded data removed]"
          },
          "metadata": {
            "needs_background": "light"
          }
        }
      ]
    },
    {
      "cell_type": "markdown",
      "source": [
        "# Machine Learning yo"
      ],
      "metadata": {
        "id": "eRUqn0inFxCP"
      }
    },
    {
      "cell_type": "code",
      "source": [
        "import sklearn "
      ],
      "metadata": {
        "id": "WFdON2g9H-Km"
      },
      "execution_count": 37,
      "outputs": []
    },
    {
      "cell_type": "code",
      "source": [
        "houses_df = pd.read_csv('sample_data/california_housing_train.csv')"
      ],
      "metadata": {
        "id": "JqFk5t8KGXdX"
      },
      "execution_count": 31,
      "outputs": []
    },
    {
      "cell_type": "code",
      "source": [
        "houses_corr = houses_df.corr()"
      ],
      "metadata": {
        "id": "ChvHwSSOGpqI"
      },
      "execution_count": 32,
      "outputs": []
    },
    {
      "cell_type": "code",
      "source": [
        "sns.heatmap(houses_corr, annot=True)"
      ],
      "metadata": {
        "id": "bNRvGw3kGtqg",
        "outputId": "5a64503e-0b31-4631-a23b-d86b3a572313",
        "colab": {
          "base_uri": "https://localhost:8080/",
          "height": 382
        }
      },
      "execution_count": 33,
      "outputs": [
        {
          "output_type": "execute_result",
          "data": {
            "text/plain": [
              "<matplotlib.axes._subplots.AxesSubplot at 0x7fb757404350>"
            ]
          },
          "metadata": {},
          "execution_count": 33
        },
        {
          "output_type": "display_data",
          "data": {
            "text/plain": [
              "<Figure size 432x288 with 2 Axes>"
            ],
            "image/png": "[encoded data removed]"
          },
          "metadata": {
            "needs_background": "light"
          }
        }
      ]
    },
    {
      "cell_type": "code",
      "source": [
        "houses_df.shape"
      ],
      "metadata": {
        "id": "KLsvLl-IHcsC",
        "outputId": "dad1b5ec-0b73-4910-e50e-20c98acd4cd1",
        "colab": {
          "base_uri": "https://localhost:8080/"
        }
      },
      "execution_count": 35,
      "outputs": [
        {
          "output_type": "execute_result",
          "data": {
            "text/plain": [
              "(17000, 9)"
            ]
          },
          "metadata": {},
          "execution_count": 35
        }
      ]
    },
    {
      "cell_type": "code",
      "source": [
        "df_test = pd.read_csv('sample_data/california_housing_test.csv')\n",
        "df_test.shape"
      ],
      "metadata": {
        "id": "aVx2ex0bHkzl",
        "outputId": "1ee52fcc-52b3-4da7-eb38-cb46a133c07e",
        "colab": {
          "base_uri": "https://localhost:8080/"
        }
      },
      "execution_count": 36,
      "outputs": [
        {
          "output_type": "execute_result",
          "data": {
            "text/plain": [
              "(3000, 9)"
            ]
          },
          "metadata": {},
          "execution_count": 36
        }
      ]
    }
  ]
}