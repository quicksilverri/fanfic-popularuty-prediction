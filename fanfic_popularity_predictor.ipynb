{
  "nbformat": 4,
  "nbformat_minor": 0,
  "metadata": {
    "colab": {
      "name": "fanfic_popularity_predictor.ipynb",
      "provenance": [],
      "authorship_tag": "ABX9TyPbKviFDYG0uuc9n3l8+oeT",
      "include_colab_link": true
    },
    "kernelspec": {
      "name": "python3",
      "display_name": "Python 3"
    },
    "language_info": {
      "name": "python"
    }
  },
  "cells": [
    {
      "cell_type": "markdown",
      "metadata": {
        "id": "view-in-github",
        "colab_type": "text"
      },
      "source": [
        "<a href=\"https://colab.research.google.com/github/quicksilverri/fanfic-popularuty-prediction/blob/main/fanfic_popularity_predictor.ipynb\" target=\"_parent\"><img src=\"https://colab.research.google.com/assets/colab-badge.svg\" alt=\"Open In Colab\"/></a>"
      ]
    },
    {
      "cell_type": "markdown",
      "source": [
        "# Import staff"
      ],
      "metadata": {
        "id": "T7y1NbXYYXxz"
      }
    },
    {
      "cell_type": "code",
      "execution_count": 2,
      "metadata": {
        "id": "gh03JVW5YMRQ"
      },
      "outputs": [],
      "source": [
        "import requests as req\n",
        "from bs4 import BeautifulSoup\n",
        "import pandas as pd \n",
        "import seaborn as sns"
      ]
    },
    {
      "cell_type": "markdown",
      "source": [
        "# Get the data"
      ],
      "metadata": {
        "id": "UIkCfqZrnCRH"
      }
    },
    {
      "cell_type": "code",
      "source": [
        "marvel_link =  'https://archiveofourown.org/works?commit=Sort+and+Filter&work_search%5Bsort_column%5D=authors_to_sort_on&work_search%5Bother_tag_names%5D=&work_search%5Bexcluded_tag_names%5D=&work_search%5Bcrossover%5D=&work_search%5Bcomplete%5D=&work_search%5Bwords_from%5D=&work_search%5Bwords_to%5D=&work_search%5Bdate_from%5D=&work_search%5Bdate_to%5D=&work_search%5Bquery%5D=&work_search%5Blanguage_id%5D=&tag_id=Marvel'\n",
        "xmen_link = 'https://archiveofourown.org/works?work_search%5Bsort_column%5D=revised_at&work_search%5Bother_tag_names%5D=&exclude_work_search%5Bfreeform_ids%5D%5B%5D=11175&exclude_work_search%5Bfreeform_ids%5D%5B%5D=263297&work_search%5Bexcluded_tag_names%5D=&work_search%5Bcrossover%5D=&work_search%5Bcomplete%5D=&work_search%5Bwords_from%5D=&work_search%5Bwords_to%5D=&work_search%5Bdate_from%5D=&work_search%5Bdate_to%5D=&work_search%5Bquery%5D=&work_search%5Blanguage_id%5D=&commit=Sort+and+Filter&tag_id=Erik+Lehnsherr*s*Charles+Xavier'\n",
        "link = xmen_link\n",
        "pages = 100"
      ],
      "metadata": {
        "id": "Qu3TE-5MHWgA"
      },
      "execution_count": 78,
      "outputs": []
    },
    {
      "cell_type": "markdown",
      "source": [
        "### Create Fanfic class\n",
        "\n",
        "It's kinda long and simple, so it's hidden. "
      ],
      "metadata": {
        "id": "9JGbR1f6QnSJ"
      }
    },
    {
      "cell_type": "code",
      "source": [
        "def clean(list): \n",
        "  \"\"\"Extracts text from list of bs4.Tags\"\"\"\n",
        "\n",
        "  return [item.get_text() for item in list]"
      ],
      "metadata": {
        "id": "DieUMyhp9rHy"
      },
      "execution_count": 50,
      "outputs": []
    },
    {
      "cell_type": "code",
      "source": [
        "class Fanfic: \n",
        "  def __init__(self, fanfic):\n",
        "    self.fic = fanfic\n",
        "    self.info = {}\n",
        "\n",
        "    self.header = self.fic.select('.heading a')\n",
        "    \n",
        "    self.get_header()\n",
        "    self.get_chapters()\n",
        "    self.get_stats()\n",
        "    self.get_date()\n",
        "    self.get_tags()\n",
        "    self.get_square()\n",
        "\n",
        "  def get_header(self):\n",
        "    \"\"\"Sets title, author nickname and list of fandoms into self.stats dict\"\"\"\n",
        "    \n",
        "    self.info['title'] = self.header[0].get_text()\n",
        "    self.info['author'] = self.header[1].get_text()\n",
        "    self.info['fandoms'] = clean(self.header[2:])\n",
        "\n",
        "  def get_chapters(self): \n",
        "    \"\"\"Sets number of chapters written and number of chapters intended\n",
        "    into self.stats dict\"\"\"\n",
        "\n",
        "    def smart_int(n):\n",
        "      try: \n",
        "        return int(n)\n",
        "      except:\n",
        "        return None\n",
        "\n",
        "    chapters = self.fic.select('dd.chapters')[0].get_text()\n",
        "    written, total = map(smart_int, chapters.split('/'))\n",
        "\n",
        "    self.info['written'] = written\n",
        "    self.info['total'] = total\n",
        "\n",
        "  def get_number(self, selector): \n",
        "     \"\"\"Processes numerical data (removes comma so it can be turned\n",
        "     into integer)\"\"\"\n",
        "\n",
        "     try: \n",
        "\n",
        "       data = self.fic.select(selector)[0].get_text()\n",
        "       data = int(data.replace(',', ''))\n",
        "       return data\n",
        "        \n",
        "     except: return None\n",
        "\n",
        "  def get_stats(self): \n",
        "     \"\"\"Sets data collected in Stats section (words, hits, comments,\n",
        "     bookmarks, collections and language) into self.info dict\"\"\"\n",
        "\n",
        "     self.info['words'] = self.get_number('dd.words')\n",
        "     self.info['hits'] = self.get_number('dd.hits') \n",
        "     self.info['comments'] = self.get_number('dd.comments') \n",
        "     self.info['bookmarks'] = self.get_number('dd.bookmarks')\n",
        "     self.info['collections'] = self.get_number('dd.collections') \n",
        "     self.info['lang'] = self.fic.select('dd.language')[0].get_text()\n",
        "     self.info['kudos'] = self.get_number('.kudos a')\n",
        "\n",
        "  def get_date(self):  # add date of first publishing??\n",
        "    \"\"\"Sets date of the most recent update into self.dict\"\"\"\n",
        "\n",
        "    self.info['date'] = self.fic.select('.datetime')[0].get_text() \n",
        "    \n",
        "  def get_tags(self): \n",
        "    \"\"\"Sets tag-like data into self.info dict\"\"\"\n",
        "\n",
        "    self.info['characters'] = clean(self.fic.select('.characters a.tag'))\n",
        "    self.info['parings'] = clean(self.fic.select('.relationships a.tag'))\n",
        "    self.info['freeforms'] = clean(self.fic.select('.freeforms a.tag'))\n",
        "\n",
        "  def get_square(self): \n",
        "    \"\"\"Sets data from square to the left of fanfic title into self.info dict\"\"\"\n",
        "\n",
        "    self.info['rating'] = self.fic.select('.rating .text')[0].get_text()\n",
        "    self.info['category'] = clean(self.fic.select('.category .text'))\n",
        "    self.info['completion'] = self.fic.select('.iswip .text')[0].get_text()\n",
        "    self.info['warnings'] = clean(self.fic.select('.warnings a.tag'))\n",
        "\n",
        "  def get_info(self):\n",
        "     \"\"\"Return all the data about Fanfic in a DataFrame\"\"\"\n",
        "\n",
        "     df = pd.DataFrame([self.info])\n",
        "\n",
        "     return df"
      ],
      "metadata": {
        "id": "ZvMJhILFnIQI"
      },
      "execution_count": 85,
      "outputs": []
    },
    {
      "cell_type": "markdown",
      "source": [
        "### Create FanficParser"
      ],
      "metadata": {
        "id": "Qxw67WczQrww"
      }
    },
    {
      "cell_type": "code",
      "source": [
        "class FanficParser: \n",
        "  def __init__(self, initial_link):\n",
        "    self.inlink = initial_link\n",
        "    self.domain = self.get_domain()\n",
        "    self.df = pd.DataFrame()\n",
        "    self.link = self.inlink\n",
        "    self.page = 1\n",
        "\n",
        "  def get_domain(self):\n",
        "     end_of_link = self.inlink.find('/', 8)\n",
        "     domain = self.inlink[:end_of_link]\n",
        "     return domain\n",
        "  \n",
        "  def parse_page(self): \n",
        "    page = req.get(self.link)\n",
        "    soup = BeautifulSoup(page.content, 'html.parser')\n",
        "    fanfics = soup.select('[role~=article]')\n",
        "    \n",
        "    print(f'{self.page} parsed')\n",
        "    self.page += 1\n",
        "\n",
        "    new_link_relative = soup.select('li.next a')[0].get('href')\n",
        "    self.link = self.domain + new_link_relative\n",
        "\n",
        "    return fanfics\n",
        "\n",
        "  def parse(self, n_pages): \n",
        "    for i in range(n_pages): \n",
        "      fanfics = self.parse_page()\n",
        "\n",
        "      for fanfic in fanfics:\n",
        "        self.df = self.df.append(Fanfic(fanfic).get_info())\n",
        "\n",
        "    print(f'total {self.df.shape[0]} fanfics')\n",
        "\n",
        "    self.df.index = range(self.df.shape[0])\n",
        "\n",
        "  def reset(self):\n",
        "    self.df = pd.DataFrame()\n",
        "    self.link = self.inlink\n",
        "    self.page = 1\n",
        "    print('Parser resetted')"
      ],
      "metadata": {
        "id": "l-eetmC2_IgM"
      },
      "execution_count": 99,
      "outputs": []
    },
    {
      "cell_type": "markdown",
      "source": [
        "## Parse info"
      ],
      "metadata": {
        "id": "gahaw9O4o7Of"
      }
    },
    {
      "cell_type": "code",
      "source": [
        "parser = FanficParser(link)\n",
        "parser.parse(pages)"
      ],
      "metadata": {
        "colab": {
          "base_uri": "https://localhost:8080/"
        },
        "id": "q3NOz94GHfw9",
        "outputId": "f6b5ce7f-2217-4625-dd32-55a1758b8550"
      },
      "execution_count": 100,
      "outputs": [
        {
          "output_type": "stream",
          "name": "stdout",
          "text": [
            "1 parsed\n",
            "2 parsed\n",
            "3 parsed\n",
            "4 parsed\n",
            "5 parsed\n",
            "6 parsed\n",
            "7 parsed\n",
            "8 parsed\n",
            "9 parsed\n",
            "10 parsed\n",
            "11 parsed\n",
            "12 parsed\n",
            "13 parsed\n",
            "14 parsed\n",
            "15 parsed\n",
            "16 parsed\n",
            "17 parsed\n",
            "18 parsed\n",
            "19 parsed\n",
            "20 parsed\n",
            "21 parsed\n",
            "22 parsed\n",
            "23 parsed\n",
            "24 parsed\n",
            "25 parsed\n",
            "26 parsed\n",
            "27 parsed\n",
            "28 parsed\n",
            "29 parsed\n",
            "30 parsed\n",
            "31 parsed\n",
            "32 parsed\n",
            "33 parsed\n",
            "34 parsed\n",
            "35 parsed\n",
            "36 parsed\n",
            "37 parsed\n",
            "38 parsed\n",
            "39 parsed\n",
            "40 parsed\n",
            "41 parsed\n",
            "42 parsed\n",
            "43 parsed\n",
            "44 parsed\n",
            "45 parsed\n",
            "46 parsed\n",
            "47 parsed\n",
            "48 parsed\n",
            "49 parsed\n",
            "50 parsed\n",
            "51 parsed\n",
            "52 parsed\n",
            "53 parsed\n",
            "54 parsed\n",
            "55 parsed\n",
            "56 parsed\n",
            "57 parsed\n",
            "58 parsed\n",
            "59 parsed\n",
            "60 parsed\n",
            "61 parsed\n",
            "62 parsed\n",
            "63 parsed\n",
            "64 parsed\n",
            "65 parsed\n",
            "66 parsed\n",
            "67 parsed\n",
            "68 parsed\n",
            "69 parsed\n",
            "70 parsed\n",
            "71 parsed\n",
            "72 parsed\n",
            "73 parsed\n",
            "74 parsed\n",
            "75 parsed\n",
            "76 parsed\n",
            "77 parsed\n",
            "78 parsed\n",
            "79 parsed\n",
            "80 parsed\n",
            "81 parsed\n",
            "82 parsed\n",
            "83 parsed\n",
            "84 parsed\n",
            "85 parsed\n",
            "86 parsed\n",
            "87 parsed\n",
            "88 parsed\n",
            "89 parsed\n",
            "90 parsed\n",
            "91 parsed\n",
            "92 parsed\n",
            "93 parsed\n",
            "94 parsed\n",
            "95 parsed\n",
            "96 parsed\n",
            "97 parsed\n",
            "98 parsed\n",
            "99 parsed\n",
            "100 parsed\n",
            "total 2000 fanfics\n"
          ]
        }
      ]
    },
    {
      "cell_type": "code",
      "source": [
        "df = parser.df"
      ],
      "metadata": {
        "id": "Y9TM0mDgPpti"
      },
      "execution_count": 103,
      "outputs": []
    },
    {
      "cell_type": "code",
      "source": [
        "df.shape"
      ],
      "metadata": {
        "id": "5WVLPG7w2MU9",
        "outputId": "fda45c6f-e5d2-4997-c824-8a863cfc5ea1",
        "colab": {
          "base_uri": "https://localhost:8080/"
        }
      },
      "execution_count": 104,
      "outputs": [
        {
          "output_type": "execute_result",
          "data": {
            "text/plain": [
              "(2000, 20)"
            ]
          },
          "metadata": {},
          "execution_count": 104
        }
      ]
    },
    {
      "cell_type": "markdown",
      "source": [
        "# Data preprocessing \n",
        "So now we have to figure out what type of data can be suitable for our model. \n",
        "\n",
        "1. Replace missing values \n",
        "2. Parse dates \n",
        "3. Replace categorical values with numbers"
      ],
      "metadata": {
        "id": "tfnx-oG7asM8"
      }
    },
    {
      "cell_type": "code",
      "source": [
        "df['comments'] = df['comments'].fillna(0)\n",
        "df['bookmarks'] = df['bookmarks'].fillna(0)\n",
        "df['collections'] = df['collections'].fillna(0)\n",
        "df['kudos'] = df['kudos'].fillna(0)"
      ],
      "metadata": {
        "id": "STwUZLb1mSne"
      },
      "execution_count": 105,
      "outputs": []
    },
    {
      "cell_type": "code",
      "source": [
        "ratings = {\n",
        "    'Not Rated': -1,\n",
        "    'General Audiences': 0, \n",
        "    'Teen And Up Audiences': 1, \n",
        "    'Mature': 2, \n",
        "    'Explicit': 3, \n",
        "}\n",
        "replace_rating = lambda x: ratings[x]\n",
        "df['rating'] = df['rating'].apply(replace_rating)"
      ],
      "metadata": {
        "id": "t9Z6w-G0yqst"
      },
      "execution_count": 106,
      "outputs": []
    },
    {
      "cell_type": "code",
      "source": [
        "completion = {'Work in Progress': 0, 'Complete Work': 1}\n",
        "replace_completion = lambda x: completion[x]\n",
        "df['completion'] = df['completion'].apply(replace_completion)"
      ],
      "metadata": {
        "id": "oTGfwkcezuzP"
      },
      "execution_count": 107,
      "outputs": []
    },
    {
      "cell_type": "code",
      "source": [
        "df['date'] = df['date'].apply(pd.to_datetime)"
      ],
      "metadata": {
        "id": "6NJyYu-W30tR"
      },
      "execution_count": 108,
      "outputs": []
    },
    {
      "cell_type": "markdown",
      "source": [
        "# IDK staff"
      ],
      "metadata": {
        "id": "dCMrHnN7e83F"
      }
    },
    {
      "cell_type": "markdown",
      "source": [
        "## Let's look at the data"
      ],
      "metadata": {
        "id": "ObGPftSlNjsT"
      }
    },
    {
      "cell_type": "code",
      "source": [
        "fandom_list = set()\n",
        "\n",
        "for fandoms in df.fandoms:\n",
        "  for fandom in fandoms: \n",
        "    fandom_list.add(fandom)"
      ],
      "metadata": {
        "id": "kVfJnoEyqt2c"
      },
      "execution_count": 14,
      "outputs": []
    },
    {
      "cell_type": "code",
      "source": [
        "fandom_count = {}\n",
        "\n",
        "for fandoms in df.fandoms:\n",
        "  for fandom in fandoms: \n",
        "    try: \n",
        "      fandom_count[fandom] += 1\n",
        "    except: \n",
        "      fandom_count[fandom] = 1"
      ],
      "metadata": {
        "id": "0DX7tEJTrqFt"
      },
      "execution_count": 15,
      "outputs": []
    },
    {
      "cell_type": "code",
      "source": [
        "count = pd.Series(fandom_count)"
      ],
      "metadata": {
        "id": "d8Pvu-kSsDpr"
      },
      "execution_count": 16,
      "outputs": []
    },
    {
      "cell_type": "code",
      "source": [
        "count = count.sort_values(ascending=False)"
      ],
      "metadata": {
        "id": "Bqdmycd1sxSR"
      },
      "execution_count": 17,
      "outputs": []
    },
    {
      "cell_type": "code",
      "source": [
        "df_count = pd.DataFrame()\n",
        "df_count['count'] = count\n",
        "df_count['fandom'] = count.index"
      ],
      "metadata": {
        "id": "4urcP86rtYnM"
      },
      "execution_count": 18,
      "outputs": []
    },
    {
      "cell_type": "code",
      "source": [
        "import seaborn as sns\n",
        "import matplotlib.pyplot as plt\n",
        "\n",
        "%matplotlib inline"
      ],
      "metadata": {
        "id": "guIwdlyltDRg"
      },
      "execution_count": 19,
      "outputs": []
    },
    {
      "cell_type": "code",
      "source": [
        "plt.figure(figsize=(6, 8))\n",
        "sns.barplot(data=df_count[df_count['count'] > 10], x='count', y='fandom', orient='h')"
      ],
      "metadata": {
        "colab": {
          "base_uri": "https://localhost:8080/",
          "height": 514
        },
        "id": "UA35tvBQtMD2",
        "outputId": "2e84e56c-088a-4a3e-a593-956a9e155f4e"
      },
      "execution_count": 59,
      "outputs": [
        {
          "output_type": "execute_result",
          "data": {
            "text/plain": [
              "<matplotlib.axes._subplots.AxesSubplot at 0x7f944517b150>"
            ]
          },
          "metadata": {},
          "execution_count": 59
        },
        {
          "output_type": "display_data",
          "data": {
            "text/plain": [
              "<Figure size 432x576 with 1 Axes>"
            ],
            "image/png": "[encoded data removed]"
          },
          "metadata": {
            "needs_background": "light"
          }
        }
      ]
    },
    {
      "cell_type": "code",
      "source": [
        "len(fandom_list)"
      ],
      "metadata": {
        "colab": {
          "base_uri": "https://localhost:8080/"
        },
        "id": "3QtHBgPCrimC",
        "outputId": "5ea7978c-3ee4-4de3-f29e-d5117d3475de"
      },
      "execution_count": 21,
      "outputs": [
        {
          "output_type": "execute_result",
          "data": {
            "text/plain": [
              "132"
            ]
          },
          "metadata": {},
          "execution_count": 21
        }
      ]
    },
    {
      "cell_type": "code",
      "source": [
        "df.fandoms[0]"
      ],
      "metadata": {
        "colab": {
          "base_uri": "https://localhost:8080/"
        },
        "id": "RKxfqVKngu5m",
        "outputId": "16e95200-ae52-42ee-c9de-8e76e3822825"
      },
      "execution_count": 22,
      "outputs": [
        {
          "output_type": "execute_result",
          "data": {
            "text/plain": [
              "['Disney - Fandom', 'Marvel', 'A Song of Ice and Fire']"
            ]
          },
          "metadata": {},
          "execution_count": 22
        }
      ]
    },
    {
      "cell_type": "code",
      "source": [
        "df.sample()"
      ],
      "metadata": {
        "id": "ECqn34JXpWf_",
        "outputId": "9f79cd5f-f696-4722-9156-05e89d6e8ec8",
        "colab": {
          "base_uri": "https://localhost:8080/",
          "height": 194
        }
      },
      "execution_count": 60,
      "outputs": [
        {
          "output_type": "execute_result",
          "data": {
            "text/plain": [
              "       title         author  \\\n",
              "1358  Chains  221bshrlocked   \n",
              "\n",
              "                                                fandoms  written total  words  \\\n",
              "1358  [Marvel Cinematic Universe, marvel movies, Buc...        2     2   3229   \n",
              "\n",
              "       hits  comments  bookmarks  collections     lang  kudos       date  \\\n",
              "1358  19635         5         47            0  English    274 2018-03-04   \n",
              "\n",
              "                                             characters  \\\n",
              "1358  [Bucky Barnes, Steve Rogers, Sam Wilson, Natas...   \n",
              "\n",
              "                                                parings freeforms  rating  \\\n",
              "1358  [James \"Bucky\" Barnes/Reader, James \"Bucky\" Ba...        []       3   \n",
              "\n",
              "     category  completion                     warnings  \n",
              "1358    [F/M]           1  [No Archive Warnings Apply]  "
            ],
            "text/html": [
              "\n",
              "  <div id=\"df-fe1e0cb7-7034-48c9-b7fa-ccada5cee27b\">\n",
              "    <div class=\"colab-df-container\">\n",
              "      <div>\n",
              "<style scoped>\n",
              "    .dataframe tbody tr th:only-of-type {\n",
              "        vertical-align: middle;\n",
              "    }\n",
              "\n",
              "    .dataframe tbody tr th {\n",
              "        vertical-align: top;\n",
              "    }\n",
              "\n",
              "    .dataframe thead th {\n",
              "        text-align: right;\n",
              "    }\n",
              "</style>\n",
              "<table border=\"1\" class=\"dataframe\">\n",
              "  <thead>\n",
              "    <tr style=\"text-align: right;\">\n",
              "      <th></th>\n",
              "      <th>title</th>\n",
              "      <th>author</th>\n",
              "      <th>fandoms</th>\n",
              "      <th>written</th>\n",
              "      <th>total</th>\n",
              "      <th>words</th>\n",
              "      <th>hits</th>\n",
              "      <th>comments</th>\n",
              "      <th>bookmarks</th>\n",
              "      <th>collections</th>\n",
              "      <th>lang</th>\n",
              "      <th>kudos</th>\n",
              "      <th>date</th>\n",
              "      <th>characters</th>\n",
              "      <th>parings</th>\n",
              "      <th>freeforms</th>\n",
              "      <th>rating</th>\n",
              "      <th>category</th>\n",
              "      <th>completion</th>\n",
              "      <th>warnings</th>\n",
              "    </tr>\n",
              "  </thead>\n",
              "  <tbody>\n",
              "    <tr>\n",
              "      <th>1358</th>\n",
              "      <td>Chains</td>\n",
              "      <td>221bshrlocked</td>\n",
              "      <td>[Marvel Cinematic Universe, marvel movies, Buc...</td>\n",
              "      <td>2</td>\n",
              "      <td>2</td>\n",
              "      <td>3229</td>\n",
              "      <td>19635</td>\n",
              "      <td>5</td>\n",
              "      <td>47</td>\n",
              "      <td>0</td>\n",
              "      <td>English</td>\n",
              "      <td>274</td>\n",
              "      <td>2018-03-04</td>\n",
              "      <td>[Bucky Barnes, Steve Rogers, Sam Wilson, Natas...</td>\n",
              "      <td>[James \"Bucky\" Barnes/Reader, James \"Bucky\" Ba...</td>\n",
              "      <td>[]</td>\n",
              "      <td>3</td>\n",
              "      <td>[F/M]</td>\n",
              "      <td>1</td>\n",
              "      <td>[No Archive Warnings Apply]</td>\n",
              "    </tr>\n",
              "  </tbody>\n",
              "</table>\n",
              "</div>\n",
              "      <button class=\"colab-df-convert\" onclick=\"convertToInteractive('df-fe1e0cb7-7034-48c9-b7fa-ccada5cee27b')\"\n",
              "              title=\"Convert this dataframe to an interactive table.\"\n",
              "              style=\"display:none;\">\n",
              "        \n",
              "  <svg xmlns=\"http://www.w3.org/2000/svg\" height=\"24px\"viewBox=\"0 0 24 24\"\n",
              "       width=\"24px\">\n",
              "    <path d=\"M0 0h24v24H0V0z\" fill=\"none\"/>\n",
              "    <path d=\"M18.56 5.44l.94 2.06.94-2.06 2.06-.94-2.06-.94-.94-2.06-.94 2.06-2.06.94zm-11 1L8.5 8.5l.94-2.06 2.06-.94-2.06-.94L8.5 2.5l-.94 2.06-2.06.94zm10 10l.94 2.06.94-2.06 2.06-.94-2.06-.94-.94-2.06-.94 2.06-2.06.94z\"/><path d=\"M17.41 7.96l-1.37-1.37c-.4-.4-.92-.59-1.43-.59-.52 0-1.04.2-1.43.59L10.3 9.45l-7.72 7.72c-.78.78-.78 2.05 0 2.83L4 21.41c.39.39.9.59 1.41.59.51 0 1.02-.2 1.41-.59l7.78-7.78 2.81-2.81c.8-.78.8-2.07 0-2.86zM5.41 20L4 18.59l7.72-7.72 1.47 1.35L5.41 20z\"/>\n",
              "  </svg>\n",
              "      </button>\n",
              "      \n",
              "  <style>\n",
              "    .colab-df-container {\n",
              "      display:flex;\n",
              "      flex-wrap:wrap;\n",
              "      gap: 12px;\n",
              "    }\n",
              "\n",
              "    .colab-df-convert {\n",
              "      background-color: #E8F0FE;\n",
              "      border: none;\n",
              "      border-radius: 50%;\n",
              "      cursor: pointer;\n",
              "      display: none;\n",
              "      fill: #1967D2;\n",
              "      height: 32px;\n",
              "      padding: 0 0 0 0;\n",
              "      width: 32px;\n",
              "    }\n",
              "\n",
              "    .colab-df-convert:hover {\n",
              "      background-color: #E2EBFA;\n",
              "      box-shadow: 0px 1px 2px rgba(60, 64, 67, 0.3), 0px 1px 3px 1px rgba(60, 64, 67, 0.15);\n",
              "      fill: #174EA6;\n",
              "    }\n",
              "\n",
              "    [theme=dark] .colab-df-convert {\n",
              "      background-color: #3B4455;\n",
              "      fill: #D2E3FC;\n",
              "    }\n",
              "\n",
              "    [theme=dark] .colab-df-convert:hover {\n",
              "      background-color: #434B5C;\n",
              "      box-shadow: 0px 1px 3px 1px rgba(0, 0, 0, 0.15);\n",
              "      filter: drop-shadow(0px 1px 2px rgba(0, 0, 0, 0.3));\n",
              "      fill: #FFFFFF;\n",
              "    }\n",
              "  </style>\n",
              "\n",
              "      <script>\n",
              "        const buttonEl =\n",
              "          document.querySelector('#df-fe1e0cb7-7034-48c9-b7fa-ccada5cee27b button.colab-df-convert');\n",
              "        buttonEl.style.display =\n",
              "          google.colab.kernel.accessAllowed ? 'block' : 'none';\n",
              "\n",
              "        async function convertToInteractive(key) {\n",
              "          const element = document.querySelector('#df-fe1e0cb7-7034-48c9-b7fa-ccada5cee27b');\n",
              "          const dataTable =\n",
              "            await google.colab.kernel.invokeFunction('convertToInteractive',\n",
              "                                                     [key], {});\n",
              "          if (!dataTable) return;\n",
              "\n",
              "          const docLinkHtml = 'Like what you see? Visit the ' +\n",
              "            '<a target=\"_blank\" href=https://colab.research.google.com/notebooks/data_table.ipynb>data table notebook</a>'\n",
              "            + ' to learn more about interactive tables.';\n",
              "          element.innerHTML = '';\n",
              "          dataTable['output_type'] = 'display_data';\n",
              "          await google.colab.output.renderOutput(dataTable, element);\n",
              "          const docLink = document.createElement('div');\n",
              "          docLink.innerHTML = docLinkHtml;\n",
              "          element.appendChild(docLink);\n",
              "        }\n",
              "      </script>\n",
              "    </div>\n",
              "  </div>\n",
              "  "
            ]
          },
          "metadata": {},
          "execution_count": 60
        }
      ]
    },
    {
      "cell_type": "markdown",
      "source": [
        "## Let's look at the correlation"
      ],
      "metadata": {
        "id": "4FoamSHV1LWi"
      }
    },
    {
      "cell_type": "code",
      "source": [
        "df_num = df[['written', 'words', 'hits', 'comments', 'bookmarks', 'collections', 'rating', 'kudos', 'completion']]\n",
        "df_num['words_per_chapter'] = df_num['words'] / df_num['written']\n",
        "df_num['lang_num'] = df['lang'].apply(lambda x: 1 if x == 'English' else 0)\n",
        "df_num['kudos_per_hit'] = df['kudos'] / df['hits']"
      ],
      "metadata": {
        "id": "g3p9SX5npizp"
      },
      "execution_count": null,
      "outputs": []
    },
    {
      "cell_type": "code",
      "source": [
        "df_num.describe()"
      ],
      "metadata": {
        "id": "QqLOS2_Hwp_E",
        "outputId": "be47ef71-6448-45f8-857e-380d9502f366",
        "colab": {
          "base_uri": "https://localhost:8080/",
          "height": 300
        }
      },
      "execution_count": 110,
      "outputs": [
        {
          "output_type": "execute_result",
          "data": {
            "text/plain": [
              "           written           hits    comments    bookmarks  collections  \\\n",
              "count  2000.000000    2000.000000  2000.00000  2000.000000  2000.000000   \n",
              "mean      4.203000    1655.056500    20.81600    12.812500     0.165000   \n",
              "std      10.031556    6929.364472    87.22123    57.241389     0.526226   \n",
              "min       1.000000       3.000000     0.00000     0.000000     0.000000   \n",
              "25%       1.000000     262.000000     1.00000     1.000000     0.000000   \n",
              "50%       1.000000     623.000000     4.00000     3.000000     0.000000   \n",
              "75%       3.000000    1348.500000    13.00000    10.000000     0.000000   \n",
              "max     189.000000  242436.000000  2389.00000  2065.000000    16.000000   \n",
              "\n",
              "            rating        kudos   completion     lang_num  kudos_per_hit  \n",
              "count  2000.000000  2000.000000  2000.000000  2000.000000    2000.000000  \n",
              "mean      1.129000    96.655000     0.771000     0.766500       0.075181  \n",
              "std       1.207513   266.722182     0.420294     0.423163       0.053505  \n",
              "min      -1.000000     0.000000     0.000000     0.000000       0.000000  \n",
              "25%       0.000000    14.000000     1.000000     1.000000       0.040882  \n",
              "50%       1.000000    41.000000     1.000000     1.000000       0.069055  \n",
              "75%       2.000000   105.000000     1.000000     1.000000       0.102101  \n",
              "max       3.000000  7730.000000     1.000000     1.000000       1.333333  "
            ],
            "text/html": [
              "\n",
              "  <div id=\"df-def4a392-2766-44da-84cb-1352c886d4d8\">\n",
              "    <div class=\"colab-df-container\">\n",
              "      <div>\n",
              "<style scoped>\n",
              "    .dataframe tbody tr th:only-of-type {\n",
              "        vertical-align: middle;\n",
              "    }\n",
              "\n",
              "    .dataframe tbody tr th {\n",
              "        vertical-align: top;\n",
              "    }\n",
              "\n",
              "    .dataframe thead th {\n",
              "        text-align: right;\n",
              "    }\n",
              "</style>\n",
              "<table border=\"1\" class=\"dataframe\">\n",
              "  <thead>\n",
              "    <tr style=\"text-align: right;\">\n",
              "      <th></th>\n",
              "      <th>written</th>\n",
              "      <th>hits</th>\n",
              "      <th>comments</th>\n",
              "      <th>bookmarks</th>\n",
              "      <th>collections</th>\n",
              "      <th>rating</th>\n",
              "      <th>kudos</th>\n",
              "      <th>completion</th>\n",
              "      <th>lang_num</th>\n",
              "      <th>kudos_per_hit</th>\n",
              "    </tr>\n",
              "  </thead>\n",
              "  <tbody>\n",
              "    <tr>\n",
              "      <th>count</th>\n",
              "      <td>2000.000000</td>\n",
              "      <td>2000.000000</td>\n",
              "      <td>2000.00000</td>\n",
              "      <td>2000.000000</td>\n",
              "      <td>2000.000000</td>\n",
              "      <td>2000.000000</td>\n",
              "      <td>2000.000000</td>\n",
              "      <td>2000.000000</td>\n",
              "      <td>2000.000000</td>\n",
              "      <td>2000.000000</td>\n",
              "    </tr>\n",
              "    <tr>\n",
              "      <th>mean</th>\n",
              "      <td>4.203000</td>\n",
              "      <td>1655.056500</td>\n",
              "      <td>20.81600</td>\n",
              "      <td>12.812500</td>\n",
              "      <td>0.165000</td>\n",
              "      <td>1.129000</td>\n",
              "      <td>96.655000</td>\n",
              "      <td>0.771000</td>\n",
              "      <td>0.766500</td>\n",
              "      <td>0.075181</td>\n",
              "    </tr>\n",
              "    <tr>\n",
              "      <th>std</th>\n",
              "      <td>10.031556</td>\n",
              "      <td>6929.364472</td>\n",
              "      <td>87.22123</td>\n",
              "      <td>57.241389</td>\n",
              "      <td>0.526226</td>\n",
              "      <td>1.207513</td>\n",
              "      <td>266.722182</td>\n",
              "      <td>0.420294</td>\n",
              "      <td>0.423163</td>\n",
              "      <td>0.053505</td>\n",
              "    </tr>\n",
              "    <tr>\n",
              "      <th>min</th>\n",
              "      <td>1.000000</td>\n",
              "      <td>3.000000</td>\n",
              "      <td>0.00000</td>\n",
              "      <td>0.000000</td>\n",
              "      <td>0.000000</td>\n",
              "      <td>-1.000000</td>\n",
              "      <td>0.000000</td>\n",
              "      <td>0.000000</td>\n",
              "      <td>0.000000</td>\n",
              "      <td>0.000000</td>\n",
              "    </tr>\n",
              "    <tr>\n",
              "      <th>25%</th>\n",
              "      <td>1.000000</td>\n",
              "      <td>262.000000</td>\n",
              "      <td>1.00000</td>\n",
              "      <td>1.000000</td>\n",
              "      <td>0.000000</td>\n",
              "      <td>0.000000</td>\n",
              "      <td>14.000000</td>\n",
              "      <td>1.000000</td>\n",
              "      <td>1.000000</td>\n",
              "      <td>0.040882</td>\n",
              "    </tr>\n",
              "    <tr>\n",
              "      <th>50%</th>\n",
              "      <td>1.000000</td>\n",
              "      <td>623.000000</td>\n",
              "      <td>4.00000</td>\n",
              "      <td>3.000000</td>\n",
              "      <td>0.000000</td>\n",
              "      <td>1.000000</td>\n",
              "      <td>41.000000</td>\n",
              "      <td>1.000000</td>\n",
              "      <td>1.000000</td>\n",
              "      <td>0.069055</td>\n",
              "    </tr>\n",
              "    <tr>\n",
              "      <th>75%</th>\n",
              "      <td>3.000000</td>\n",
              "      <td>1348.500000</td>\n",
              "      <td>13.00000</td>\n",
              "      <td>10.000000</td>\n",
              "      <td>0.000000</td>\n",
              "      <td>2.000000</td>\n",
              "      <td>105.000000</td>\n",
              "      <td>1.000000</td>\n",
              "      <td>1.000000</td>\n",
              "      <td>0.102101</td>\n",
              "    </tr>\n",
              "    <tr>\n",
              "      <th>max</th>\n",
              "      <td>189.000000</td>\n",
              "      <td>242436.000000</td>\n",
              "      <td>2389.00000</td>\n",
              "      <td>2065.000000</td>\n",
              "      <td>16.000000</td>\n",
              "      <td>3.000000</td>\n",
              "      <td>7730.000000</td>\n",
              "      <td>1.000000</td>\n",
              "      <td>1.000000</td>\n",
              "      <td>1.333333</td>\n",
              "    </tr>\n",
              "  </tbody>\n",
              "</table>\n",
              "</div>\n",
              "      <button class=\"colab-df-convert\" onclick=\"convertToInteractive('df-def4a392-2766-44da-84cb-1352c886d4d8')\"\n",
              "              title=\"Convert this dataframe to an interactive table.\"\n",
              "              style=\"display:none;\">\n",
              "        \n",
              "  <svg xmlns=\"http://www.w3.org/2000/svg\" height=\"24px\"viewBox=\"0 0 24 24\"\n",
              "       width=\"24px\">\n",
              "    <path d=\"M0 0h24v24H0V0z\" fill=\"none\"/>\n",
              "    <path d=\"M18.56 5.44l.94 2.06.94-2.06 2.06-.94-2.06-.94-.94-2.06-.94 2.06-2.06.94zm-11 1L8.5 8.5l.94-2.06 2.06-.94-2.06-.94L8.5 2.5l-.94 2.06-2.06.94zm10 10l.94 2.06.94-2.06 2.06-.94-2.06-.94-.94-2.06-.94 2.06-2.06.94z\"/><path d=\"M17.41 7.96l-1.37-1.37c-.4-.4-.92-.59-1.43-.59-.52 0-1.04.2-1.43.59L10.3 9.45l-7.72 7.72c-.78.78-.78 2.05 0 2.83L4 21.41c.39.39.9.59 1.41.59.51 0 1.02-.2 1.41-.59l7.78-7.78 2.81-2.81c.8-.78.8-2.07 0-2.86zM5.41 20L4 18.59l7.72-7.72 1.47 1.35L5.41 20z\"/>\n",
              "  </svg>\n",
              "      </button>\n",
              "      \n",
              "  <style>\n",
              "    .colab-df-container {\n",
              "      display:flex;\n",
              "      flex-wrap:wrap;\n",
              "      gap: 12px;\n",
              "    }\n",
              "\n",
              "    .colab-df-convert {\n",
              "      background-color: #E8F0FE;\n",
              "      border: none;\n",
              "      border-radius: 50%;\n",
              "      cursor: pointer;\n",
              "      display: none;\n",
              "      fill: #1967D2;\n",
              "      height: 32px;\n",
              "      padding: 0 0 0 0;\n",
              "      width: 32px;\n",
              "    }\n",
              "\n",
              "    .colab-df-convert:hover {\n",
              "      background-color: #E2EBFA;\n",
              "      box-shadow: 0px 1px 2px rgba(60, 64, 67, 0.3), 0px 1px 3px 1px rgba(60, 64, 67, 0.15);\n",
              "      fill: #174EA6;\n",
              "    }\n",
              "\n",
              "    [theme=dark] .colab-df-convert {\n",
              "      background-color: #3B4455;\n",
              "      fill: #D2E3FC;\n",
              "    }\n",
              "\n",
              "    [theme=dark] .colab-df-convert:hover {\n",
              "      background-color: #434B5C;\n",
              "      box-shadow: 0px 1px 3px 1px rgba(0, 0, 0, 0.15);\n",
              "      filter: drop-shadow(0px 1px 2px rgba(0, 0, 0, 0.3));\n",
              "      fill: #FFFFFF;\n",
              "    }\n",
              "  </style>\n",
              "\n",
              "      <script>\n",
              "        const buttonEl =\n",
              "          document.querySelector('#df-def4a392-2766-44da-84cb-1352c886d4d8 button.colab-df-convert');\n",
              "        buttonEl.style.display =\n",
              "          google.colab.kernel.accessAllowed ? 'block' : 'none';\n",
              "\n",
              "        async function convertToInteractive(key) {\n",
              "          const element = document.querySelector('#df-def4a392-2766-44da-84cb-1352c886d4d8');\n",
              "          const dataTable =\n",
              "            await google.colab.kernel.invokeFunction('convertToInteractive',\n",
              "                                                     [key], {});\n",
              "          if (!dataTable) return;\n",
              "\n",
              "          const docLinkHtml = 'Like what you see? Visit the ' +\n",
              "            '<a target=\"_blank\" href=https://colab.research.google.com/notebooks/data_table.ipynb>data table notebook</a>'\n",
              "            + ' to learn more about interactive tables.';\n",
              "          element.innerHTML = '';\n",
              "          dataTable['output_type'] = 'display_data';\n",
              "          await google.colab.output.renderOutput(dataTable, element);\n",
              "          const docLink = document.createElement('div');\n",
              "          docLink.innerHTML = docLinkHtml;\n",
              "          element.appendChild(docLink);\n",
              "        }\n",
              "      </script>\n",
              "    </div>\n",
              "  </div>\n",
              "  "
            ]
          },
          "metadata": {},
          "execution_count": 110
        }
      ]
    },
    {
      "cell_type": "code",
      "source": [
        "best_ff = df[df_num.kudos_per_hit >= 0.2]\n",
        "best_ff[df.lang == 'Русский']"
      ],
      "metadata": {
        "id": "0x4JkFHiy5kV",
        "outputId": "78b099c6-13d7-4277-db2d-571f8e812c4d",
        "colab": {
          "base_uri": "https://localhost:8080/",
          "height": 597
        }
      },
      "execution_count": 127,
      "outputs": [
        {
          "output_type": "stream",
          "name": "stderr",
          "text": [
            "/usr/local/lib/python3.7/dist-packages/ipykernel_launcher.py:2: UserWarning: Boolean Series key will be reindexed to match DataFrame index.\n",
            "  \n"
          ]
        },
        {
          "output_type": "execute_result",
          "data": {
            "text/plain": [
              "                               title             author  \\\n",
              "286        Т07-17 (x-men: 1st class)         Greenmusik   \n",
              "392   План, достойный Чарльза Ксавье          kawasagii   \n",
              "393        Возвращение блудных отцов          kawasagii   \n",
              "976              У нас всё прекрасно              Andre   \n",
              "1694              Как понять, что...  Mercury_s_cabbage   \n",
              "\n",
              "                                                fandoms  written total words  \\\n",
              "286                 [X-Men (Alternate Timeline Movies)]        2     2   573   \n",
              "392   [X-Men (Movieverse), X-Men (Alternate Timeline...        1     1  1614   \n",
              "393   [X-Men (Movieverse), X-Men (Alternate Timeline...        1     1  2768   \n",
              "976                                [X-Men (Movieverse)]        1     1  1478   \n",
              "1694  [X-Men (Movieverse), X-Men (Alternate Timeline...        1     1   758   \n",
              "\n",
              "      hits  comments  bookmarks  collections     lang  kudos       date  \\\n",
              "286     35         0          0            0  Русский      8 2022-04-13   \n",
              "392    137         2          1            0  Русский     33 2022-03-08   \n",
              "393     56         0          0            0  Русский     28 2022-03-08   \n",
              "976    491         2          3            1  Русский    102 2021-07-08   \n",
              "1694   129         3          0            0  Русский     26 2020-08-29   \n",
              "\n",
              "                                             characters  \\\n",
              "286                    [Erik Lehnsherr, Charles Xavier]   \n",
              "392                    [Erik Lehnsherr, Charles Xavier]   \n",
              "393   [Erik Lehnsherr, Charles Xavier, Hank McCoy, K...   \n",
              "976                                                  []   \n",
              "1694                                                 []   \n",
              "\n",
              "                                                parings  \\\n",
              "286   [Erik Lehnsherr/Charles Xavier, Erik Lehnsherr...   \n",
              "392                     [Erik Lehnsherr/Charles Xavier]   \n",
              "393                     [Erik Lehnsherr/Charles Xavier]   \n",
              "976   [Erik Lehnsherr/Charles Xavier, Erik Lehnsherr...   \n",
              "1694  [Erik Lehnsherr/Charles Xavier, Raven - Relati...   \n",
              "\n",
              "                                              freeforms  rating    category  \\\n",
              "286          [Humor, Crack, Don't copy to another site]       2  [Gen, M/M]   \n",
              "392                     [Established Relationship, PWP]       2       [M/M]   \n",
              "393                          [Established Relationship]       1       [M/M]   \n",
              "976                                     [Crack, Comedy]       0       [M/M]   \n",
              "1694  [Team as Family, Fluff, Fluff and Humor, Humor...       0  [Gen, M/M]   \n",
              "\n",
              "      completion                                     warnings  \n",
              "286            1                  [No Archive Warnings Apply]  \n",
              "392            1  [Creator Chose Not To Use Archive Warnings]  \n",
              "393            1  [Creator Chose Not To Use Archive Warnings]  \n",
              "976            1                  [No Archive Warnings Apply]  \n",
              "1694           1                  [No Archive Warnings Apply]  "
            ],
            "text/html": [
              "\n",
              "  <div id=\"df-7601b4b9-4ee7-4c41-b7c4-1a03dde16895\">\n",
              "    <div class=\"colab-df-container\">\n",
              "      <div>\n",
              "<style scoped>\n",
              "    .dataframe tbody tr th:only-of-type {\n",
              "        vertical-align: middle;\n",
              "    }\n",
              "\n",
              "    .dataframe tbody tr th {\n",
              "        vertical-align: top;\n",
              "    }\n",
              "\n",
              "    .dataframe thead th {\n",
              "        text-align: right;\n",
              "    }\n",
              "</style>\n",
              "<table border=\"1\" class=\"dataframe\">\n",
              "  <thead>\n",
              "    <tr style=\"text-align: right;\">\n",
              "      <th></th>\n",
              "      <th>title</th>\n",
              "      <th>author</th>\n",
              "      <th>fandoms</th>\n",
              "      <th>written</th>\n",
              "      <th>total</th>\n",
              "      <th>words</th>\n",
              "      <th>hits</th>\n",
              "      <th>comments</th>\n",
              "      <th>bookmarks</th>\n",
              "      <th>collections</th>\n",
              "      <th>lang</th>\n",
              "      <th>kudos</th>\n",
              "      <th>date</th>\n",
              "      <th>characters</th>\n",
              "      <th>parings</th>\n",
              "      <th>freeforms</th>\n",
              "      <th>rating</th>\n",
              "      <th>category</th>\n",
              "      <th>completion</th>\n",
              "      <th>warnings</th>\n",
              "    </tr>\n",
              "  </thead>\n",
              "  <tbody>\n",
              "    <tr>\n",
              "      <th>286</th>\n",
              "      <td>Т07-17 (x-men: 1st class)</td>\n",
              "      <td>Greenmusik</td>\n",
              "      <td>[X-Men (Alternate Timeline Movies)]</td>\n",
              "      <td>2</td>\n",
              "      <td>2</td>\n",
              "      <td>573</td>\n",
              "      <td>35</td>\n",
              "      <td>0</td>\n",
              "      <td>0</td>\n",
              "      <td>0</td>\n",
              "      <td>Русский</td>\n",
              "      <td>8</td>\n",
              "      <td>2022-04-13</td>\n",
              "      <td>[Erik Lehnsherr, Charles Xavier]</td>\n",
              "      <td>[Erik Lehnsherr/Charles Xavier, Erik Lehnsherr...</td>\n",
              "      <td>[Humor, Crack, Don't copy to another site]</td>\n",
              "      <td>2</td>\n",
              "      <td>[Gen, M/M]</td>\n",
              "      <td>1</td>\n",
              "      <td>[No Archive Warnings Apply]</td>\n",
              "    </tr>\n",
              "    <tr>\n",
              "      <th>392</th>\n",
              "      <td>План, достойный Чарльза Ксавье</td>\n",
              "      <td>kawasagii</td>\n",
              "      <td>[X-Men (Movieverse), X-Men (Alternate Timeline...</td>\n",
              "      <td>1</td>\n",
              "      <td>1</td>\n",
              "      <td>1614</td>\n",
              "      <td>137</td>\n",
              "      <td>2</td>\n",
              "      <td>1</td>\n",
              "      <td>0</td>\n",
              "      <td>Русский</td>\n",
              "      <td>33</td>\n",
              "      <td>2022-03-08</td>\n",
              "      <td>[Erik Lehnsherr, Charles Xavier]</td>\n",
              "      <td>[Erik Lehnsherr/Charles Xavier]</td>\n",
              "      <td>[Established Relationship, PWP]</td>\n",
              "      <td>2</td>\n",
              "      <td>[M/M]</td>\n",
              "      <td>1</td>\n",
              "      <td>[Creator Chose Not To Use Archive Warnings]</td>\n",
              "    </tr>\n",
              "    <tr>\n",
              "      <th>393</th>\n",
              "      <td>Возвращение блудных отцов</td>\n",
              "      <td>kawasagii</td>\n",
              "      <td>[X-Men (Movieverse), X-Men (Alternate Timeline...</td>\n",
              "      <td>1</td>\n",
              "      <td>1</td>\n",
              "      <td>2768</td>\n",
              "      <td>56</td>\n",
              "      <td>0</td>\n",
              "      <td>0</td>\n",
              "      <td>0</td>\n",
              "      <td>Русский</td>\n",
              "      <td>28</td>\n",
              "      <td>2022-03-08</td>\n",
              "      <td>[Erik Lehnsherr, Charles Xavier, Hank McCoy, K...</td>\n",
              "      <td>[Erik Lehnsherr/Charles Xavier]</td>\n",
              "      <td>[Established Relationship]</td>\n",
              "      <td>1</td>\n",
              "      <td>[M/M]</td>\n",
              "      <td>1</td>\n",
              "      <td>[Creator Chose Not To Use Archive Warnings]</td>\n",
              "    </tr>\n",
              "    <tr>\n",
              "      <th>976</th>\n",
              "      <td>У нас всё прекрасно</td>\n",
              "      <td>Andre</td>\n",
              "      <td>[X-Men (Movieverse)]</td>\n",
              "      <td>1</td>\n",
              "      <td>1</td>\n",
              "      <td>1478</td>\n",
              "      <td>491</td>\n",
              "      <td>2</td>\n",
              "      <td>3</td>\n",
              "      <td>1</td>\n",
              "      <td>Русский</td>\n",
              "      <td>102</td>\n",
              "      <td>2021-07-08</td>\n",
              "      <td>[]</td>\n",
              "      <td>[Erik Lehnsherr/Charles Xavier, Erik Lehnsherr...</td>\n",
              "      <td>[Crack, Comedy]</td>\n",
              "      <td>0</td>\n",
              "      <td>[M/M]</td>\n",
              "      <td>1</td>\n",
              "      <td>[No Archive Warnings Apply]</td>\n",
              "    </tr>\n",
              "    <tr>\n",
              "      <th>1694</th>\n",
              "      <td>Как понять, что...</td>\n",
              "      <td>Mercury_s_cabbage</td>\n",
              "      <td>[X-Men (Movieverse), X-Men (Alternate Timeline...</td>\n",
              "      <td>1</td>\n",
              "      <td>1</td>\n",
              "      <td>758</td>\n",
              "      <td>129</td>\n",
              "      <td>3</td>\n",
              "      <td>0</td>\n",
              "      <td>0</td>\n",
              "      <td>Русский</td>\n",
              "      <td>26</td>\n",
              "      <td>2020-08-29</td>\n",
              "      <td>[]</td>\n",
              "      <td>[Erik Lehnsherr/Charles Xavier, Raven - Relati...</td>\n",
              "      <td>[Team as Family, Fluff, Fluff and Humor, Humor...</td>\n",
              "      <td>0</td>\n",
              "      <td>[Gen, M/M]</td>\n",
              "      <td>1</td>\n",
              "      <td>[No Archive Warnings Apply]</td>\n",
              "    </tr>\n",
              "  </tbody>\n",
              "</table>\n",
              "</div>\n",
              "      <button class=\"colab-df-convert\" onclick=\"convertToInteractive('df-7601b4b9-4ee7-4c41-b7c4-1a03dde16895')\"\n",
              "              title=\"Convert this dataframe to an interactive table.\"\n",
              "              style=\"display:none;\">\n",
              "        \n",
              "  <svg xmlns=\"http://www.w3.org/2000/svg\" height=\"24px\"viewBox=\"0 0 24 24\"\n",
              "       width=\"24px\">\n",
              "    <path d=\"M0 0h24v24H0V0z\" fill=\"none\"/>\n",
              "    <path d=\"M18.56 5.44l.94 2.06.94-2.06 2.06-.94-2.06-.94-.94-2.06-.94 2.06-2.06.94zm-11 1L8.5 8.5l.94-2.06 2.06-.94-2.06-.94L8.5 2.5l-.94 2.06-2.06.94zm10 10l.94 2.06.94-2.06 2.06-.94-2.06-.94-.94-2.06-.94 2.06-2.06.94z\"/><path d=\"M17.41 7.96l-1.37-1.37c-.4-.4-.92-.59-1.43-.59-.52 0-1.04.2-1.43.59L10.3 9.45l-7.72 7.72c-.78.78-.78 2.05 0 2.83L4 21.41c.39.39.9.59 1.41.59.51 0 1.02-.2 1.41-.59l7.78-7.78 2.81-2.81c.8-.78.8-2.07 0-2.86zM5.41 20L4 18.59l7.72-7.72 1.47 1.35L5.41 20z\"/>\n",
              "  </svg>\n",
              "      </button>\n",
              "      \n",
              "  <style>\n",
              "    .colab-df-container {\n",
              "      display:flex;\n",
              "      flex-wrap:wrap;\n",
              "      gap: 12px;\n",
              "    }\n",
              "\n",
              "    .colab-df-convert {\n",
              "      background-color: #E8F0FE;\n",
              "      border: none;\n",
              "      border-radius: 50%;\n",
              "      cursor: pointer;\n",
              "      display: none;\n",
              "      fill: #1967D2;\n",
              "      height: 32px;\n",
              "      padding: 0 0 0 0;\n",
              "      width: 32px;\n",
              "    }\n",
              "\n",
              "    .colab-df-convert:hover {\n",
              "      background-color: #E2EBFA;\n",
              "      box-shadow: 0px 1px 2px rgba(60, 64, 67, 0.3), 0px 1px 3px 1px rgba(60, 64, 67, 0.15);\n",
              "      fill: #174EA6;\n",
              "    }\n",
              "\n",
              "    [theme=dark] .colab-df-convert {\n",
              "      background-color: #3B4455;\n",
              "      fill: #D2E3FC;\n",
              "    }\n",
              "\n",
              "    [theme=dark] .colab-df-convert:hover {\n",
              "      background-color: #434B5C;\n",
              "      box-shadow: 0px 1px 3px 1px rgba(0, 0, 0, 0.15);\n",
              "      filter: drop-shadow(0px 1px 2px rgba(0, 0, 0, 0.3));\n",
              "      fill: #FFFFFF;\n",
              "    }\n",
              "  </style>\n",
              "\n",
              "      <script>\n",
              "        const buttonEl =\n",
              "          document.querySelector('#df-7601b4b9-4ee7-4c41-b7c4-1a03dde16895 button.colab-df-convert');\n",
              "        buttonEl.style.display =\n",
              "          google.colab.kernel.accessAllowed ? 'block' : 'none';\n",
              "\n",
              "        async function convertToInteractive(key) {\n",
              "          const element = document.querySelector('#df-7601b4b9-4ee7-4c41-b7c4-1a03dde16895');\n",
              "          const dataTable =\n",
              "            await google.colab.kernel.invokeFunction('convertToInteractive',\n",
              "                                                     [key], {});\n",
              "          if (!dataTable) return;\n",
              "\n",
              "          const docLinkHtml = 'Like what you see? Visit the ' +\n",
              "            '<a target=\"_blank\" href=https://colab.research.google.com/notebooks/data_table.ipynb>data table notebook</a>'\n",
              "            + ' to learn more about interactive tables.';\n",
              "          element.innerHTML = '';\n",
              "          dataTable['output_type'] = 'display_data';\n",
              "          await google.colab.output.renderOutput(dataTable, element);\n",
              "          const docLink = document.createElement('div');\n",
              "          docLink.innerHTML = docLinkHtml;\n",
              "          element.appendChild(docLink);\n",
              "        }\n",
              "      </script>\n",
              "    </div>\n",
              "  </div>\n",
              "  "
            ]
          },
          "metadata": {},
          "execution_count": 127
        }
      ]
    },
    {
      "cell_type": "code",
      "source": [
        "df_corr = df_num.corr()"
      ],
      "metadata": {
        "id": "IxQDhwnlpw43"
      },
      "execution_count": 112,
      "outputs": []
    },
    {
      "cell_type": "code",
      "source": [
        "plt.figure(figsize=(10, 8))\n",
        "sns.heatmap(df_corr, annot=True)"
      ],
      "metadata": {
        "id": "IlzGzeeAp1bj",
        "outputId": "68281a9f-24dc-431f-9afe-b78bc06a4dea",
        "colab": {
          "base_uri": "https://localhost:8080/",
          "height": 563
        }
      },
      "execution_count": 113,
      "outputs": [
        {
          "output_type": "execute_result",
          "data": {
            "text/plain": [
              "<matplotlib.axes._subplots.AxesSubplot at 0x7f9443e73ed0>"
            ]
          },
          "metadata": {},
          "execution_count": 113
        },
        {
          "output_type": "display_data",
          "data": {
            "text/plain": [
              "<Figure size 720x576 with 2 Axes>"
            ],
            "image/png": "[encoded data removed]"
          },
          "metadata": {
            "needs_background": "light"
          }
        }
      ]
    },
    {
      "cell_type": "code",
      "source": [
        "sns.scatterplot(x=df.hits, y=df.kudos)"
      ],
      "metadata": {
        "id": "kBjwmPVJqQaj",
        "outputId": "c4ab0f48-021b-4e26-e827-dc7e72068500",
        "colab": {
          "base_uri": "https://localhost:8080/",
          "height": 296
        }
      },
      "execution_count": 36,
      "outputs": [
        {
          "output_type": "execute_result",
          "data": {
            "text/plain": [
              "<matplotlib.axes._subplots.AxesSubplot at 0x7f944cc827d0>"
            ]
          },
          "metadata": {},
          "execution_count": 36
        },
        {
          "output_type": "display_data",
          "data": {
            "text/plain": [
              "<Figure size 432x288 with 1 Axes>"
            ],
            "image/png": "[encoded data removed]"
          },
          "metadata": {
            "needs_background": "light"
          }
        }
      ]
    },
    {
      "cell_type": "code",
      "source": [
        "sns.scatterplot(x=df.words, y=df.written)"
      ],
      "metadata": {
        "id": "z3eQ-OOirIU0",
        "outputId": "cb47bc8e-09ef-4c0d-94f3-9f807b263a28",
        "colab": {
          "base_uri": "https://localhost:8080/",
          "height": 296
        }
      },
      "execution_count": 37,
      "outputs": [
        {
          "output_type": "execute_result",
          "data": {
            "text/plain": [
              "<matplotlib.axes._subplots.AxesSubplot at 0x7f944d886650>"
            ]
          },
          "metadata": {},
          "execution_count": 37
        },
        {
          "output_type": "display_data",
          "data": {
            "text/plain": [
              "<Figure size 432x288 with 1 Axes>"
            ],
            "image/png": "[encoded data removed]"
          },
          "metadata": {
            "needs_background": "light"
          }
        }
      ]
    }
  ]
}