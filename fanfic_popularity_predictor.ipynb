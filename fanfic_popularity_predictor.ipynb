{
  "nbformat": 4,
  "nbformat_minor": 0,
  "metadata": {
    "colab": {
      "name": "fanfic_popularity_predictor.ipynb",
      "provenance": [],
      "authorship_tag": "ABX9TyMBm1YUsNG8ZpFkNt6KsAAW",
      "include_colab_link": true
    },
    "kernelspec": {
      "name": "python3",
      "display_name": "Python 3"
    },
    "language_info": {
      "name": "python"
    }
  },
  "cells": [
    {
      "cell_type": "markdown",
      "metadata": {
        "id": "view-in-github",
        "colab_type": "text"
      },
      "source": [
        "<a href=\"https://colab.research.google.com/github/quicksilverri/fanfic-popularuty-prediction/blob/main/fanfic_popularity_predictor.ipynb\" target=\"_parent\"><img src=\"https://colab.research.google.com/assets/colab-badge.svg\" alt=\"Open In Colab\"/></a>"
      ]
    },
    {
      "cell_type": "markdown",
      "source": [
        "# Import staff"
      ],
      "metadata": {
        "id": "T7y1NbXYYXxz"
      }
    },
    {
      "cell_type": "code",
      "execution_count": 68,
      "metadata": {
        "id": "gh03JVW5YMRQ"
      },
      "outputs": [],
      "source": [
        "import requests as req\n",
        "from bs4 import BeautifulSoup\n",
        "import pandas as pd \n",
        "import seaborn as sns\n",
        "from time import time\n",
        "import matplotlib.pyplot as plt\n",
        "\n",
        "%matplotlib inline"
      ]
    },
    {
      "cell_type": "markdown",
      "source": [
        "# Get the data"
      ],
      "metadata": {
        "id": "UIkCfqZrnCRH"
      }
    },
    {
      "cell_type": "code",
      "source": [
        "marvel_link =  'https://archiveofourown.org/works?commit=Sort+and+Filter&work_search%5Bsort_column%5D=authors_to_sort_on&work_search%5Bother_tag_names%5D=&work_search%5Bexcluded_tag_names%5D=&work_search%5Bcrossover%5D=&work_search%5Bcomplete%5D=&work_search%5Bwords_from%5D=&work_search%5Bwords_to%5D=&work_search%5Bdate_from%5D=&work_search%5Bdate_to%5D=&work_search%5Bquery%5D=&work_search%5Blanguage_id%5D=&tag_id=Marvel'\n",
        "xmen_link = 'https://archiveofourown.org/works?work_search%5Bsort_column%5D=revised_at&work_search%5Bother_tag_names%5D=&exclude_work_search%5Bfreeform_ids%5D%5B%5D=11175&exclude_work_search%5Bfreeform_ids%5D%5B%5D=263297&work_search%5Bexcluded_tag_names%5D=&work_search%5Bcrossover%5D=&work_search%5Bcomplete%5D=&work_search%5Bwords_from%5D=&work_search%5Bwords_to%5D=&work_search%5Bdate_from%5D=&work_search%5Bdate_to%5D=&work_search%5Bquery%5D=&work_search%5Blanguage_id%5D=&commit=Sort+and+Filter&tag_id=Erik+Lehnsherr*s*Charles+Xavier'\n",
        "link = marvel_link\n",
        "pages = 1000"
      ],
      "metadata": {
        "id": "Qu3TE-5MHWgA"
      },
      "execution_count": 2,
      "outputs": []
    },
    {
      "cell_type": "markdown",
      "source": [
        "### Create Fanfic class\n",
        "\n",
        "It's kinda long and simple, so it's hidden. "
      ],
      "metadata": {
        "id": "9JGbR1f6QnSJ"
      }
    },
    {
      "cell_type": "code",
      "source": [
        "def clean(list): \n",
        "  \"\"\"Extracts text from list of bs4.Tags\"\"\"\n",
        "\n",
        "  return [item.get_text() for item in list]"
      ],
      "metadata": {
        "id": "DieUMyhp9rHy"
      },
      "execution_count": 3,
      "outputs": []
    },
    {
      "cell_type": "code",
      "source": [
        "class Fanfic: \n",
        "  def __init__(self, fanfic):\n",
        "    self.fic = fanfic\n",
        "    self.info = {}\n",
        "\n",
        "    self.header = self.fic.select('.heading a')\n",
        "    \n",
        "    self.get_header()\n",
        "    self.get_chapters()\n",
        "    self.get_stats()\n",
        "    self.get_date()\n",
        "    self.get_tags()\n",
        "    self.get_square()\n",
        "\n",
        "  def get_header(self):\n",
        "    \"\"\"Sets title, author nickname and list of fandoms into self.stats dict\"\"\"\n",
        "    \n",
        "    self.info['title'] = self.header[0].get_text()\n",
        "    self.info['author'] = self.header[1].get_text()\n",
        "    self.info['fandoms'] = clean(self.header[2:])\n",
        "\n",
        "  def get_chapters(self): \n",
        "    \"\"\"Sets number of chapters written and number of chapters intended\n",
        "    into self.stats dict\"\"\"\n",
        "\n",
        "    def smart_int(n):\n",
        "      try: \n",
        "        return int(n)\n",
        "      except:\n",
        "        return None\n",
        "\n",
        "    chapters = self.fic.select('dd.chapters')[0].get_text()\n",
        "    written, total = map(smart_int, chapters.split('/'))\n",
        "\n",
        "    self.info['written'] = written\n",
        "    self.info['total'] = total\n",
        "\n",
        "  def get_number(self, selector): \n",
        "     \"\"\"Processes numerical data (removes comma so it can be turned\n",
        "     into integer)\"\"\"\n",
        "\n",
        "     try: \n",
        "\n",
        "       data = self.fic.select(selector)[0].get_text()\n",
        "       data = int(data.replace(',', ''))\n",
        "       return data\n",
        "        \n",
        "     except: return None\n",
        "\n",
        "  def get_stats(self): \n",
        "     \"\"\"Sets data collected in Stats section (words, hits, comments,\n",
        "     bookmarks, collections and language) into self.info dict\"\"\"\n",
        "\n",
        "     self.info['words'] = self.get_number('dd.words')\n",
        "     self.info['hits'] = self.get_number('dd.hits') \n",
        "     self.info['comments'] = self.get_number('dd.comments') \n",
        "     self.info['bookmarks'] = self.get_number('dd.bookmarks')\n",
        "     self.info['collections'] = self.get_number('dd.collections') \n",
        "     self.info['lang'] = self.fic.select('dd.language')[0].get_text()\n",
        "     self.info['kudos'] = self.get_number('.kudos a')\n",
        "\n",
        "  def get_date(self):  # add date of first publishing??\n",
        "    \"\"\"Sets date of the most recent update into self.dict\"\"\"\n",
        "\n",
        "    self.info['date'] = self.fic.select('.datetime')[0].get_text() \n",
        "    \n",
        "  def get_tags(self): \n",
        "    \"\"\"Sets tag-like data into self.info dict\"\"\"\n",
        "\n",
        "    self.info['characters'] = clean(self.fic.select('.characters a.tag'))\n",
        "    self.info['parings'] = clean(self.fic.select('.relationships a.tag'))\n",
        "    self.info['freeforms'] = clean(self.fic.select('.freeforms a.tag'))\n",
        "\n",
        "  def get_square(self): \n",
        "    \"\"\"Sets data from square to the left of fanfic title into self.info dict\"\"\"\n",
        "\n",
        "    self.info['rating'] = self.fic.select('.rating .text')[0].get_text()\n",
        "    self.info['category'] = clean(self.fic.select('.category .text'))\n",
        "    self.info['completion'] = self.fic.select('.iswip .text')[0].get_text()\n",
        "    self.info['warnings'] = clean(self.fic.select('.warnings a.tag'))\n",
        "\n",
        "  def get_info(self):\n",
        "     \"\"\"Return all the data about Fanfic in a DataFrame\"\"\"\n",
        "\n",
        "     df = pd.DataFrame([self.info])\n",
        "\n",
        "     return df"
      ],
      "metadata": {
        "id": "ZvMJhILFnIQI"
      },
      "execution_count": 4,
      "outputs": []
    },
    {
      "cell_type": "markdown",
      "source": [
        "### Create FanficParser"
      ],
      "metadata": {
        "id": "Qxw67WczQrww"
      }
    },
    {
      "cell_type": "code",
      "source": [
        "class FanficParser: \n",
        "  def __init__(self, initial_link):\n",
        "    self.inlink = initial_link\n",
        "    self.domain = self.get_domain()\n",
        "    self.df = pd.DataFrame()\n",
        "    self.link = self.inlink\n",
        "    self.page = 1\n",
        "\n",
        "    self.fanfics = []\n",
        "\n",
        "  def get_domain(self):\n",
        "     end_of_link = self.inlink.find('/', 8)\n",
        "     domain = self.inlink[:end_of_link]\n",
        "     return domain\n",
        "  \n",
        "  def parse_page(self): \n",
        "    page = req.get(self.link)\n",
        "    soup = BeautifulSoup(page.content, 'html.parser')\n",
        "    self.fanfics = soup.select('[role~=article]')\n",
        "\n",
        "    new_link_relative = soup.select('li.next a')[0].get('href')\n",
        "    self.link = self.domain + new_link_relative\n",
        "\n",
        "    print(f'{self.page} parsed')\n",
        "    self.page += 1\n",
        "\n",
        "  def parse(self, n_pages): \n",
        "    start_time = time()\n",
        "    \n",
        "    for i in range(n_pages): \n",
        "      self.parse_page()\n",
        "      \n",
        "      for fanfic in self.fanfics:\n",
        "        self.df = self.df.append(Fanfic(fanfic).get_info())\n",
        "\n",
        "    print(f'total {self.df.shape[0]} fanfics')\n",
        "\n",
        "    self.df.index = range(self.df.shape[0])\n",
        "\n",
        "    end_time = time()\n",
        "\n",
        "    print(f'time for execution {end_time - start_time}')\n",
        "\n",
        "  def reset(self):\n",
        "    self.df = pd.DataFrame()\n",
        "    self.link = self.inlink\n",
        "    self.page = 1\n",
        "    print('Parser resetted')"
      ],
      "metadata": {
        "id": "l-eetmC2_IgM"
      },
      "execution_count": 30,
      "outputs": []
    },
    {
      "cell_type": "markdown",
      "source": [
        "## Parse info"
      ],
      "metadata": {
        "id": "gahaw9O4o7Of"
      }
    },
    {
      "cell_type": "code",
      "source": [
        "parser = FanficParser(link)"
      ],
      "metadata": {
        "id": "q3NOz94GHfw9"
      },
      "execution_count": 32,
      "outputs": []
    },
    {
      "cell_type": "code",
      "source": [
        "parser.parse(300)"
      ],
      "metadata": {
        "id": "sEBJ40ei_iBd",
        "outputId": "d001f0cf-28e5-46ab-9983-f337018668ed",
        "colab": {
          "base_uri": "https://localhost:8080/",
          "height": 1000
        }
      },
      "execution_count": 56,
      "outputs": [
        {
          "output_type": "stream",
          "name": "stdout",
          "text": [
            "361 parsed\n",
            "362 parsed\n",
            "363 parsed\n",
            "364 parsed\n",
            "365 parsed\n",
            "366 parsed\n",
            "367 parsed\n",
            "368 parsed\n",
            "369 parsed\n",
            "370 parsed\n",
            "371 parsed\n",
            "372 parsed\n",
            "373 parsed\n",
            "374 parsed\n",
            "375 parsed\n",
            "376 parsed\n",
            "377 parsed\n",
            "378 parsed\n",
            "379 parsed\n",
            "380 parsed\n",
            "381 parsed\n",
            "382 parsed\n",
            "383 parsed\n",
            "384 parsed\n",
            "385 parsed\n",
            "386 parsed\n",
            "387 parsed\n",
            "388 parsed\n",
            "389 parsed\n",
            "390 parsed\n",
            "391 parsed\n",
            "392 parsed\n",
            "393 parsed\n",
            "394 parsed\n",
            "395 parsed\n",
            "396 parsed\n",
            "397 parsed\n",
            "398 parsed\n",
            "399 parsed\n",
            "400 parsed\n",
            "401 parsed\n",
            "402 parsed\n",
            "403 parsed\n",
            "404 parsed\n",
            "405 parsed\n",
            "406 parsed\n",
            "407 parsed\n",
            "408 parsed\n",
            "409 parsed\n",
            "410 parsed\n",
            "411 parsed\n",
            "412 parsed\n",
            "413 parsed\n",
            "414 parsed\n",
            "415 parsed\n",
            "416 parsed\n",
            "417 parsed\n",
            "418 parsed\n",
            "419 parsed\n",
            "420 parsed\n",
            "421 parsed\n",
            "422 parsed\n",
            "423 parsed\n",
            "424 parsed\n",
            "425 parsed\n",
            "426 parsed\n",
            "427 parsed\n",
            "428 parsed\n",
            "429 parsed\n",
            "430 parsed\n",
            "431 parsed\n",
            "432 parsed\n",
            "433 parsed\n",
            "434 parsed\n",
            "435 parsed\n",
            "436 parsed\n",
            "437 parsed\n",
            "438 parsed\n",
            "439 parsed\n",
            "440 parsed\n",
            "441 parsed\n",
            "442 parsed\n",
            "443 parsed\n",
            "444 parsed\n",
            "445 parsed\n",
            "446 parsed\n",
            "447 parsed\n",
            "448 parsed\n",
            "449 parsed\n",
            "450 parsed\n",
            "451 parsed\n",
            "452 parsed\n",
            "453 parsed\n",
            "454 parsed\n",
            "455 parsed\n",
            "456 parsed\n",
            "457 parsed\n",
            "458 parsed\n",
            "459 parsed\n",
            "460 parsed\n",
            "461 parsed\n",
            "462 parsed\n",
            "463 parsed\n",
            "464 parsed\n",
            "465 parsed\n",
            "466 parsed\n",
            "467 parsed\n",
            "468 parsed\n",
            "469 parsed\n",
            "470 parsed\n",
            "471 parsed\n",
            "472 parsed\n",
            "473 parsed\n",
            "474 parsed\n",
            "475 parsed\n",
            "476 parsed\n",
            "477 parsed\n",
            "478 parsed\n",
            "479 parsed\n",
            "480 parsed\n"
          ]
        },
        {
          "output_type": "error",
          "ename": "IndexError",
          "evalue": "ignored",
          "traceback": [
            "\u001b[0;31m---------------------------------------------------------------------------\u001b[0m",
            "\u001b[0;31mIndexError\u001b[0m                                Traceback (most recent call last)",
            "\u001b[0;32m<ipython-input-56-3f54856dae86>\u001b[0m in \u001b[0;36m<module>\u001b[0;34m()\u001b[0m\n\u001b[0;32m----> 1\u001b[0;31m \u001b[0mparser\u001b[0m\u001b[0;34m.\u001b[0m\u001b[0mparse\u001b[0m\u001b[0;34m(\u001b[0m\u001b[0;36m300\u001b[0m\u001b[0;34m)\u001b[0m\u001b[0;34m\u001b[0m\u001b[0;34m\u001b[0m\u001b[0m\n\u001b[0m",
            "\u001b[0;32m<ipython-input-30-1a93db3ed40f>\u001b[0m in \u001b[0;36mparse\u001b[0;34m(self, n_pages)\u001b[0m\n\u001b[1;32m     29\u001b[0m \u001b[0;34m\u001b[0m\u001b[0m\n\u001b[1;32m     30\u001b[0m     \u001b[0;32mfor\u001b[0m \u001b[0mi\u001b[0m \u001b[0;32min\u001b[0m \u001b[0mrange\u001b[0m\u001b[0;34m(\u001b[0m\u001b[0mn_pages\u001b[0m\u001b[0;34m)\u001b[0m\u001b[0;34m:\u001b[0m\u001b[0;34m\u001b[0m\u001b[0;34m\u001b[0m\u001b[0m\n\u001b[0;32m---> 31\u001b[0;31m       \u001b[0mself\u001b[0m\u001b[0;34m.\u001b[0m\u001b[0mparse_page\u001b[0m\u001b[0;34m(\u001b[0m\u001b[0;34m)\u001b[0m\u001b[0;34m\u001b[0m\u001b[0;34m\u001b[0m\u001b[0m\n\u001b[0m\u001b[1;32m     32\u001b[0m \u001b[0;34m\u001b[0m\u001b[0m\n\u001b[1;32m     33\u001b[0m       \u001b[0;32mfor\u001b[0m \u001b[0mfanfic\u001b[0m \u001b[0;32min\u001b[0m \u001b[0mself\u001b[0m\u001b[0;34m.\u001b[0m\u001b[0mfanfics\u001b[0m\u001b[0;34m:\u001b[0m\u001b[0;34m\u001b[0m\u001b[0;34m\u001b[0m\u001b[0m\n",
            "\u001b[0;32m<ipython-input-30-1a93db3ed40f>\u001b[0m in \u001b[0;36mparse_page\u001b[0;34m(self)\u001b[0m\n\u001b[1;32m     19\u001b[0m     \u001b[0mself\u001b[0m\u001b[0;34m.\u001b[0m\u001b[0mfanfics\u001b[0m \u001b[0;34m=\u001b[0m \u001b[0msoup\u001b[0m\u001b[0;34m.\u001b[0m\u001b[0mselect\u001b[0m\u001b[0;34m(\u001b[0m\u001b[0;34m'[role~=article]'\u001b[0m\u001b[0;34m)\u001b[0m\u001b[0;34m\u001b[0m\u001b[0;34m\u001b[0m\u001b[0m\n\u001b[1;32m     20\u001b[0m \u001b[0;34m\u001b[0m\u001b[0m\n\u001b[0;32m---> 21\u001b[0;31m     \u001b[0mnew_link_relative\u001b[0m \u001b[0;34m=\u001b[0m \u001b[0msoup\u001b[0m\u001b[0;34m.\u001b[0m\u001b[0mselect\u001b[0m\u001b[0;34m(\u001b[0m\u001b[0;34m'li.next a'\u001b[0m\u001b[0;34m)\u001b[0m\u001b[0;34m[\u001b[0m\u001b[0;36m0\u001b[0m\u001b[0;34m]\u001b[0m\u001b[0;34m.\u001b[0m\u001b[0mget\u001b[0m\u001b[0;34m(\u001b[0m\u001b[0;34m'href'\u001b[0m\u001b[0;34m)\u001b[0m\u001b[0;34m\u001b[0m\u001b[0;34m\u001b[0m\u001b[0m\n\u001b[0m\u001b[1;32m     22\u001b[0m     \u001b[0mself\u001b[0m\u001b[0;34m.\u001b[0m\u001b[0mlink\u001b[0m \u001b[0;34m=\u001b[0m \u001b[0mself\u001b[0m\u001b[0;34m.\u001b[0m\u001b[0mdomain\u001b[0m \u001b[0;34m+\u001b[0m \u001b[0mnew_link_relative\u001b[0m\u001b[0;34m\u001b[0m\u001b[0;34m\u001b[0m\u001b[0m\n\u001b[1;32m     23\u001b[0m \u001b[0;34m\u001b[0m\u001b[0m\n",
            "\u001b[0;31mIndexError\u001b[0m: list index out of range"
          ]
        }
      ]
    },
    {
      "cell_type": "code",
      "source": [
        "df = parser.df"
      ],
      "metadata": {
        "id": "Y9TM0mDgPpti"
      },
      "execution_count": 57,
      "outputs": []
    },
    {
      "cell_type": "code",
      "source": [
        "df.shape"
      ],
      "metadata": {
        "colab": {
          "base_uri": "https://localhost:8080/"
        },
        "id": "5WVLPG7w2MU9",
        "outputId": "7cb766e8-088b-49f8-b4c4-15433413b622"
      },
      "execution_count": 58,
      "outputs": [
        {
          "output_type": "execute_result",
          "data": {
            "text/plain": [
              "(9600, 20)"
            ]
          },
          "metadata": {},
          "execution_count": 58
        }
      ]
    },
    {
      "cell_type": "code",
      "source": [
        "df.to_csv('9600fanfics.csv')"
      ],
      "metadata": {
        "id": "lK2BrWlQCUJ1"
      },
      "execution_count": 59,
      "outputs": []
    },
    {
      "cell_type": "markdown",
      "source": [
        "# Data preprocessing \n",
        "So now we have to figure out what type of data can be suitable for our model. \n",
        "\n",
        "1. Replace missing values \n",
        "2. Parse dates \n",
        "3. Replace categorical values with numbers"
      ],
      "metadata": {
        "id": "tfnx-oG7asM8"
      }
    },
    {
      "cell_type": "code",
      "source": [
        "df['comments'] = df['comments'].fillna(0)\n",
        "df['bookmarks'] = df['bookmarks'].fillna(0)\n",
        "df['collections'] = df['collections'].fillna(0)\n",
        "df['kudos'] = df['kudos'].fillna(0)"
      ],
      "metadata": {
        "id": "STwUZLb1mSne"
      },
      "execution_count": 60,
      "outputs": []
    },
    {
      "cell_type": "code",
      "source": [
        "ratings = {\n",
        "    'Not Rated': -1,\n",
        "    'General Audiences': 0, \n",
        "    'Teen And Up Audiences': 1, \n",
        "    'Mature': 2, \n",
        "    'Explicit': 3, \n",
        "}\n",
        "replace_rating = lambda x: ratings[x] if x not in [-1, 0, 1, 2, 3] else x\n",
        "df['rating'] = df['rating'].apply(replace_rating)"
      ],
      "metadata": {
        "id": "t9Z6w-G0yqst"
      },
      "execution_count": 61,
      "outputs": []
    },
    {
      "cell_type": "code",
      "source": [
        "completion = {'Work in Progress': 0, 'Complete Work': 1}\n",
        "replace_completion = lambda x: completion[x] if x not in [0, 1] else x\n",
        "df['completion'] = df['completion'].apply(replace_completion)"
      ],
      "metadata": {
        "id": "oTGfwkcezuzP"
      },
      "execution_count": 62,
      "outputs": []
    },
    {
      "cell_type": "code",
      "source": [
        "df['date'] = df['date'].apply(pd.to_datetime)"
      ],
      "metadata": {
        "id": "6NJyYu-W30tR"
      },
      "execution_count": 63,
      "outputs": []
    },
    {
      "cell_type": "markdown",
      "source": [
        "# IDK staff"
      ],
      "metadata": {
        "id": "dCMrHnN7e83F"
      }
    },
    {
      "cell_type": "markdown",
      "source": [
        "## Let's look at the data"
      ],
      "metadata": {
        "id": "ObGPftSlNjsT"
      }
    },
    {
      "cell_type": "code",
      "source": [
        "fandom_list = set()\n",
        "\n",
        "for fandoms in df.fandoms:\n",
        "  for fandom in fandoms: \n",
        "    fandom_list.add(fandom)"
      ],
      "metadata": {
        "id": "kVfJnoEyqt2c"
      },
      "execution_count": 97,
      "outputs": []
    },
    {
      "cell_type": "code",
      "source": [
        "fandom_count = {}\n",
        "\n",
        "for fandoms in df.fandoms:\n",
        "  for fandom in fandoms: \n",
        "    try: \n",
        "      fandom_count[fandom] += 1\n",
        "    except: \n",
        "      fandom_count[fandom] = 1"
      ],
      "metadata": {
        "id": "0DX7tEJTrqFt"
      },
      "execution_count": 98,
      "outputs": []
    },
    {
      "cell_type": "code",
      "source": [
        "count = pd.Series(fandom_count)"
      ],
      "metadata": {
        "id": "d8Pvu-kSsDpr"
      },
      "execution_count": 99,
      "outputs": []
    },
    {
      "cell_type": "code",
      "source": [
        "count = count.sort_values(ascending=False)"
      ],
      "metadata": {
        "id": "Bqdmycd1sxSR"
      },
      "execution_count": 100,
      "outputs": []
    },
    {
      "cell_type": "code",
      "source": [
        "df_count = pd.DataFrame()\n",
        "df_count['count'] = count\n",
        "df_count['fandom'] = count.index"
      ],
      "metadata": {
        "id": "4urcP86rtYnM"
      },
      "execution_count": 101,
      "outputs": []
    },
    {
      "cell_type": "code",
      "source": [
        "plt.figure(figsize=(10, 16))\n",
        "sns.barplot(data=df_count[df_count['count'] > 50], x='count', y='fandom', orient='h')"
      ],
      "metadata": {
        "colab": {
          "base_uri": "https://localhost:8080/",
          "height": 932
        },
        "id": "UA35tvBQtMD2",
        "outputId": "5913bde0-9d25-4722-f4ee-ea4abedb0728"
      },
      "execution_count": 104,
      "outputs": [
        {
          "output_type": "execute_result",
          "data": {
            "text/plain": [
              "<matplotlib.axes._subplots.AxesSubplot at 0x7f6c243d6b10>"
            ]
          },
          "metadata": {},
          "execution_count": 104
        },
        {
          "output_type": "display_data",
          "data": {
            "text/plain": [
              "<Figure size 720x1152 with 1 Axes>"
            ],
            "image/png": "[encoded data removed]"
          },
          "metadata": {
            "needs_background": "light"
          }
        }
      ]
    },
    {
      "cell_type": "markdown",
      "source": [
        "## Let's look at the correlation"
      ],
      "metadata": {
        "id": "4FoamSHV1LWi"
      }
    },
    {
      "cell_type": "code",
      "source": [
        "df_num = df[['written', 'words', 'hits', 'comments', 'bookmarks', 'collections', 'rating', 'kudos', 'completion']]\n",
        "df_num['words_per_chapter'] = df_num['words'] / df_num['written']\n",
        "df_num['lang_num'] = df['lang'].apply(lambda x: 1 if x == 'English' else 0)\n",
        "df_num['kudos_per_hit'] = df['kudos'] / df['hits']"
      ],
      "metadata": {
        "id": "g3p9SX5npizp"
      },
      "execution_count": null,
      "outputs": []
    },
    {
      "cell_type": "code",
      "source": [
        "df_num.describe()"
      ],
      "metadata": {
        "colab": {
          "base_uri": "https://localhost:8080/",
          "height": 364
        },
        "id": "QqLOS2_Hwp_E",
        "outputId": "3f7ecb33-dc51-483f-90ce-a05d5e708e99"
      },
      "execution_count": 65,
      "outputs": [
        {
          "output_type": "execute_result",
          "data": {
            "text/plain": [
              "           written          words           hits     comments    bookmarks  \\\n",
              "count  9600.000000    9600.000000    9600.000000  9600.000000  9600.000000   \n",
              "mean      2.882708    7113.124583    4087.290521    26.629896    32.723125   \n",
              "std       7.328651   20506.176438   11367.410618   111.737413   123.508212   \n",
              "min       0.000000       0.000000       1.000000     0.000000     0.000000   \n",
              "25%       1.000000     998.000000     525.750000     2.000000     2.000000   \n",
              "50%       1.000000    2180.500000    1364.000000     5.000000     6.000000   \n",
              "75%       2.000000    5410.000000    3515.500000    17.000000    22.000000   \n",
              "max     373.000000  832919.000000  456526.000000  4376.000000  6094.000000   \n",
              "\n",
              "       collections       rating         kudos   completion  words_per_chapter  \\\n",
              "count  9600.000000  9600.000000   9600.000000  9600.000000          9600.0000   \n",
              "mean      0.533229     1.020938    248.140104     0.827812                inf   \n",
              "std       0.953301     1.234669    684.657556     0.377563                NaN   \n",
              "min       0.000000    -1.000000      0.000000     0.000000             0.0000   \n",
              "25%       0.000000     0.000000     28.000000     1.000000           843.7500   \n",
              "50%       0.000000     1.000000     80.000000     1.000000          1652.9375   \n",
              "75%       1.000000     2.000000    217.250000     1.000000          3148.2500   \n",
              "max      28.000000     3.000000  24526.000000     1.000000                inf   \n",
              "\n",
              "          lang_num  kudos_per_hit  \n",
              "count  9600.000000    9600.000000  \n",
              "mean      0.926771       0.067909  \n",
              "std       0.260526       0.046349  \n",
              "min       0.000000       0.000000  \n",
              "25%       1.000000       0.035768  \n",
              "50%       1.000000       0.059480  \n",
              "75%       1.000000       0.091057  \n",
              "max       1.000000       1.000000  "
            ],
            "text/html": [
              "\n",
              "  <div id=\"df-315f66ae-c331-4c48-9a82-124155958b22\">\n",
              "    <div class=\"colab-df-container\">\n",
              "      <div>\n",
              "<style scoped>\n",
              "    .dataframe tbody tr th:only-of-type {\n",
              "        vertical-align: middle;\n",
              "    }\n",
              "\n",
              "    .dataframe tbody tr th {\n",
              "        vertical-align: top;\n",
              "    }\n",
              "\n",
              "    .dataframe thead th {\n",
              "        text-align: right;\n",
              "    }\n",
              "</style>\n",
              "<table border=\"1\" class=\"dataframe\">\n",
              "  <thead>\n",
              "    <tr style=\"text-align: right;\">\n",
              "      <th></th>\n",
              "      <th>written</th>\n",
              "      <th>words</th>\n",
              "      <th>hits</th>\n",
              "      <th>comments</th>\n",
              "      <th>bookmarks</th>\n",
              "      <th>collections</th>\n",
              "      <th>rating</th>\n",
              "      <th>kudos</th>\n",
              "      <th>completion</th>\n",
              "      <th>words_per_chapter</th>\n",
              "      <th>lang_num</th>\n",
              "      <th>kudos_per_hit</th>\n",
              "    </tr>\n",
              "  </thead>\n",
              "  <tbody>\n",
              "    <tr>\n",
              "      <th>count</th>\n",
              "      <td>9600.000000</td>\n",
              "      <td>9600.000000</td>\n",
              "      <td>9600.000000</td>\n",
              "      <td>9600.000000</td>\n",
              "      <td>9600.000000</td>\n",
              "      <td>9600.000000</td>\n",
              "      <td>9600.000000</td>\n",
              "      <td>9600.000000</td>\n",
              "      <td>9600.000000</td>\n",
              "      <td>9600.0000</td>\n",
              "      <td>9600.000000</td>\n",
              "      <td>9600.000000</td>\n",
              "    </tr>\n",
              "    <tr>\n",
              "      <th>mean</th>\n",
              "      <td>2.882708</td>\n",
              "      <td>7113.124583</td>\n",
              "      <td>4087.290521</td>\n",
              "      <td>26.629896</td>\n",
              "      <td>32.723125</td>\n",
              "      <td>0.533229</td>\n",
              "      <td>1.020938</td>\n",
              "      <td>248.140104</td>\n",
              "      <td>0.827812</td>\n",
              "      <td>inf</td>\n",
              "      <td>0.926771</td>\n",
              "      <td>0.067909</td>\n",
              "    </tr>\n",
              "    <tr>\n",
              "      <th>std</th>\n",
              "      <td>7.328651</td>\n",
              "      <td>20506.176438</td>\n",
              "      <td>11367.410618</td>\n",
              "      <td>111.737413</td>\n",
              "      <td>123.508212</td>\n",
              "      <td>0.953301</td>\n",
              "      <td>1.234669</td>\n",
              "      <td>684.657556</td>\n",
              "      <td>0.377563</td>\n",
              "      <td>NaN</td>\n",
              "      <td>0.260526</td>\n",
              "      <td>0.046349</td>\n",
              "    </tr>\n",
              "    <tr>\n",
              "      <th>min</th>\n",
              "      <td>0.000000</td>\n",
              "      <td>0.000000</td>\n",
              "      <td>1.000000</td>\n",
              "      <td>0.000000</td>\n",
              "      <td>0.000000</td>\n",
              "      <td>0.000000</td>\n",
              "      <td>-1.000000</td>\n",
              "      <td>0.000000</td>\n",
              "      <td>0.000000</td>\n",
              "      <td>0.0000</td>\n",
              "      <td>0.000000</td>\n",
              "      <td>0.000000</td>\n",
              "    </tr>\n",
              "    <tr>\n",
              "      <th>25%</th>\n",
              "      <td>1.000000</td>\n",
              "      <td>998.000000</td>\n",
              "      <td>525.750000</td>\n",
              "      <td>2.000000</td>\n",
              "      <td>2.000000</td>\n",
              "      <td>0.000000</td>\n",
              "      <td>0.000000</td>\n",
              "      <td>28.000000</td>\n",
              "      <td>1.000000</td>\n",
              "      <td>843.7500</td>\n",
              "      <td>1.000000</td>\n",
              "      <td>0.035768</td>\n",
              "    </tr>\n",
              "    <tr>\n",
              "      <th>50%</th>\n",
              "      <td>1.000000</td>\n",
              "      <td>2180.500000</td>\n",
              "      <td>1364.000000</td>\n",
              "      <td>5.000000</td>\n",
              "      <td>6.000000</td>\n",
              "      <td>0.000000</td>\n",
              "      <td>1.000000</td>\n",
              "      <td>80.000000</td>\n",
              "      <td>1.000000</td>\n",
              "      <td>1652.9375</td>\n",
              "      <td>1.000000</td>\n",
              "      <td>0.059480</td>\n",
              "    </tr>\n",
              "    <tr>\n",
              "      <th>75%</th>\n",
              "      <td>2.000000</td>\n",
              "      <td>5410.000000</td>\n",
              "      <td>3515.500000</td>\n",
              "      <td>17.000000</td>\n",
              "      <td>22.000000</td>\n",
              "      <td>1.000000</td>\n",
              "      <td>2.000000</td>\n",
              "      <td>217.250000</td>\n",
              "      <td>1.000000</td>\n",
              "      <td>3148.2500</td>\n",
              "      <td>1.000000</td>\n",
              "      <td>0.091057</td>\n",
              "    </tr>\n",
              "    <tr>\n",
              "      <th>max</th>\n",
              "      <td>373.000000</td>\n",
              "      <td>832919.000000</td>\n",
              "      <td>456526.000000</td>\n",
              "      <td>4376.000000</td>\n",
              "      <td>6094.000000</td>\n",
              "      <td>28.000000</td>\n",
              "      <td>3.000000</td>\n",
              "      <td>24526.000000</td>\n",
              "      <td>1.000000</td>\n",
              "      <td>inf</td>\n",
              "      <td>1.000000</td>\n",
              "      <td>1.000000</td>\n",
              "    </tr>\n",
              "  </tbody>\n",
              "</table>\n",
              "</div>\n",
              "      <button class=\"colab-df-convert\" onclick=\"convertToInteractive('df-315f66ae-c331-4c48-9a82-124155958b22')\"\n",
              "              title=\"Convert this dataframe to an interactive table.\"\n",
              "              style=\"display:none;\">\n",
              "        \n",
              "  <svg xmlns=\"http://www.w3.org/2000/svg\" height=\"24px\"viewBox=\"0 0 24 24\"\n",
              "       width=\"24px\">\n",
              "    <path d=\"M0 0h24v24H0V0z\" fill=\"none\"/>\n",
              "    <path d=\"M18.56 5.44l.94 2.06.94-2.06 2.06-.94-2.06-.94-.94-2.06-.94 2.06-2.06.94zm-11 1L8.5 8.5l.94-2.06 2.06-.94-2.06-.94L8.5 2.5l-.94 2.06-2.06.94zm10 10l.94 2.06.94-2.06 2.06-.94-2.06-.94-.94-2.06-.94 2.06-2.06.94z\"/><path d=\"M17.41 7.96l-1.37-1.37c-.4-.4-.92-.59-1.43-.59-.52 0-1.04.2-1.43.59L10.3 9.45l-7.72 7.72c-.78.78-.78 2.05 0 2.83L4 21.41c.39.39.9.59 1.41.59.51 0 1.02-.2 1.41-.59l7.78-7.78 2.81-2.81c.8-.78.8-2.07 0-2.86zM5.41 20L4 18.59l7.72-7.72 1.47 1.35L5.41 20z\"/>\n",
              "  </svg>\n",
              "      </button>\n",
              "      \n",
              "  <style>\n",
              "    .colab-df-container {\n",
              "      display:flex;\n",
              "      flex-wrap:wrap;\n",
              "      gap: 12px;\n",
              "    }\n",
              "\n",
              "    .colab-df-convert {\n",
              "      background-color: #E8F0FE;\n",
              "      border: none;\n",
              "      border-radius: 50%;\n",
              "      cursor: pointer;\n",
              "      display: none;\n",
              "      fill: #1967D2;\n",
              "      height: 32px;\n",
              "      padding: 0 0 0 0;\n",
              "      width: 32px;\n",
              "    }\n",
              "\n",
              "    .colab-df-convert:hover {\n",
              "      background-color: #E2EBFA;\n",
              "      box-shadow: 0px 1px 2px rgba(60, 64, 67, 0.3), 0px 1px 3px 1px rgba(60, 64, 67, 0.15);\n",
              "      fill: #174EA6;\n",
              "    }\n",
              "\n",
              "    [theme=dark] .colab-df-convert {\n",
              "      background-color: #3B4455;\n",
              "      fill: #D2E3FC;\n",
              "    }\n",
              "\n",
              "    [theme=dark] .colab-df-convert:hover {\n",
              "      background-color: #434B5C;\n",
              "      box-shadow: 0px 1px 3px 1px rgba(0, 0, 0, 0.15);\n",
              "      filter: drop-shadow(0px 1px 2px rgba(0, 0, 0, 0.3));\n",
              "      fill: #FFFFFF;\n",
              "    }\n",
              "  </style>\n",
              "\n",
              "      <script>\n",
              "        const buttonEl =\n",
              "          document.querySelector('#df-315f66ae-c331-4c48-9a82-124155958b22 button.colab-df-convert');\n",
              "        buttonEl.style.display =\n",
              "          google.colab.kernel.accessAllowed ? 'block' : 'none';\n",
              "\n",
              "        async function convertToInteractive(key) {\n",
              "          const element = document.querySelector('#df-315f66ae-c331-4c48-9a82-124155958b22');\n",
              "          const dataTable =\n",
              "            await google.colab.kernel.invokeFunction('convertToInteractive',\n",
              "                                                     [key], {});\n",
              "          if (!dataTable) return;\n",
              "\n",
              "          const docLinkHtml = 'Like what you see? Visit the ' +\n",
              "            '<a target=\"_blank\" href=https://colab.research.google.com/notebooks/data_table.ipynb>data table notebook</a>'\n",
              "            + ' to learn more about interactive tables.';\n",
              "          element.innerHTML = '';\n",
              "          dataTable['output_type'] = 'display_data';\n",
              "          await google.colab.output.renderOutput(dataTable, element);\n",
              "          const docLink = document.createElement('div');\n",
              "          docLink.innerHTML = docLinkHtml;\n",
              "          element.appendChild(docLink);\n",
              "        }\n",
              "      </script>\n",
              "    </div>\n",
              "  </div>\n",
              "  "
            ]
          },
          "metadata": {},
          "execution_count": 65
        }
      ]
    },
    {
      "cell_type": "code",
      "source": [
        "df_corr = df_num.corr()"
      ],
      "metadata": {
        "id": "IxQDhwnlpw43"
      },
      "execution_count": 66,
      "outputs": []
    },
    {
      "cell_type": "code",
      "source": [
        "plt.figure(figsize=(10, 8))\n",
        "sns.heatmap(df_corr, annot=True)"
      ],
      "metadata": {
        "colab": {
          "base_uri": "https://localhost:8080/",
          "height": 588
        },
        "id": "IlzGzeeAp1bj",
        "outputId": "33e37ad3-6a6b-4826-bcb1-76dbb338189e"
      },
      "execution_count": 69,
      "outputs": [
        {
          "output_type": "execute_result",
          "data": {
            "text/plain": [
              "<matplotlib.axes._subplots.AxesSubplot at 0x7f6c2b20a410>"
            ]
          },
          "metadata": {},
          "execution_count": 69
        },
        {
          "output_type": "display_data",
          "data": {
            "text/plain": [
              "<Figure size 720x576 with 2 Axes>"
            ],
            "image/png": "[encoded data removed]"
          },
          "metadata": {
            "needs_background": "light"
          }
        }
      ]
    },
    {
      "cell_type": "markdown",
      "source": [
        "# Machine Learning yo"
      ],
      "metadata": {
        "id": "eRUqn0inFxCP"
      }
    },
    {
      "cell_type": "code",
      "source": [
        "df_num = df_num[df_num.written > 0]"
      ],
      "metadata": {
        "id": "WcXs61f0KL_Z"
      },
      "execution_count": 80,
      "outputs": []
    },
    {
      "cell_type": "code",
      "source": [
        "from sklearn.tree import DecisionTreeRegressor\n",
        "from sklearn.model_selection import train_test_split\n",
        "from sklearn.metrics import mean_absolute_error"
      ],
      "metadata": {
        "id": "WFdON2g9H-Km"
      },
      "execution_count": 92,
      "outputs": []
    },
    {
      "cell_type": "code",
      "source": [
        "y = df_num.kudos"
      ],
      "metadata": {
        "id": "yazzpCsgI4Hm"
      },
      "execution_count": 81,
      "outputs": []
    },
    {
      "cell_type": "code",
      "source": [
        "fanfic_features = ['written', 'words_per_chapter',  \n",
        "                   'words', 'rating', 'completion', 'lang_num']\n",
        "              \n",
        "X = df_num[fanfic_features]"
      ],
      "metadata": {
        "id": "VQpyo8bCI7yV"
      },
      "execution_count": 115,
      "outputs": []
    },
    {
      "cell_type": "code",
      "source": [
        "train_X, val_X, train_y, val_y = train_test_split(X, y, random_state=1)"
      ],
      "metadata": {
        "id": "OaWuuU8TKmYr"
      },
      "execution_count": 116,
      "outputs": []
    },
    {
      "cell_type": "code",
      "source": [
        "fanfic_model = DecisionTreeRegressor(random_state=1)"
      ],
      "metadata": {
        "id": "8v_iVAxTJnq-"
      },
      "execution_count": 117,
      "outputs": []
    },
    {
      "cell_type": "code",
      "source": [
        "fanfic_model.fit(train_X, train_y)"
      ],
      "metadata": {
        "id": "F9WTauTvJtts",
        "outputId": "259ad127-51f4-4a88-984d-2bc1ab12e8e0",
        "colab": {
          "base_uri": "https://localhost:8080/"
        }
      },
      "execution_count": 118,
      "outputs": [
        {
          "output_type": "execute_result",
          "data": {
            "text/plain": [
              "DecisionTreeRegressor(random_state=1)"
            ]
          },
          "metadata": {},
          "execution_count": 118
        }
      ]
    },
    {
      "cell_type": "code",
      "source": [
        "val_predictions = fanfic_model.predict(val_X)"
      ],
      "metadata": {
        "id": "i-BXKLN0KWNY"
      },
      "execution_count": 119,
      "outputs": []
    },
    {
      "cell_type": "code",
      "source": [
        "val_predictions"
      ],
      "metadata": {
        "id": "YZYpCO_7K_Gw",
        "outputId": "cb49151d-36fb-4ff5-b51a-3f6912253ebe",
        "colab": {
          "base_uri": "https://localhost:8080/"
        }
      },
      "execution_count": 110,
      "outputs": [
        {
          "output_type": "execute_result",
          "data": {
            "text/plain": [
              "array([177.,  38.,  34., ...,  45., 276.,   3.])"
            ]
          },
          "metadata": {},
          "execution_count": 110
        }
      ]
    },
    {
      "cell_type": "code",
      "source": [
        "mean_absolute_error(val_y, val_predictions)"
      ],
      "metadata": {
        "id": "dEuPBBetLBXj",
        "outputId": "93c3274a-1e91-4d5d-e74e-fd6c557019d6",
        "colab": {
          "base_uri": "https://localhost:8080/"
        }
      },
      "execution_count": 120,
      "outputs": [
        {
          "output_type": "execute_result",
          "data": {
            "text/plain": [
              "336.54360019449155"
            ]
          },
          "metadata": {},
          "execution_count": 120
        }
      ]
    },
    {
      "cell_type": "code",
      "source": [
        "y_comparison = pd.DataFrame()\n",
        "y_comparison['actual'] = val_y\n",
        "y_comparison['predicted'] = val_predictions"
      ],
      "metadata": {
        "id": "tkIkAct1LRbw"
      },
      "execution_count": 121,
      "outputs": []
    },
    {
      "cell_type": "code",
      "source": [
        "y_comparison"
      ],
      "metadata": {
        "id": "sZck7xeOLfVo",
        "outputId": "322eaec4-d68e-4c3c-e16a-59fda9427b72",
        "colab": {
          "base_uri": "https://localhost:8080/",
          "height": 424
        }
      },
      "execution_count": 122,
      "outputs": [
        {
          "output_type": "execute_result",
          "data": {
            "text/plain": [
              "      actual  predicted\n",
              "0        254       72.0\n",
              "1544      53      381.0\n",
              "5989      32      374.0\n",
              "0        233      125.0\n",
              "307      221      115.0\n",
              "...      ...        ...\n",
              "0         99      144.0\n",
              "17       135       32.0\n",
              "4613      41      175.0\n",
              "1993     263      224.0\n",
              "6033      11        5.0\n",
              "\n",
              "[2400 rows x 2 columns]"
            ],
            "text/html": [
              "\n",
              "  <div id=\"df-28ffca9e-4b4c-42f4-a27a-f0b5a74c38e8\">\n",
              "    <div class=\"colab-df-container\">\n",
              "      <div>\n",
              "<style scoped>\n",
              "    .dataframe tbody tr th:only-of-type {\n",
              "        vertical-align: middle;\n",
              "    }\n",
              "\n",
              "    .dataframe tbody tr th {\n",
              "        vertical-align: top;\n",
              "    }\n",
              "\n",
              "    .dataframe thead th {\n",
              "        text-align: right;\n",
              "    }\n",
              "</style>\n",
              "<table border=\"1\" class=\"dataframe\">\n",
              "  <thead>\n",
              "    <tr style=\"text-align: right;\">\n",
              "      <th></th>\n",
              "      <th>actual</th>\n",
              "      <th>predicted</th>\n",
              "    </tr>\n",
              "  </thead>\n",
              "  <tbody>\n",
              "    <tr>\n",
              "      <th>0</th>\n",
              "      <td>254</td>\n",
              "      <td>72.0</td>\n",
              "    </tr>\n",
              "    <tr>\n",
              "      <th>1544</th>\n",
              "      <td>53</td>\n",
              "      <td>381.0</td>\n",
              "    </tr>\n",
              "    <tr>\n",
              "      <th>5989</th>\n",
              "      <td>32</td>\n",
              "      <td>374.0</td>\n",
              "    </tr>\n",
              "    <tr>\n",
              "      <th>0</th>\n",
              "      <td>233</td>\n",
              "      <td>125.0</td>\n",
              "    </tr>\n",
              "    <tr>\n",
              "      <th>307</th>\n",
              "      <td>221</td>\n",
              "      <td>115.0</td>\n",
              "    </tr>\n",
              "    <tr>\n",
              "      <th>...</th>\n",
              "      <td>...</td>\n",
              "      <td>...</td>\n",
              "    </tr>\n",
              "    <tr>\n",
              "      <th>0</th>\n",
              "      <td>99</td>\n",
              "      <td>144.0</td>\n",
              "    </tr>\n",
              "    <tr>\n",
              "      <th>17</th>\n",
              "      <td>135</td>\n",
              "      <td>32.0</td>\n",
              "    </tr>\n",
              "    <tr>\n",
              "      <th>4613</th>\n",
              "      <td>41</td>\n",
              "      <td>175.0</td>\n",
              "    </tr>\n",
              "    <tr>\n",
              "      <th>1993</th>\n",
              "      <td>263</td>\n",
              "      <td>224.0</td>\n",
              "    </tr>\n",
              "    <tr>\n",
              "      <th>6033</th>\n",
              "      <td>11</td>\n",
              "      <td>5.0</td>\n",
              "    </tr>\n",
              "  </tbody>\n",
              "</table>\n",
              "<p>2400 rows × 2 columns</p>\n",
              "</div>\n",
              "      <button class=\"colab-df-convert\" onclick=\"convertToInteractive('df-28ffca9e-4b4c-42f4-a27a-f0b5a74c38e8')\"\n",
              "              title=\"Convert this dataframe to an interactive table.\"\n",
              "              style=\"display:none;\">\n",
              "        \n",
              "  <svg xmlns=\"http://www.w3.org/2000/svg\" height=\"24px\"viewBox=\"0 0 24 24\"\n",
              "       width=\"24px\">\n",
              "    <path d=\"M0 0h24v24H0V0z\" fill=\"none\"/>\n",
              "    <path d=\"M18.56 5.44l.94 2.06.94-2.06 2.06-.94-2.06-.94-.94-2.06-.94 2.06-2.06.94zm-11 1L8.5 8.5l.94-2.06 2.06-.94-2.06-.94L8.5 2.5l-.94 2.06-2.06.94zm10 10l.94 2.06.94-2.06 2.06-.94-2.06-.94-.94-2.06-.94 2.06-2.06.94z\"/><path d=\"M17.41 7.96l-1.37-1.37c-.4-.4-.92-.59-1.43-.59-.52 0-1.04.2-1.43.59L10.3 9.45l-7.72 7.72c-.78.78-.78 2.05 0 2.83L4 21.41c.39.39.9.59 1.41.59.51 0 1.02-.2 1.41-.59l7.78-7.78 2.81-2.81c.8-.78.8-2.07 0-2.86zM5.41 20L4 18.59l7.72-7.72 1.47 1.35L5.41 20z\"/>\n",
              "  </svg>\n",
              "      </button>\n",
              "      \n",
              "  <style>\n",
              "    .colab-df-container {\n",
              "      display:flex;\n",
              "      flex-wrap:wrap;\n",
              "      gap: 12px;\n",
              "    }\n",
              "\n",
              "    .colab-df-convert {\n",
              "      background-color: #E8F0FE;\n",
              "      border: none;\n",
              "      border-radius: 50%;\n",
              "      cursor: pointer;\n",
              "      display: none;\n",
              "      fill: #1967D2;\n",
              "      height: 32px;\n",
              "      padding: 0 0 0 0;\n",
              "      width: 32px;\n",
              "    }\n",
              "\n",
              "    .colab-df-convert:hover {\n",
              "      background-color: #E2EBFA;\n",
              "      box-shadow: 0px 1px 2px rgba(60, 64, 67, 0.3), 0px 1px 3px 1px rgba(60, 64, 67, 0.15);\n",
              "      fill: #174EA6;\n",
              "    }\n",
              "\n",
              "    [theme=dark] .colab-df-convert {\n",
              "      background-color: #3B4455;\n",
              "      fill: #D2E3FC;\n",
              "    }\n",
              "\n",
              "    [theme=dark] .colab-df-convert:hover {\n",
              "      background-color: #434B5C;\n",
              "      box-shadow: 0px 1px 3px 1px rgba(0, 0, 0, 0.15);\n",
              "      filter: drop-shadow(0px 1px 2px rgba(0, 0, 0, 0.3));\n",
              "      fill: #FFFFFF;\n",
              "    }\n",
              "  </style>\n",
              "\n",
              "      <script>\n",
              "        const buttonEl =\n",
              "          document.querySelector('#df-28ffca9e-4b4c-42f4-a27a-f0b5a74c38e8 button.colab-df-convert');\n",
              "        buttonEl.style.display =\n",
              "          google.colab.kernel.accessAllowed ? 'block' : 'none';\n",
              "\n",
              "        async function convertToInteractive(key) {\n",
              "          const element = document.querySelector('#df-28ffca9e-4b4c-42f4-a27a-f0b5a74c38e8');\n",
              "          const dataTable =\n",
              "            await google.colab.kernel.invokeFunction('convertToInteractive',\n",
              "                                                     [key], {});\n",
              "          if (!dataTable) return;\n",
              "\n",
              "          const docLinkHtml = 'Like what you see? Visit the ' +\n",
              "            '<a target=\"_blank\" href=https://colab.research.google.com/notebooks/data_table.ipynb>data table notebook</a>'\n",
              "            + ' to learn more about interactive tables.';\n",
              "          element.innerHTML = '';\n",
              "          dataTable['output_type'] = 'display_data';\n",
              "          await google.colab.output.renderOutput(dataTable, element);\n",
              "          const docLink = document.createElement('div');\n",
              "          docLink.innerHTML = docLinkHtml;\n",
              "          element.appendChild(docLink);\n",
              "        }\n",
              "      </script>\n",
              "    </div>\n",
              "  </div>\n",
              "  "
            ]
          },
          "metadata": {},
          "execution_count": 122
        }
      ]
    }
  ]
}