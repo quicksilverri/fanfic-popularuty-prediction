{
  "nbformat": 4,
  "nbformat_minor": 0,
  "metadata": {
    "colab": {
      "name": "fanfic_popularity_predictor.ipynb",
      "provenance": [],
      "authorship_tag": "ABX9TyOZK+amFvdCl4x7sbx8T5xX",
      "include_colab_link": true
    },
    "kernelspec": {
      "name": "python3",
      "display_name": "Python 3"
    },
    "language_info": {
      "name": "python"
    }
  },
  "cells": [
    {
      "cell_type": "markdown",
      "metadata": {
        "id": "view-in-github",
        "colab_type": "text"
      },
      "source": [
        "<a href=\"https://colab.research.google.com/github/quicksilverri/fanfic-popularuty-prediction/blob/main/fanfic_popularity_predictor.ipynb\" target=\"_parent\"><img src=\"https://colab.research.google.com/assets/colab-badge.svg\" alt=\"Open In Colab\"/></a>"
      ]
    },
    {
      "cell_type": "markdown",
      "source": [
        "# Importing staff"
      ],
      "metadata": {
        "id": "T7y1NbXYYXxz"
      }
    },
    {
      "cell_type": "code",
      "execution_count": 2,
      "metadata": {
        "id": "gh03JVW5YMRQ"
      },
      "outputs": [],
      "source": [
        "import requests as req\n",
        "from bs4 import BeautifulSoup\n",
        "import pandas as pd "
      ]
    },
    {
      "cell_type": "markdown",
      "source": [
        "# Gathering data from the site "
      ],
      "metadata": {
        "id": "np7Ud1WGhxDk"
      }
    },
    {
      "cell_type": "code",
      "source": [
        "link = 'https://archiveofourown.org/tags/Marvel/works?page=1'\n",
        "page = req.get(link)"
      ],
      "metadata": {
        "id": "8jp7NBqjh0bK"
      },
      "execution_count": 3,
      "outputs": []
    },
    {
      "cell_type": "markdown",
      "source": [
        "Let's get the first page:"
      ],
      "metadata": {
        "id": "cb0wh5MODZwF"
      }
    },
    {
      "cell_type": "code",
      "source": [
        "soup = BeautifulSoup(page.content, 'html.parser')"
      ],
      "metadata": {
        "id": "zvEn_3SbiIx7"
      },
      "execution_count": 4,
      "outputs": []
    },
    {
      "cell_type": "code",
      "source": [
        "fanfics = soup.select('[role~=article]')"
      ],
      "metadata": {
        "id": "oJLRdqz3EMAO"
      },
      "execution_count": 5,
      "outputs": []
    },
    {
      "cell_type": "markdown",
      "source": [
        "Header "
      ],
      "metadata": {
        "id": "nJR7JN9yLAZ1"
      }
    },
    {
      "cell_type": "code",
      "source": [
        "headers = [fanfic.select('.heading a') for fanfic in fanfics]\n",
        "\n",
        "titles = [header[0].get_text() for header in headers]\n",
        "authors = [header[1].get_text() for header in headers]\n",
        "fandoms = [[fandom.get_text() for fandom in header[2:]] for header in headers]"
      ],
      "metadata": {
        "id": "nFFLt0INnxKs"
      },
      "execution_count": 109,
      "outputs": []
    },
    {
      "cell_type": "code",
      "source": [
        "dates = [fanfic.select('.datetime')[0].get_text() for fanfic in fanfics]"
      ],
      "metadata": {
        "id": "FU3qQxwIEKJ1"
      },
      "execution_count": 74,
      "outputs": []
    },
    {
      "cell_type": "markdown",
      "source": [
        "Tags"
      ],
      "metadata": {
        "id": "8rgxLmjHLL8K"
      }
    },
    {
      "cell_type": "code",
      "source": [
        "characters_raw = [fanfic.select('.characters a.tag') for fanfic in fanfics]\n",
        "characters = [[character.get_text() for character in characters_] \n",
        "              for characters_ in characters_raw]\n",
        "\n",
        "parings_raw = [fanfic.select('.relationships a.tag') for fanfic in fanfics]\n",
        "parings = [[paring.get_text() for paring in parings_]\n",
        "           for parings_ in parings_raw]"
      ],
      "metadata": {
        "id": "wXpSXD7MFLf0"
      },
      "execution_count": 108,
      "outputs": []
    },
    {
      "cell_type": "markdown",
      "source": [
        "Stats"
      ],
      "metadata": {
        "id": "FWEyMW8-LFqA"
      }
    },
    {
      "cell_type": "code",
      "source": [
        "language = [fanfic.select('dd.language')[0].get_text() for fanfic in fanfics]\n",
        "chapters = None\n",
        "words = [fanfic.select('dd.words')[0].get_text() for fanfic in fanfics]\n",
        "kudos = None"
      ],
      "metadata": {
        "id": "QRfEWeTgKnqr"
      },
      "execution_count": 6,
      "outputs": []
    },
    {
      "cell_type": "code",
      "source": [
        "int(words[2].replace(',', ''))"
      ],
      "metadata": {
        "colab": {
          "base_uri": "https://localhost:8080/"
        },
        "id": "7sTI7ofJ_P2-",
        "outputId": "bd98601d-5628-4756-bb9c-7f39981e28c1"
      },
      "execution_count": 11,
      "outputs": [
        {
          "output_type": "execute_result",
          "data": {
            "text/plain": [
              "3248"
            ]
          },
          "metadata": {},
          "execution_count": 11
        }
      ]
    },
    {
      "cell_type": "markdown",
      "source": [
        "Square info"
      ],
      "metadata": {
        "id": "ieHKc4t2LVLI"
      }
    },
    {
      "cell_type": "code",
      "source": [
        "rating = None\n",
        "completion = None\n",
        "relationships = None\n",
        "warnings = None"
      ],
      "metadata": {
        "id": "boYyxj31LWi3"
      },
      "execution_count": null,
      "outputs": []
    },
    {
      "cell_type": "code",
      "source": [
        "descriptions = None"
      ],
      "metadata": {
        "id": "PWQVCdqDLoX0"
      },
      "execution_count": null,
      "outputs": []
    },
    {
      "cell_type": "markdown",
      "source": [
        "Here we put all the info in one DataFrame:"
      ],
      "metadata": {
        "id": "QRjNlUacD1z2"
      }
    },
    {
      "cell_type": "code",
      "source": [
        "fanfics_df = pd.DataFrame()\n",
        "fanfics_df['titles'] = pd.Series(titles)\n",
        "fanfics_df['author'] = pd.Series(authors)\n",
        "fanfics_df['fandoms'] = pd.Series(fandoms)\n",
        "fanfics_df['date'] = pd.Series(dates)\n",
        "fanfics_df['characters'] = pd.Series(characters)\n",
        "fanfics_df['parings'] = pd.Series(parings)\n",
        "fanfics_df['lang'] = pd.Series(language)"
      ],
      "metadata": {
        "id": "N5QX_-68_qDP"
      },
      "execution_count": 113,
      "outputs": []
    },
    {
      "cell_type": "code",
      "source": [
        "fanfics_df"
      ],
      "metadata": {
        "colab": {
          "base_uri": "https://localhost:8080/",
          "height": 677
        },
        "id": "jdVvJCLCAH4t",
        "outputId": "dcd63b3f-371a-4e4c-dcc6-a4335f0d063e"
      },
      "execution_count": 114,
      "outputs": [
        {
          "output_type": "execute_result",
          "data": {
            "text/plain": [
              "                                               titles                 author  \\\n",
              "0                           Unnecessary Introductions       ijustliveherekay   \n",
              "1                                       Beautiful War             habitlwt28   \n",
              "2                                             Shallow             CarryOn117   \n",
              "3                        I LOVE YOU IN EVERY UNIVERSE            IAmButAFool   \n",
              "4                                           Last Wish           Bill_Longbow   \n",
              "5                                 Mates: Loba y ángel      SupercorpSlexie24   \n",
              "6                     Daisy's Day (The Best Day Ever)          tessathetesla   \n",
              "7                longing, rusted, seventeen, daybreak        honeycombclaire   \n",
              "8                                     Please Remember         mykinkyyandere   \n",
              "9                                      A game to play              Kill_ua33   \n",
              "10                                         Retrograde            Givemesmore   \n",
              "11                                Chaos Magic Rewrite          Clints_Arrows   \n",
              "12              Peter Parker/Andrew Garfield Oneshots  MischiefManagedWriter   \n",
              "13                     Don’t take this sinner from me             Alexei2020   \n",
              "14                      Layoffs and Misunderstandings          randomshygirl   \n",
              "15                                       Tiny problem             LittleNerd   \n",
              "16                                         who we are        rubys_ramblings   \n",
              "17                                    Day 5 - \"Rules\"      imperatorkhaleesi   \n",
              "18  Bruce Banner and his Old Friend, Dr. Hannibal ...         NamelessGender   \n",
              "19               to serve, when everything else fails        rubys_ramblings   \n",
              "\n",
              "                                              fandoms         date  \\\n",
              "0   [Moon Knight (Comics), Moon Knight (TV 2022), ...  02 Jul 2022   \n",
              "1   [One Direction (Band), Marvel Cinematic Univer...  02 Jul 2022   \n",
              "2   [Marvel Cinematic Universe, The Avengers (Marv...  02 Jul 2022   \n",
              "3                         [Marvel Cinematic Universe]  02 Jul 2022   \n",
              "4   [hollyandvice (hiasobi_writes), Loran_Arameri,...  02 Jul 2022   \n",
              "5      [Marvel Cinematic Universe, Hawkeye (TV 2021)]  02 Jul 2022   \n",
              "6                       [Agents of S.H.I.E.L.D. (TV)]  02 Jul 2022   \n",
              "7   [Marvel Cinematic Universe, The Avengers (Marv...  02 Jul 2022   \n",
              "8                         [Marvel Cinematic Universe]  02 Jul 2022   \n",
              "9   [Marvel, Spider-Man - All Media Types, Deadpoo...  02 Jul 2022   \n",
              "10                      [Agents of S.H.I.E.L.D. (TV)]  02 Jul 2022   \n",
              "11  [rogers_barnes, Marvel Cinematic Universe, Har...  02 Jul 2022   \n",
              "12           [The Amazing Spider-Man (Movies - Webb)]  03 Jul 2022   \n",
              "13  [Spider-Man (Tom Holland Movies), Doctor Stran...  02 Jul 2022   \n",
              "14   [WandaVision (TV), The Avengers (Marvel Movies)]  02 Jul 2022   \n",
              "15  [Murder_and_Snacks (LittleNerd), Marvel Cinema...  02 Jul 2022   \n",
              "16                      [Agents of S.H.I.E.L.D. (TV)]  02 Jul 2022   \n",
              "17         [Thor (Movies), Marvel Cinematic Universe]  02 Jul 2022   \n",
              "18  [Marvel Cinematic Universe, The Avengers (Marv...  02 Jul 2022   \n",
              "19  [Agents of S.H.I.E.L.D. (TV), The Avengers (Ma...  02 Jul 2022   \n",
              "\n",
              "                                           characters  \\\n",
              "0   [Steven Grant (Marvel), Marc Spector, Jake Loc...   \n",
              "1   [Louis Tomlinson, Harry Styles, Zayn Malik, Ni...   \n",
              "2                                [Tony Stark, Reader]   \n",
              "3   [Wanda Maximoff, Reader, Doctor Strange, Ameri...   \n",
              "4                          [Tony Stark, Steve Rogers]   \n",
              "5   [Yelena Belova, Kate Bishop, Natasha Romanov (...   \n",
              "6   [Skye | Daisy Johnson, Daniel Sousa, Phil Coul...   \n",
              "7   [Peter Parker, Tony Stark, James \"Bucky\" Barne...   \n",
              "8            [Stephen Strange, Loki (Marvel), Reader]   \n",
              "9   [Wade Wilson, Peter Parker, Avengers - Character]   \n",
              "10  [Skye | Daisy Johnson, Grant Ward, Phil Coulso...   \n",
              "11  [Other Character Tags to Be Added, Steve Roger...   \n",
              "12                         [Peter Parker, Gwen Stacy]   \n",
              "13  [Stephen Strange, Peter Parker, Wong (Marvel),...   \n",
              "14                                                 []   \n",
              "15  [Peter Parker, Tony Stark, Steve Rogers, Thor ...   \n",
              "16  [Phil Coulson, Grant Ward, Skye | Daisy Johnso...   \n",
              "17           [Brunnhilde | Valkyrie (Marvel), Reader]   \n",
              "18  [Bruce Banner, Hannibal Lecter, Avengers Team,...   \n",
              "19  [Phil Coulson, Melinda May, Skye | Daisy Johns...   \n",
              "\n",
              "                                              parings     lang  \n",
              "0   [Steven Grant & Khonshu (Moon Knight) & Jake L...  English  \n",
              "1                      [Harry Styles/Louis Tomlinson]  English  \n",
              "2         [Tony Stark/Reader, Avengers Team & Reader]  English  \n",
              "3                             [Wanda Maximoff/Reader]  English  \n",
              "4                           [Steve Rogers/Tony Stark]  English  \n",
              "5   [Yelena Belova/Kate Bishop, Clint Barton/Laura...  Español  \n",
              "6   [Skye | Daisy Johnson/Daniel Sousa, Phil Couls...  English  \n",
              "7   [James \"Bucky\" Barnes & Peter Parker, Peter Pa...  English  \n",
              "8               [Stephen Strange/Reader, Loki/Reader]  English  \n",
              "9                          [Peter Parker/Wade Wilson]  English  \n",
              "10                  [Skye | Daisy Johnson/Grant Ward]  English  \n",
              "11  [Steve Rogers/Howard Stark, James \"Bucky\" Barn...  English  \n",
              "12  [Peter Parker/Reader, Peter Parker/You, Andrew...  English  \n",
              "13                     [Peter Parker/Stephen Strange]  English  \n",
              "14   [Wanda Maximoff/Reader, Wanda Maximoff & Reader]  English  \n",
              "15  [Peter Parker & Tony Stark, Peter Parker & Tho...  English  \n",
              "16  [Phil Coulson & Skye | Daisy Johnson, Leo Fitz...  English  \n",
              "17  [Brunnhilde | Valkyrie (Marvel) & Reader, Brun...  English  \n",
              "18  [Avengers Team & Bruce Banner, Bruce Banner & ...  English  \n",
              "19  [Phil Coulson & Melinda May, Alphonso \"Mack\" M...  English  "
            ],
            "text/html": [
              "\n",
              "  <div id=\"df-8a8828ad-2261-4e00-b6e9-0f4ab450e48b\">\n",
              "    <div class=\"colab-df-container\">\n",
              "      <div>\n",
              "<style scoped>\n",
              "    .dataframe tbody tr th:only-of-type {\n",
              "        vertical-align: middle;\n",
              "    }\n",
              "\n",
              "    .dataframe tbody tr th {\n",
              "        vertical-align: top;\n",
              "    }\n",
              "\n",
              "    .dataframe thead th {\n",
              "        text-align: right;\n",
              "    }\n",
              "</style>\n",
              "<table border=\"1\" class=\"dataframe\">\n",
              "  <thead>\n",
              "    <tr style=\"text-align: right;\">\n",
              "      <th></th>\n",
              "      <th>titles</th>\n",
              "      <th>author</th>\n",
              "      <th>fandoms</th>\n",
              "      <th>date</th>\n",
              "      <th>characters</th>\n",
              "      <th>parings</th>\n",
              "      <th>lang</th>\n",
              "    </tr>\n",
              "  </thead>\n",
              "  <tbody>\n",
              "    <tr>\n",
              "      <th>0</th>\n",
              "      <td>Unnecessary Introductions</td>\n",
              "      <td>ijustliveherekay</td>\n",
              "      <td>[Moon Knight (Comics), Moon Knight (TV 2022), ...</td>\n",
              "      <td>02 Jul 2022</td>\n",
              "      <td>[Steven Grant (Marvel), Marc Spector, Jake Loc...</td>\n",
              "      <td>[Steven Grant &amp; Khonshu (Moon Knight) &amp; Jake L...</td>\n",
              "      <td>English</td>\n",
              "    </tr>\n",
              "    <tr>\n",
              "      <th>1</th>\n",
              "      <td>Beautiful War</td>\n",
              "      <td>habitlwt28</td>\n",
              "      <td>[One Direction (Band), Marvel Cinematic Univer...</td>\n",
              "      <td>02 Jul 2022</td>\n",
              "      <td>[Louis Tomlinson, Harry Styles, Zayn Malik, Ni...</td>\n",
              "      <td>[Harry Styles/Louis Tomlinson]</td>\n",
              "      <td>English</td>\n",
              "    </tr>\n",
              "    <tr>\n",
              "      <th>2</th>\n",
              "      <td>Shallow</td>\n",
              "      <td>CarryOn117</td>\n",
              "      <td>[Marvel Cinematic Universe, The Avengers (Marv...</td>\n",
              "      <td>02 Jul 2022</td>\n",
              "      <td>[Tony Stark, Reader]</td>\n",
              "      <td>[Tony Stark/Reader, Avengers Team &amp; Reader]</td>\n",
              "      <td>English</td>\n",
              "    </tr>\n",
              "    <tr>\n",
              "      <th>3</th>\n",
              "      <td>I LOVE YOU IN EVERY UNIVERSE</td>\n",
              "      <td>IAmButAFool</td>\n",
              "      <td>[Marvel Cinematic Universe]</td>\n",
              "      <td>02 Jul 2022</td>\n",
              "      <td>[Wanda Maximoff, Reader, Doctor Strange, Ameri...</td>\n",
              "      <td>[Wanda Maximoff/Reader]</td>\n",
              "      <td>English</td>\n",
              "    </tr>\n",
              "    <tr>\n",
              "      <th>4</th>\n",
              "      <td>Last Wish</td>\n",
              "      <td>Bill_Longbow</td>\n",
              "      <td>[hollyandvice (hiasobi_writes), Loran_Arameri,...</td>\n",
              "      <td>02 Jul 2022</td>\n",
              "      <td>[Tony Stark, Steve Rogers]</td>\n",
              "      <td>[Steve Rogers/Tony Stark]</td>\n",
              "      <td>English</td>\n",
              "    </tr>\n",
              "    <tr>\n",
              "      <th>5</th>\n",
              "      <td>Mates: Loba y ángel</td>\n",
              "      <td>SupercorpSlexie24</td>\n",
              "      <td>[Marvel Cinematic Universe, Hawkeye (TV 2021)]</td>\n",
              "      <td>02 Jul 2022</td>\n",
              "      <td>[Yelena Belova, Kate Bishop, Natasha Romanov (...</td>\n",
              "      <td>[Yelena Belova/Kate Bishop, Clint Barton/Laura...</td>\n",
              "      <td>Español</td>\n",
              "    </tr>\n",
              "    <tr>\n",
              "      <th>6</th>\n",
              "      <td>Daisy's Day (The Best Day Ever)</td>\n",
              "      <td>tessathetesla</td>\n",
              "      <td>[Agents of S.H.I.E.L.D. (TV)]</td>\n",
              "      <td>02 Jul 2022</td>\n",
              "      <td>[Skye | Daisy Johnson, Daniel Sousa, Phil Coul...</td>\n",
              "      <td>[Skye | Daisy Johnson/Daniel Sousa, Phil Couls...</td>\n",
              "      <td>English</td>\n",
              "    </tr>\n",
              "    <tr>\n",
              "      <th>7</th>\n",
              "      <td>longing, rusted, seventeen, daybreak</td>\n",
              "      <td>honeycombclaire</td>\n",
              "      <td>[Marvel Cinematic Universe, The Avengers (Marv...</td>\n",
              "      <td>02 Jul 2022</td>\n",
              "      <td>[Peter Parker, Tony Stark, James \"Bucky\" Barne...</td>\n",
              "      <td>[James \"Bucky\" Barnes &amp; Peter Parker, Peter Pa...</td>\n",
              "      <td>English</td>\n",
              "    </tr>\n",
              "    <tr>\n",
              "      <th>8</th>\n",
              "      <td>Please Remember</td>\n",
              "      <td>mykinkyyandere</td>\n",
              "      <td>[Marvel Cinematic Universe]</td>\n",
              "      <td>02 Jul 2022</td>\n",
              "      <td>[Stephen Strange, Loki (Marvel), Reader]</td>\n",
              "      <td>[Stephen Strange/Reader, Loki/Reader]</td>\n",
              "      <td>English</td>\n",
              "    </tr>\n",
              "    <tr>\n",
              "      <th>9</th>\n",
              "      <td>A game to play</td>\n",
              "      <td>Kill_ua33</td>\n",
              "      <td>[Marvel, Spider-Man - All Media Types, Deadpoo...</td>\n",
              "      <td>02 Jul 2022</td>\n",
              "      <td>[Wade Wilson, Peter Parker, Avengers - Character]</td>\n",
              "      <td>[Peter Parker/Wade Wilson]</td>\n",
              "      <td>English</td>\n",
              "    </tr>\n",
              "    <tr>\n",
              "      <th>10</th>\n",
              "      <td>Retrograde</td>\n",
              "      <td>Givemesmore</td>\n",
              "      <td>[Agents of S.H.I.E.L.D. (TV)]</td>\n",
              "      <td>02 Jul 2022</td>\n",
              "      <td>[Skye | Daisy Johnson, Grant Ward, Phil Coulso...</td>\n",
              "      <td>[Skye | Daisy Johnson/Grant Ward]</td>\n",
              "      <td>English</td>\n",
              "    </tr>\n",
              "    <tr>\n",
              "      <th>11</th>\n",
              "      <td>Chaos Magic Rewrite</td>\n",
              "      <td>Clints_Arrows</td>\n",
              "      <td>[rogers_barnes, Marvel Cinematic Universe, Har...</td>\n",
              "      <td>02 Jul 2022</td>\n",
              "      <td>[Other Character Tags to Be Added, Steve Roger...</td>\n",
              "      <td>[Steve Rogers/Howard Stark, James \"Bucky\" Barn...</td>\n",
              "      <td>English</td>\n",
              "    </tr>\n",
              "    <tr>\n",
              "      <th>12</th>\n",
              "      <td>Peter Parker/Andrew Garfield Oneshots</td>\n",
              "      <td>MischiefManagedWriter</td>\n",
              "      <td>[The Amazing Spider-Man (Movies - Webb)]</td>\n",
              "      <td>03 Jul 2022</td>\n",
              "      <td>[Peter Parker, Gwen Stacy]</td>\n",
              "      <td>[Peter Parker/Reader, Peter Parker/You, Andrew...</td>\n",
              "      <td>English</td>\n",
              "    </tr>\n",
              "    <tr>\n",
              "      <th>13</th>\n",
              "      <td>Don’t take this sinner from me</td>\n",
              "      <td>Alexei2020</td>\n",
              "      <td>[Spider-Man (Tom Holland Movies), Doctor Stran...</td>\n",
              "      <td>02 Jul 2022</td>\n",
              "      <td>[Stephen Strange, Peter Parker, Wong (Marvel),...</td>\n",
              "      <td>[Peter Parker/Stephen Strange]</td>\n",
              "      <td>English</td>\n",
              "    </tr>\n",
              "    <tr>\n",
              "      <th>14</th>\n",
              "      <td>Layoffs and Misunderstandings</td>\n",
              "      <td>randomshygirl</td>\n",
              "      <td>[WandaVision (TV), The Avengers (Marvel Movies)]</td>\n",
              "      <td>02 Jul 2022</td>\n",
              "      <td>[]</td>\n",
              "      <td>[Wanda Maximoff/Reader, Wanda Maximoff &amp; Reader]</td>\n",
              "      <td>English</td>\n",
              "    </tr>\n",
              "    <tr>\n",
              "      <th>15</th>\n",
              "      <td>Tiny problem</td>\n",
              "      <td>LittleNerd</td>\n",
              "      <td>[Murder_and_Snacks (LittleNerd), Marvel Cinema...</td>\n",
              "      <td>02 Jul 2022</td>\n",
              "      <td>[Peter Parker, Tony Stark, Steve Rogers, Thor ...</td>\n",
              "      <td>[Peter Parker &amp; Tony Stark, Peter Parker &amp; Tho...</td>\n",
              "      <td>English</td>\n",
              "    </tr>\n",
              "    <tr>\n",
              "      <th>16</th>\n",
              "      <td>who we are</td>\n",
              "      <td>rubys_ramblings</td>\n",
              "      <td>[Agents of S.H.I.E.L.D. (TV)]</td>\n",
              "      <td>02 Jul 2022</td>\n",
              "      <td>[Phil Coulson, Grant Ward, Skye | Daisy Johnso...</td>\n",
              "      <td>[Phil Coulson &amp; Skye | Daisy Johnson, Leo Fitz...</td>\n",
              "      <td>English</td>\n",
              "    </tr>\n",
              "    <tr>\n",
              "      <th>17</th>\n",
              "      <td>Day 5 - \"Rules\"</td>\n",
              "      <td>imperatorkhaleesi</td>\n",
              "      <td>[Thor (Movies), Marvel Cinematic Universe]</td>\n",
              "      <td>02 Jul 2022</td>\n",
              "      <td>[Brunnhilde | Valkyrie (Marvel), Reader]</td>\n",
              "      <td>[Brunnhilde | Valkyrie (Marvel) &amp; Reader, Brun...</td>\n",
              "      <td>English</td>\n",
              "    </tr>\n",
              "    <tr>\n",
              "      <th>18</th>\n",
              "      <td>Bruce Banner and his Old Friend, Dr. Hannibal ...</td>\n",
              "      <td>NamelessGender</td>\n",
              "      <td>[Marvel Cinematic Universe, The Avengers (Marv...</td>\n",
              "      <td>02 Jul 2022</td>\n",
              "      <td>[Bruce Banner, Hannibal Lecter, Avengers Team,...</td>\n",
              "      <td>[Avengers Team &amp; Bruce Banner, Bruce Banner &amp; ...</td>\n",
              "      <td>English</td>\n",
              "    </tr>\n",
              "    <tr>\n",
              "      <th>19</th>\n",
              "      <td>to serve, when everything else fails</td>\n",
              "      <td>rubys_ramblings</td>\n",
              "      <td>[Agents of S.H.I.E.L.D. (TV), The Avengers (Ma...</td>\n",
              "      <td>02 Jul 2022</td>\n",
              "      <td>[Phil Coulson, Melinda May, Skye | Daisy Johns...</td>\n",
              "      <td>[Phil Coulson &amp; Melinda May, Alphonso \"Mack\" M...</td>\n",
              "      <td>English</td>\n",
              "    </tr>\n",
              "  </tbody>\n",
              "</table>\n",
              "</div>\n",
              "      <button class=\"colab-df-convert\" onclick=\"convertToInteractive('df-8a8828ad-2261-4e00-b6e9-0f4ab450e48b')\"\n",
              "              title=\"Convert this dataframe to an interactive table.\"\n",
              "              style=\"display:none;\">\n",
              "        \n",
              "  <svg xmlns=\"http://www.w3.org/2000/svg\" height=\"24px\"viewBox=\"0 0 24 24\"\n",
              "       width=\"24px\">\n",
              "    <path d=\"M0 0h24v24H0V0z\" fill=\"none\"/>\n",
              "    <path d=\"M18.56 5.44l.94 2.06.94-2.06 2.06-.94-2.06-.94-.94-2.06-.94 2.06-2.06.94zm-11 1L8.5 8.5l.94-2.06 2.06-.94-2.06-.94L8.5 2.5l-.94 2.06-2.06.94zm10 10l.94 2.06.94-2.06 2.06-.94-2.06-.94-.94-2.06-.94 2.06-2.06.94z\"/><path d=\"M17.41 7.96l-1.37-1.37c-.4-.4-.92-.59-1.43-.59-.52 0-1.04.2-1.43.59L10.3 9.45l-7.72 7.72c-.78.78-.78 2.05 0 2.83L4 21.41c.39.39.9.59 1.41.59.51 0 1.02-.2 1.41-.59l7.78-7.78 2.81-2.81c.8-.78.8-2.07 0-2.86zM5.41 20L4 18.59l7.72-7.72 1.47 1.35L5.41 20z\"/>\n",
              "  </svg>\n",
              "      </button>\n",
              "      \n",
              "  <style>\n",
              "    .colab-df-container {\n",
              "      display:flex;\n",
              "      flex-wrap:wrap;\n",
              "      gap: 12px;\n",
              "    }\n",
              "\n",
              "    .colab-df-convert {\n",
              "      background-color: #E8F0FE;\n",
              "      border: none;\n",
              "      border-radius: 50%;\n",
              "      cursor: pointer;\n",
              "      display: none;\n",
              "      fill: #1967D2;\n",
              "      height: 32px;\n",
              "      padding: 0 0 0 0;\n",
              "      width: 32px;\n",
              "    }\n",
              "\n",
              "    .colab-df-convert:hover {\n",
              "      background-color: #E2EBFA;\n",
              "      box-shadow: 0px 1px 2px rgba(60, 64, 67, 0.3), 0px 1px 3px 1px rgba(60, 64, 67, 0.15);\n",
              "      fill: #174EA6;\n",
              "    }\n",
              "\n",
              "    [theme=dark] .colab-df-convert {\n",
              "      background-color: #3B4455;\n",
              "      fill: #D2E3FC;\n",
              "    }\n",
              "\n",
              "    [theme=dark] .colab-df-convert:hover {\n",
              "      background-color: #434B5C;\n",
              "      box-shadow: 0px 1px 3px 1px rgba(0, 0, 0, 0.15);\n",
              "      filter: drop-shadow(0px 1px 2px rgba(0, 0, 0, 0.3));\n",
              "      fill: #FFFFFF;\n",
              "    }\n",
              "  </style>\n",
              "\n",
              "      <script>\n",
              "        const buttonEl =\n",
              "          document.querySelector('#df-8a8828ad-2261-4e00-b6e9-0f4ab450e48b button.colab-df-convert');\n",
              "        buttonEl.style.display =\n",
              "          google.colab.kernel.accessAllowed ? 'block' : 'none';\n",
              "\n",
              "        async function convertToInteractive(key) {\n",
              "          const element = document.querySelector('#df-8a8828ad-2261-4e00-b6e9-0f4ab450e48b');\n",
              "          const dataTable =\n",
              "            await google.colab.kernel.invokeFunction('convertToInteractive',\n",
              "                                                     [key], {});\n",
              "          if (!dataTable) return;\n",
              "\n",
              "          const docLinkHtml = 'Like what you see? Visit the ' +\n",
              "            '<a target=\"_blank\" href=https://colab.research.google.com/notebooks/data_table.ipynb>data table notebook</a>'\n",
              "            + ' to learn more about interactive tables.';\n",
              "          element.innerHTML = '';\n",
              "          dataTable['output_type'] = 'display_data';\n",
              "          await google.colab.output.renderOutput(dataTable, element);\n",
              "          const docLink = document.createElement('div');\n",
              "          docLink.innerHTML = docLinkHtml;\n",
              "          element.appendChild(docLink);\n",
              "        }\n",
              "      </script>\n",
              "    </div>\n",
              "  </div>\n",
              "  "
            ]
          },
          "metadata": {},
          "execution_count": 114
        }
      ]
    },
    {
      "cell_type": "markdown",
      "source": [
        "We will concat DataFrames of each page into one DataFrame. "
      ],
      "metadata": {
        "id": "SmMT9flpD8Sq"
      }
    },
    {
      "cell_type": "markdown",
      "source": [
        "# Creating parse function"
      ],
      "metadata": {
        "id": "UIkCfqZrnCRH"
      }
    },
    {
      "cell_type": "markdown",
      "source": [
        "### Create Fanfic class"
      ],
      "metadata": {
        "id": "9JGbR1f6QnSJ"
      }
    },
    {
      "cell_type": "code",
      "source": [
        "class Fanfic: \n",
        "  def __init__(self, fanfic):\n",
        "    self.fic = fanfic\n",
        "    self.info = {}\n",
        "\n",
        "    self.header = self.fic.select('.heading a')\n",
        "    \n",
        "    self.get_header()\n",
        "    self.get_chapters()\n",
        "    self.get_stats()\n",
        "\n",
        "\n",
        "  def get_header(self):\n",
        "    \"\"\"Sets title, author nickname and list of fandoms into self.stats dict\"\"\"\n",
        "    \n",
        "    title = self.header[0].get_text()\n",
        "    author = self.header[1].get_text()\n",
        "    fandoms = [fandom.get_text() for fandom in self.header[2:]]\n",
        "     \n",
        "    self.info['title'] = title\n",
        "    self.info['author'] = author\n",
        "    self.info['fandoms'] = fandoms\n",
        "\n",
        "  \n",
        "  def get_chapters(self): \n",
        "    \"\"\"Sets number of chapters written and number of chapters intended\n",
        "    into self.stats dict\"\"\"\n",
        "\n",
        "    def smart_int(n):\n",
        "      try: \n",
        "        return int(n)\n",
        "      except:\n",
        "        return None\n",
        "\n",
        "    chapters = self.fic.select('dd.chapters')[0].get_text()\n",
        "    written, total = map(smart_int, chapters.split('/'))\n",
        "\n",
        "    self.info['written'] = written\n",
        "    self.info['total'] = total\n",
        "\n",
        "  def get_number(self, selector): \n",
        "     \"\"\"Processes numerical data (removes comma so it can be turned\n",
        "     into integer)\"\"\"\n",
        "\n",
        "     if self.fic.select(selector): \n",
        "\n",
        "       data = self.fic.select(selector)[0].get_text()\n",
        "       data = int(data.replace(',', ''))\n",
        "       return data\n",
        "        \n",
        "     return None\n",
        "\n",
        "  def get_stats(self): \n",
        "     \"\"\"Returns data collected in Stats section (words, hits, comments,\n",
        "     bookmarks, collections and language)\"\"\"\n",
        "      \n",
        "     words = self.get_number('dd.words')\n",
        "     hits = self.get_number('dd.hits')\n",
        "     comments = self.get_number('dd.comments')\n",
        "     bookmarks = self.get_number('dd.bookmarks')\n",
        "     collections = self.get_number('dd.collections')\n",
        "\n",
        "     lang = self.fic.select('dd.language')[0].get_text()\n",
        "     \n",
        "     self.info['words'] = words\n",
        "     self.info['hits'] = hits \n",
        "     self.info['comments'] = comments \n",
        "     self.info['bookmarks'] = bookmarks\n",
        "     self.info['collections'] = collections \n",
        "     self.info['lang'] = lang\n",
        "\n",
        "\n",
        "  def get_info(self):\n",
        "     \"\"\"Return all the data about Fanfic in a DataFrame\"\"\"\n",
        "\n",
        "     df = pd.DataFrame([self.info])\n",
        "\n",
        "     return df"
      ],
      "metadata": {
        "id": "ZvMJhILFnIQI"
      },
      "execution_count": 108,
      "outputs": []
    },
    {
      "cell_type": "markdown",
      "source": [
        "### More interesting things"
      ],
      "metadata": {
        "id": "Qxw67WczQrww"
      }
    },
    {
      "cell_type": "code",
      "source": [
        "ff = Fanfic(fanfics[1])"
      ],
      "metadata": {
        "id": "dmxm-hRMFOKm"
      },
      "execution_count": 102,
      "outputs": []
    },
    {
      "cell_type": "code",
      "source": [
        "ff.info"
      ],
      "metadata": {
        "colab": {
          "base_uri": "https://localhost:8080/"
        },
        "id": "xdFJGv3QKeNu",
        "outputId": "617c784e-13a2-423d-f785-add63594a675"
      },
      "execution_count": 103,
      "outputs": [
        {
          "output_type": "execute_result",
          "data": {
            "text/plain": [
              "{'author': 'denimbeans',\n",
              " 'bookmarks': 583,\n",
              " 'collections': 4,\n",
              " 'comments': 2176,\n",
              " 'fandoms': ['Percy Jackson and the Olympians - Rick Riordan',\n",
              "  'Percy Jackson and the Olympians & Related Fandoms - All Media Types',\n",
              "  'Marvel Cinematic Universe',\n",
              "  'The Avengers (Marvel) - All Media Types'],\n",
              " 'hits': 117920,\n",
              " 'lang': 'English',\n",
              " 'title': 'The Lost Soldiers',\n",
              " 'total': None,\n",
              " 'words': 98953,\n",
              " 'written': 30}"
            ]
          },
          "metadata": {},
          "execution_count": 103
        }
      ]
    },
    {
      "cell_type": "code",
      "source": [
        "def parse_page(link): \n",
        "  \"\"\"Parses the given page and returns list of fanfics\"\"\"\n",
        "  page = req.get(link)\n",
        "  soup = BeautifulSoup(page.content, 'html.parser')\n",
        "  fanfics = soup.select('[role~=article]')\n",
        "\n",
        "  return fanfics \n"
      ],
      "metadata": {
        "id": "mbSvEHXDNQ-v"
      },
      "execution_count": null,
      "outputs": []
    },
    {
      "cell_type": "code",
      "source": [
        "fanfics[1].select('dl')"
      ],
      "metadata": {
        "colab": {
          "base_uri": "https://localhost:8080/"
        },
        "id": "6nFjl2PcN6Tw",
        "outputId": "09ac2a7c-781f-4042-d0bb-2b5d362ca999"
      },
      "execution_count": 19,
      "outputs": [
        {
          "output_type": "execute_result",
          "data": {
            "text/plain": [
              "[<dl class=\"stats\">\n",
              " <dt class=\"language\">Language:</dt>\n",
              " <dd class=\"language\">English</dd>\n",
              " <dt class=\"words\">Words:</dt>\n",
              " <dd class=\"words\">98,953</dd>\n",
              " <dt class=\"chapters\">Chapters:</dt>\n",
              " <dd class=\"chapters\"><a href=\"/works/36118126/chapters/100267578\">30</a>/?</dd>\n",
              " <dt class=\"collections\">Collections:</dt>\n",
              " <dd class=\"collections\"><a href=\"/works/36118126/collections\">4</a></dd>\n",
              " <dt class=\"comments\">Comments:</dt>\n",
              " <dd class=\"comments\"><a href=\"/works/36118126?show_comments=true&amp;view_full_work=true#comments\">2176</a></dd>\n",
              " <dt class=\"kudos\">Kudos:</dt>\n",
              " <dd class=\"kudos\"><a href=\"/works/36118126?view_full_work=true#kudos\">4510</a></dd>\n",
              " <dt class=\"bookmarks\">Bookmarks:</dt>\n",
              " <dd class=\"bookmarks\"><a href=\"/works/36118126/bookmarks\">583</a></dd>\n",
              " <dt class=\"hits\">Hits:</dt>\n",
              " <dd class=\"hits\">117920</dd>\n",
              " </dl>]"
            ]
          },
          "metadata": {},
          "execution_count": 19
        }
      ]
    },
    {
      "cell_type": "code",
      "source": [
        ""
      ],
      "metadata": {
        "id": "ptgDNULWA-z-"
      },
      "execution_count": null,
      "outputs": []
    },
    {
      "cell_type": "code",
      "source": [
        "chapters = [fanfic.select('dd.chapters')[0].get_text() for fanfic in fanfics]"
      ],
      "metadata": {
        "id": "kgve2VBXOCuo"
      },
      "execution_count": 137,
      "outputs": []
    },
    {
      "cell_type": "code",
      "source": [
        "chapters"
      ],
      "metadata": {
        "colab": {
          "base_uri": "https://localhost:8080/"
        },
        "id": "zOsIgPf4OL9Q",
        "outputId": "d45c3440-4a94-4645-f48e-793821de9289"
      },
      "execution_count": 139,
      "outputs": [
        {
          "output_type": "execute_result",
          "data": {
            "text/plain": [
              "['2/7',\n",
              " '23/?',\n",
              " '1/1',\n",
              " '1/1',\n",
              " '1/1',\n",
              " '6/?',\n",
              " '1/1',\n",
              " '3/17',\n",
              " '1/1',\n",
              " '1/1',\n",
              " '21/?',\n",
              " '25/?',\n",
              " '24/?',\n",
              " '1/1',\n",
              " '1/1',\n",
              " '13/?',\n",
              " '18/19',\n",
              " '1/1',\n",
              " '1/?',\n",
              " '13/14']"
            ]
          },
          "metadata": {},
          "execution_count": 139
        }
      ]
    },
    {
      "cell_type": "code",
      "source": [
        "total"
      ],
      "metadata": {
        "id": "BHfhrZ3HQafw"
      },
      "execution_count": 149,
      "outputs": []
    },
    {
      "cell_type": "code",
      "source": [
        "stats"
      ],
      "metadata": {
        "colab": {
          "base_uri": "https://localhost:8080/"
        },
        "id": "8IhBryJeOdfB",
        "outputId": "75db5d84-e1f1-477d-cff5-a540ca8387c5"
      },
      "execution_count": 122,
      "outputs": [
        {
          "output_type": "execute_result",
          "data": {
            "text/plain": [
              "[['English', '2,683', '2/7', '4', '68', '6', '321'],\n",
              " ['English', '49,618', '23/?', '4', '4', '1', '166'],\n",
              " ['English', '2,568', '1/1', '0'],\n",
              " ['English', '5,000', '1/1', '0'],\n",
              " ['English', '1,759', '1/1', '1', '0'],\n",
              " ['Español', '39,284', '6/?', '13', '55', '3', '1120'],\n",
              " ['English', '1,290', '1/1', '0'],\n",
              " ['English', '8,219', '3/17', '11', '91', '21', '889'],\n",
              " ['English', '2,733', '1/1', '0'],\n",
              " ['English', '921', '1/1', '2'],\n",
              " ['English', '112,927', '21/?', '131', '116', '18', '4547'],\n",
              " ['English', '68,359', '25/?', '1', '240'],\n",
              " ['English', '43,572', '24/?', '3', '135', '16', '4409'],\n",
              " ['English', '1,545', '1/1', '0'],\n",
              " ['English', '7,445', '1/1', '0'],\n",
              " ['English', '37,543', '13/?', '127', '605', '115', '20293'],\n",
              " ['English', '3,105', '18/19', '8', '9', '262'],\n",
              " ['English', '819', '1/1', '0'],\n",
              " ['English', '1,730', '1/?', '0'],\n",
              " ['English', '8,278', '13/14', '48', '41', '12', '1212']]"
            ]
          },
          "metadata": {},
          "execution_count": 122
        }
      ]
    }
  ]
}