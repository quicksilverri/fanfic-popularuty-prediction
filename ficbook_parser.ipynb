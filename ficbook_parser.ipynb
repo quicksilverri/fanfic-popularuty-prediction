{
  "nbformat": 4,
  "nbformat_minor": 0,
  "metadata": {
    "colab": {
      "name": "ficbook_parser.ipynb",
      "provenance": [],
      "authorship_tag": "ABX9TyNZ/4FQAZMmJhJzemLCrkAd",
      "include_colab_link": true
    },
    "kernelspec": {
      "name": "python3",
      "display_name": "Python 3"
    },
    "language_info": {
      "name": "python"
    }
  },
  "cells": [
    {
      "cell_type": "markdown",
      "metadata": {
        "id": "view-in-github",
        "colab_type": "text"
      },
      "source": [
        "<a href=\"https://colab.research.google.com/github/quicksilverri/fanfic-popularuty-prediction/blob/main/ficbook_parser.ipynb\" target=\"_parent\"><img src=\"https://colab.research.google.com/assets/colab-badge.svg\" alt=\"Open In Colab\"/></a>"
      ]
    },
    {
      "cell_type": "code",
      "execution_count": 2,
      "metadata": {
        "id": "uGvMTHM1Q1b4"
      },
      "outputs": [],
      "source": [
        "import pandas as pd\n",
        "import requests as req\n",
        "import seaborn as sns\n",
        "from bs4 import BeautifulSoup"
      ]
    },
    {
      "cell_type": "code",
      "source": [
        "link = 'https://ficbook.net/fanfiction/rpf/bigbang'\n",
        "pages = 10"
      ],
      "metadata": {
        "id": "hZhPqjxJRCGZ"
      },
      "execution_count": 1,
      "outputs": []
    },
    {
      "cell_type": "code",
      "source": [
        "class Fanfic: \n",
        "  def __init__(self, fanfic): \n",
        "    self.fic = fanfic\n",
        "    self.info = {}\n",
        "\n",
        "    self.get_info()\n",
        "\n",
        "    self.get_df()\n",
        "\n",
        "  def get_info(self): \n",
        "    self.info['title'] = None\n",
        "    self.info['author'] = None\n",
        "    self.info['fandoms'] = None\n",
        "    self.info['characters'] = None\n",
        "    self.info['size'] = None\n",
        "    self.info['date'] = None\n",
        "    self.info['tags'] = None\n",
        "    self.info['category'] = None\n",
        "    self.info['rating'] = None\n",
        "    self.info['completion'] = None\n",
        "    self.info['likes'] = None \n",
        "\n",
        "  def get_df(self):\n",
        "    pass"
      ],
      "metadata": {
        "id": "7zWwBz87RRkj"
      },
      "execution_count": null,
      "outputs": []
    },
    {
      "cell_type": "code",
      "source": [
        "class FanficParser:\n",
        "  def __init__(self):\n",
        "      pass"
      ],
      "metadata": {
        "id": "SUI2ei8-RblQ"
      },
      "execution_count": null,
      "outputs": []
    }
  ]
}