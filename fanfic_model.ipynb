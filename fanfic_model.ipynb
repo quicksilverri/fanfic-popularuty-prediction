{
  "nbformat": 4,
  "nbformat_minor": 0,
  "metadata": {
    "colab": {
      "name": "fanfic_model.ipynb",
      "provenance": [],
      "authorship_tag": "ABX9TyOkTEOl9fA3JhIY9CD6p7Sq",
      "include_colab_link": true
    },
    "kernelspec": {
      "name": "python3",
      "display_name": "Python 3"
    },
    "language_info": {
      "name": "python"
    }
  },
  "cells": [
    {
      "cell_type": "markdown",
      "metadata": {
        "id": "view-in-github",
        "colab_type": "text"
      },
      "source": [
        "<a href=\"https://colab.research.google.com/github/quicksilverri/fanfic-popularuty-prediction/blob/main/fanfic_model.ipynb\" target=\"_parent\"><img src=\"https://colab.research.google.com/assets/colab-badge.svg\" alt=\"Open In Colab\"/></a>"
      ]
    },
    {
      "cell_type": "markdown",
      "source": [
        "# Fanfic Popularity Prediction"
      ],
      "metadata": {
        "id": "MzLrFuPNvFuf"
      }
    },
    {
      "cell_type": "markdown",
      "source": [
        "Articles: \n",
        "1. https://mobius-project.eu/predicting-content-popularity-in-fanfiction-communities/\n",
        "2. https://medium.com/@vkalkunte/what-makes-a-long-fanfic-predicting-word-count-of-fanfiction-from-ao3-c4e468758e56\n",
        "\n",
        "\n",
        "HOW TO DEAL WITH LIST VALUES IN PANDAS: https://towardsdatascience.com/dealing-with-list-values-in-pandas-dataframes-a177e534f173\n"
      ],
      "metadata": {
        "id": "WA81pIDessVr"
      }
    },
    {
      "cell_type": "markdown",
      "source": [
        "## Import staff"
      ],
      "metadata": {
        "id": "ufd2-gT4vNkX"
      }
    },
    {
      "cell_type": "code",
      "execution_count": 1,
      "metadata": {
        "id": "ZbS5Tbk5raFn"
      },
      "outputs": [],
      "source": [
        "import pandas as pd \n",
        "import matplotlib.pyplot as plt\n",
        "import seaborn as sns\n",
        "\n",
        "\n",
        "%matplotlib inline"
      ]
    },
    {
      "cell_type": "code",
      "source": [
        "df = pd.read_csv('https://raw.githubusercontent.com/quicksilverri/fanfic-popularuty-prediction/main/11640fanfics.csv', index_col=0)"
      ],
      "metadata": {
        "id": "mOr0hTyOrrgb"
      },
      "execution_count": 5,
      "outputs": []
    },
    {
      "cell_type": "code",
      "source": [
        "df.sample()"
      ],
      "metadata": {
        "colab": {
          "base_uri": "https://localhost:8080/",
          "height": 212
        },
        "id": "TgshqbrdrweS",
        "outputId": "e34a781c-7efc-49e1-a4cc-6bfe711a514f"
      },
      "execution_count": 7,
      "outputs": [
        {
          "output_type": "execute_result",
          "data": {
            "text/plain": [
              "            title     author  \\\n",
              "508  Hey, Gunther  1211algeo   \n",
              "\n",
              "                                               fandoms  written  total  \\\n",
              "508  ['Spider-Man - All Media Types', 'Spider-Man (...        1    1.0   \n",
              "\n",
              "      words  hits  comments  bookmarks  collections     lang  kudos  \\\n",
              "508  3864.0   701       3.0        2.0          NaN  English   54.0   \n",
              "\n",
              "            date                                         characters  \\\n",
              "508  15 Sep 2021  ['Otto Octavius', 'Doctor Octopus', 'Doc Ock',...   \n",
              "\n",
              "                                               parings  \\\n",
              "508  ['Otto Octavius/Reader', 'Doc Ock/Reader', 'Do...   \n",
              "\n",
              "                                             freeforms                 rating  \\\n",
              "508  ['angsty fluff', 'ah yes another time with the...  Teen And Up Audiences   \n",
              "\n",
              "         category     completion                       warnings  \n",
              "508  ['F/M, Gen']  Complete Work  ['No Archive Warnings Apply']  "
            ],
            "text/html": [
              "\n",
              "  <div id=\"df-0717592d-a499-4955-83f3-ac24641ec5d4\">\n",
              "    <div class=\"colab-df-container\">\n",
              "      <div>\n",
              "<style scoped>\n",
              "    .dataframe tbody tr th:only-of-type {\n",
              "        vertical-align: middle;\n",
              "    }\n",
              "\n",
              "    .dataframe tbody tr th {\n",
              "        vertical-align: top;\n",
              "    }\n",
              "\n",
              "    .dataframe thead th {\n",
              "        text-align: right;\n",
              "    }\n",
              "</style>\n",
              "<table border=\"1\" class=\"dataframe\">\n",
              "  <thead>\n",
              "    <tr style=\"text-align: right;\">\n",
              "      <th></th>\n",
              "      <th>title</th>\n",
              "      <th>author</th>\n",
              "      <th>fandoms</th>\n",
              "      <th>written</th>\n",
              "      <th>total</th>\n",
              "      <th>words</th>\n",
              "      <th>hits</th>\n",
              "      <th>comments</th>\n",
              "      <th>bookmarks</th>\n",
              "      <th>collections</th>\n",
              "      <th>lang</th>\n",
              "      <th>kudos</th>\n",
              "      <th>date</th>\n",
              "      <th>characters</th>\n",
              "      <th>parings</th>\n",
              "      <th>freeforms</th>\n",
              "      <th>rating</th>\n",
              "      <th>category</th>\n",
              "      <th>completion</th>\n",
              "      <th>warnings</th>\n",
              "    </tr>\n",
              "  </thead>\n",
              "  <tbody>\n",
              "    <tr>\n",
              "      <th>508</th>\n",
              "      <td>Hey, Gunther</td>\n",
              "      <td>1211algeo</td>\n",
              "      <td>['Spider-Man - All Media Types', 'Spider-Man (...</td>\n",
              "      <td>1</td>\n",
              "      <td>1.0</td>\n",
              "      <td>3864.0</td>\n",
              "      <td>701</td>\n",
              "      <td>3.0</td>\n",
              "      <td>2.0</td>\n",
              "      <td>NaN</td>\n",
              "      <td>English</td>\n",
              "      <td>54.0</td>\n",
              "      <td>15 Sep 2021</td>\n",
              "      <td>['Otto Octavius', 'Doctor Octopus', 'Doc Ock',...</td>\n",
              "      <td>['Otto Octavius/Reader', 'Doc Ock/Reader', 'Do...</td>\n",
              "      <td>['angsty fluff', 'ah yes another time with the...</td>\n",
              "      <td>Teen And Up Audiences</td>\n",
              "      <td>['F/M, Gen']</td>\n",
              "      <td>Complete Work</td>\n",
              "      <td>['No Archive Warnings Apply']</td>\n",
              "    </tr>\n",
              "  </tbody>\n",
              "</table>\n",
              "</div>\n",
              "      <button class=\"colab-df-convert\" onclick=\"convertToInteractive('df-0717592d-a499-4955-83f3-ac24641ec5d4')\"\n",
              "              title=\"Convert this dataframe to an interactive table.\"\n",
              "              style=\"display:none;\">\n",
              "        \n",
              "  <svg xmlns=\"http://www.w3.org/2000/svg\" height=\"24px\"viewBox=\"0 0 24 24\"\n",
              "       width=\"24px\">\n",
              "    <path d=\"M0 0h24v24H0V0z\" fill=\"none\"/>\n",
              "    <path d=\"M18.56 5.44l.94 2.06.94-2.06 2.06-.94-2.06-.94-.94-2.06-.94 2.06-2.06.94zm-11 1L8.5 8.5l.94-2.06 2.06-.94-2.06-.94L8.5 2.5l-.94 2.06-2.06.94zm10 10l.94 2.06.94-2.06 2.06-.94-2.06-.94-.94-2.06-.94 2.06-2.06.94z\"/><path d=\"M17.41 7.96l-1.37-1.37c-.4-.4-.92-.59-1.43-.59-.52 0-1.04.2-1.43.59L10.3 9.45l-7.72 7.72c-.78.78-.78 2.05 0 2.83L4 21.41c.39.39.9.59 1.41.59.51 0 1.02-.2 1.41-.59l7.78-7.78 2.81-2.81c.8-.78.8-2.07 0-2.86zM5.41 20L4 18.59l7.72-7.72 1.47 1.35L5.41 20z\"/>\n",
              "  </svg>\n",
              "      </button>\n",
              "      \n",
              "  <style>\n",
              "    .colab-df-container {\n",
              "      display:flex;\n",
              "      flex-wrap:wrap;\n",
              "      gap: 12px;\n",
              "    }\n",
              "\n",
              "    .colab-df-convert {\n",
              "      background-color: #E8F0FE;\n",
              "      border: none;\n",
              "      border-radius: 50%;\n",
              "      cursor: pointer;\n",
              "      display: none;\n",
              "      fill: #1967D2;\n",
              "      height: 32px;\n",
              "      padding: 0 0 0 0;\n",
              "      width: 32px;\n",
              "    }\n",
              "\n",
              "    .colab-df-convert:hover {\n",
              "      background-color: #E2EBFA;\n",
              "      box-shadow: 0px 1px 2px rgba(60, 64, 67, 0.3), 0px 1px 3px 1px rgba(60, 64, 67, 0.15);\n",
              "      fill: #174EA6;\n",
              "    }\n",
              "\n",
              "    [theme=dark] .colab-df-convert {\n",
              "      background-color: #3B4455;\n",
              "      fill: #D2E3FC;\n",
              "    }\n",
              "\n",
              "    [theme=dark] .colab-df-convert:hover {\n",
              "      background-color: #434B5C;\n",
              "      box-shadow: 0px 1px 3px 1px rgba(0, 0, 0, 0.15);\n",
              "      filter: drop-shadow(0px 1px 2px rgba(0, 0, 0, 0.3));\n",
              "      fill: #FFFFFF;\n",
              "    }\n",
              "  </style>\n",
              "\n",
              "      <script>\n",
              "        const buttonEl =\n",
              "          document.querySelector('#df-0717592d-a499-4955-83f3-ac24641ec5d4 button.colab-df-convert');\n",
              "        buttonEl.style.display =\n",
              "          google.colab.kernel.accessAllowed ? 'block' : 'none';\n",
              "\n",
              "        async function convertToInteractive(key) {\n",
              "          const element = document.querySelector('#df-0717592d-a499-4955-83f3-ac24641ec5d4');\n",
              "          const dataTable =\n",
              "            await google.colab.kernel.invokeFunction('convertToInteractive',\n",
              "                                                     [key], {});\n",
              "          if (!dataTable) return;\n",
              "\n",
              "          const docLinkHtml = 'Like what you see? Visit the ' +\n",
              "            '<a target=\"_blank\" href=https://colab.research.google.com/notebooks/data_table.ipynb>data table notebook</a>'\n",
              "            + ' to learn more about interactive tables.';\n",
              "          element.innerHTML = '';\n",
              "          dataTable['output_type'] = 'display_data';\n",
              "          await google.colab.output.renderOutput(dataTable, element);\n",
              "          const docLink = document.createElement('div');\n",
              "          docLink.innerHTML = docLinkHtml;\n",
              "          element.appendChild(docLink);\n",
              "        }\n",
              "      </script>\n",
              "    </div>\n",
              "  </div>\n",
              "  "
            ]
          },
          "metadata": {},
          "execution_count": 7
        }
      ]
    },
    {
      "cell_type": "markdown",
      "source": [
        "## Preprocess data"
      ],
      "metadata": {
        "id": "RkuhmjStvRM1"
      }
    },
    {
      "cell_type": "code",
      "source": [
        "df['comments'] = df['comments'].fillna(0)\n",
        "df['bookmarks'] = df['bookmarks'].fillna(0)\n",
        "df['collections'] = df['collections'].fillna(0)\n",
        "df['kudos'] = df['kudos'].fillna(0)"
      ],
      "metadata": {
        "id": "3hUIXeW6r5jC"
      },
      "execution_count": 8,
      "outputs": []
    },
    {
      "cell_type": "code",
      "source": [
        "df['date'] = df['date'].apply(pd.to_datetime)"
      ],
      "metadata": {
        "id": "yJaEgKhfsCWf"
      },
      "execution_count": 9,
      "outputs": []
    },
    {
      "cell_type": "code",
      "source": [
        "# ratings = {\n",
        "#     'Not Rated': -1,\n",
        "#     'General Audiences': 0, \n",
        "#     'Teen And Up Audiences': 1, \n",
        "#     'Mature': 2, \n",
        "#     'Explicit': 3, \n",
        "# }\n",
        "# replace_rating = lambda x: ratings[x] if x not in [-1, 0, 1, 2, 3] else x\n",
        "# df['rating'] = df['rating'].apply(replace_rating)"
      ],
      "metadata": {
        "id": "deELyWU9r9dD"
      },
      "execution_count": null,
      "outputs": []
    },
    {
      "cell_type": "code",
      "source": [
        "# completion = {'Work in Progress': 0, 'Complete Work': 1}\n",
        "# replace_completion = lambda x: completion[x] if x not in [0, 1] else x\n",
        "# df['completion'] = df['completion'].apply(replace_completion)"
      ],
      "metadata": {
        "id": "55uda7jpr_SX"
      },
      "execution_count": null,
      "outputs": []
    },
    {
      "cell_type": "code",
      "source": [
        "# I don't think that total number of chapters is useful, so we drop it\n",
        "df.drop('total', axis=1, inplace=True)"
      ],
      "metadata": {
        "id": "UH6NwWGKsIp5"
      },
      "execution_count": 10,
      "outputs": []
    },
    {
      "cell_type": "code",
      "source": [
        "# we do not have separate columns for already written chapters \n",
        "# and total chapters, so it's reasonable to rename this column\n",
        "# to avoid problems \n",
        "\n",
        "df = df.rename(columns={'written':'chapters'})"
      ],
      "metadata": {
        "id": "t6wfaGY7t3MM"
      },
      "execution_count": 25,
      "outputs": []
    },
    {
      "cell_type": "code",
      "source": [
        "# In this dataset, it's unlikely that there will be any duplicated, \n",
        "# but I'll check just in case \n",
        "df.duplicated().unique()"
      ],
      "metadata": {
        "colab": {
          "base_uri": "https://localhost:8080/"
        },
        "id": "mtrklZujsL8E",
        "outputId": "c3715d07-5dd9-4275-e4b8-8ca0866dc635"
      },
      "execution_count": 26,
      "outputs": [
        {
          "output_type": "execute_result",
          "data": {
            "text/plain": [
              "array([False])"
            ]
          },
          "metadata": {},
          "execution_count": 26
        }
      ]
    },
    {
      "cell_type": "code",
      "source": [
        "df = df[df.words > 100]"
      ],
      "metadata": {
        "id": "OYLH3ViEsOQC"
      },
      "execution_count": 27,
      "outputs": []
    },
    {
      "cell_type": "code",
      "source": [
        "# it appears that when there is only one chapter is a fanfic\n",
        "# the number of chapters doesn't appear on the search page\n",
        "# so we'll add it manually\n",
        "\n",
        "df['chapters'] = df.loc[:, 'chapters'].apply(lambda x: 1 if x == 0 else x)"
      ],
      "metadata": {
        "id": "L32Bb68ssP0i"
      },
      "execution_count": 24,
      "outputs": []
    },
    {
      "cell_type": "code",
      "source": [
        "df['words_per_chapter'] = df.loc[:, 'words'] / df.loc[:, 'chapters']\n",
        "df['kudos_per_hit'] = df.loc[:, 'kudos'] / df.loc[:, 'hits']"
      ],
      "metadata": {
        "id": "8VVAlVAbsR49"
      },
      "execution_count": 20,
      "outputs": []
    },
    {
      "cell_type": "code",
      "source": [
        "df = df[df['kudos_per_hit'] < df['kudos_per_hit'].quantile(0.975)]"
      ],
      "metadata": {
        "id": "ScAMEmASsTjr"
      },
      "execution_count": 21,
      "outputs": []
    },
    {
      "cell_type": "code",
      "source": [
        "df.sample()"
      ],
      "metadata": {
        "colab": {
          "base_uri": "https://localhost:8080/",
          "height": 261
        },
        "id": "X44VmBkZsYdb",
        "outputId": "d3d7c04a-c286-4822-9942-269b98235da0"
      },
      "execution_count": 29,
      "outputs": [
        {
          "output_type": "execute_result",
          "data": {
            "text/plain": [
              "                                                   title  \\\n",
              "10100  Let The Devil In, Chapter 10 - Eddie Brock/Ven...   \n",
              "\n",
              "                       author  \\\n",
              "10100  ACourtofSnakesandStars   \n",
              "\n",
              "                                                 fandoms  chapters   words  \\\n",
              "10100  ['Eddie Brock - Fandom', 'Venom - Fandom', 'To...         1  4559.0   \n",
              "\n",
              "       hits  comments  bookmarks  collections     lang  ...       date  \\\n",
              "10100   428       0.0        3.0          0.0  English  ... 2022-04-04   \n",
              "\n",
              "                     characters  \\\n",
              "10100  ['Eddie Brock', 'Venom']   \n",
              "\n",
              "                                                 parings  \\\n",
              "10100  ['Eddie Brock x Reader - Relationship', 'Venom...   \n",
              "\n",
              "                                               freeforms  rating category  \\\n",
              "10100  ['Violence', 'Mention of Death', 'blood knives...  Mature  ['F/M']   \n",
              "\n",
              "          completion                                           warnings  \\\n",
              "10100  Complete Work  ['Creator Chose Not To Use Archive Warnings', ...   \n",
              "\n",
              "      words_per_chapter  kudos_per_hit  \n",
              "10100            4559.0       0.091121  \n",
              "\n",
              "[1 rows x 21 columns]"
            ],
            "text/html": [
              "\n",
              "  <div id=\"df-6d122f7d-a95d-45ff-9f56-426189fa67d0\">\n",
              "    <div class=\"colab-df-container\">\n",
              "      <div>\n",
              "<style scoped>\n",
              "    .dataframe tbody tr th:only-of-type {\n",
              "        vertical-align: middle;\n",
              "    }\n",
              "\n",
              "    .dataframe tbody tr th {\n",
              "        vertical-align: top;\n",
              "    }\n",
              "\n",
              "    .dataframe thead th {\n",
              "        text-align: right;\n",
              "    }\n",
              "</style>\n",
              "<table border=\"1\" class=\"dataframe\">\n",
              "  <thead>\n",
              "    <tr style=\"text-align: right;\">\n",
              "      <th></th>\n",
              "      <th>title</th>\n",
              "      <th>author</th>\n",
              "      <th>fandoms</th>\n",
              "      <th>chapters</th>\n",
              "      <th>words</th>\n",
              "      <th>hits</th>\n",
              "      <th>comments</th>\n",
              "      <th>bookmarks</th>\n",
              "      <th>collections</th>\n",
              "      <th>lang</th>\n",
              "      <th>...</th>\n",
              "      <th>date</th>\n",
              "      <th>characters</th>\n",
              "      <th>parings</th>\n",
              "      <th>freeforms</th>\n",
              "      <th>rating</th>\n",
              "      <th>category</th>\n",
              "      <th>completion</th>\n",
              "      <th>warnings</th>\n",
              "      <th>words_per_chapter</th>\n",
              "      <th>kudos_per_hit</th>\n",
              "    </tr>\n",
              "  </thead>\n",
              "  <tbody>\n",
              "    <tr>\n",
              "      <th>10100</th>\n",
              "      <td>Let The Devil In, Chapter 10 - Eddie Brock/Ven...</td>\n",
              "      <td>ACourtofSnakesandStars</td>\n",
              "      <td>['Eddie Brock - Fandom', 'Venom - Fandom', 'To...</td>\n",
              "      <td>1</td>\n",
              "      <td>4559.0</td>\n",
              "      <td>428</td>\n",
              "      <td>0.0</td>\n",
              "      <td>3.0</td>\n",
              "      <td>0.0</td>\n",
              "      <td>English</td>\n",
              "      <td>...</td>\n",
              "      <td>2022-04-04</td>\n",
              "      <td>['Eddie Brock', 'Venom']</td>\n",
              "      <td>['Eddie Brock x Reader - Relationship', 'Venom...</td>\n",
              "      <td>['Violence', 'Mention of Death', 'blood knives...</td>\n",
              "      <td>Mature</td>\n",
              "      <td>['F/M']</td>\n",
              "      <td>Complete Work</td>\n",
              "      <td>['Creator Chose Not To Use Archive Warnings', ...</td>\n",
              "      <td>4559.0</td>\n",
              "      <td>0.091121</td>\n",
              "    </tr>\n",
              "  </tbody>\n",
              "</table>\n",
              "<p>1 rows × 21 columns</p>\n",
              "</div>\n",
              "      <button class=\"colab-df-convert\" onclick=\"convertToInteractive('df-6d122f7d-a95d-45ff-9f56-426189fa67d0')\"\n",
              "              title=\"Convert this dataframe to an interactive table.\"\n",
              "              style=\"display:none;\">\n",
              "        \n",
              "  <svg xmlns=\"http://www.w3.org/2000/svg\" height=\"24px\"viewBox=\"0 0 24 24\"\n",
              "       width=\"24px\">\n",
              "    <path d=\"M0 0h24v24H0V0z\" fill=\"none\"/>\n",
              "    <path d=\"M18.56 5.44l.94 2.06.94-2.06 2.06-.94-2.06-.94-.94-2.06-.94 2.06-2.06.94zm-11 1L8.5 8.5l.94-2.06 2.06-.94-2.06-.94L8.5 2.5l-.94 2.06-2.06.94zm10 10l.94 2.06.94-2.06 2.06-.94-2.06-.94-.94-2.06-.94 2.06-2.06.94z\"/><path d=\"M17.41 7.96l-1.37-1.37c-.4-.4-.92-.59-1.43-.59-.52 0-1.04.2-1.43.59L10.3 9.45l-7.72 7.72c-.78.78-.78 2.05 0 2.83L4 21.41c.39.39.9.59 1.41.59.51 0 1.02-.2 1.41-.59l7.78-7.78 2.81-2.81c.8-.78.8-2.07 0-2.86zM5.41 20L4 18.59l7.72-7.72 1.47 1.35L5.41 20z\"/>\n",
              "  </svg>\n",
              "      </button>\n",
              "      \n",
              "  <style>\n",
              "    .colab-df-container {\n",
              "      display:flex;\n",
              "      flex-wrap:wrap;\n",
              "      gap: 12px;\n",
              "    }\n",
              "\n",
              "    .colab-df-convert {\n",
              "      background-color: #E8F0FE;\n",
              "      border: none;\n",
              "      border-radius: 50%;\n",
              "      cursor: pointer;\n",
              "      display: none;\n",
              "      fill: #1967D2;\n",
              "      height: 32px;\n",
              "      padding: 0 0 0 0;\n",
              "      width: 32px;\n",
              "    }\n",
              "\n",
              "    .colab-df-convert:hover {\n",
              "      background-color: #E2EBFA;\n",
              "      box-shadow: 0px 1px 2px rgba(60, 64, 67, 0.3), 0px 1px 3px 1px rgba(60, 64, 67, 0.15);\n",
              "      fill: #174EA6;\n",
              "    }\n",
              "\n",
              "    [theme=dark] .colab-df-convert {\n",
              "      background-color: #3B4455;\n",
              "      fill: #D2E3FC;\n",
              "    }\n",
              "\n",
              "    [theme=dark] .colab-df-convert:hover {\n",
              "      background-color: #434B5C;\n",
              "      box-shadow: 0px 1px 3px 1px rgba(0, 0, 0, 0.15);\n",
              "      filter: drop-shadow(0px 1px 2px rgba(0, 0, 0, 0.3));\n",
              "      fill: #FFFFFF;\n",
              "    }\n",
              "  </style>\n",
              "\n",
              "      <script>\n",
              "        const buttonEl =\n",
              "          document.querySelector('#df-6d122f7d-a95d-45ff-9f56-426189fa67d0 button.colab-df-convert');\n",
              "        buttonEl.style.display =\n",
              "          google.colab.kernel.accessAllowed ? 'block' : 'none';\n",
              "\n",
              "        async function convertToInteractive(key) {\n",
              "          const element = document.querySelector('#df-6d122f7d-a95d-45ff-9f56-426189fa67d0');\n",
              "          const dataTable =\n",
              "            await google.colab.kernel.invokeFunction('convertToInteractive',\n",
              "                                                     [key], {});\n",
              "          if (!dataTable) return;\n",
              "\n",
              "          const docLinkHtml = 'Like what you see? Visit the ' +\n",
              "            '<a target=\"_blank\" href=https://colab.research.google.com/notebooks/data_table.ipynb>data table notebook</a>'\n",
              "            + ' to learn more about interactive tables.';\n",
              "          element.innerHTML = '';\n",
              "          dataTable['output_type'] = 'display_data';\n",
              "          await google.colab.output.renderOutput(dataTable, element);\n",
              "          const docLink = document.createElement('div');\n",
              "          docLink.innerHTML = docLinkHtml;\n",
              "          element.appendChild(docLink);\n",
              "        }\n",
              "      </script>\n",
              "    </div>\n",
              "  </div>\n",
              "  "
            ]
          },
          "metadata": {},
          "execution_count": 29
        }
      ]
    },
    {
      "cell_type": "markdown",
      "source": [
        "## Building a model\n",
        "\n",
        "I'm going to try a few different models and test them to figure out which one works the best for this task"
      ],
      "metadata": {
        "id": "Wod0ihZjvX9I"
      }
    }
  ]
}